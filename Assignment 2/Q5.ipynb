{
 "cells": [
  {
   "cell_type": "code",
   "execution_count": 2,
   "id": "c449e966",
   "metadata": {
    "ExecuteTime": {
     "end_time": "2023-01-15T06:34:38.723757Z",
     "start_time": "2023-01-15T06:34:36.895736Z"
    }
   },
   "outputs": [],
   "source": [
    "import numpy as np\n",
    "from scipy import stats\n",
    "from scipy.stats import norm"
   ]
  },
  {
   "cell_type": "markdown",
   "id": "2bfea5c4",
   "metadata": {},
   "source": [
    "Q. 5.\tConsider a company that has two different divisions. The annual profits from the two divisions are independent and have distributions Profit1 ~ N(5, 32) and Profit2 ~ N(7, 42) respectively. Both the profits are in $ Million. Answer the following questions about the total profit of the company in Rupees. Assume that $1 = Rs. 45"
   ]
  },
  {
   "cell_type": "code",
   "execution_count": 3,
   "id": "09d74096",
   "metadata": {
    "ExecuteTime": {
     "end_time": "2023-01-15T06:37:15.213549Z",
     "start_time": "2023-01-15T06:37:15.193842Z"
    }
   },
   "outputs": [
    {
     "name": "stdout",
     "output_type": "stream",
     "text": [
      "Mean profit is Rs. 540 Million\n"
     ]
    }
   ],
   "source": [
    "mean = 5+7\n",
    "print('Mean profit is Rs.', mean*45, 'Million')"
   ]
  },
  {
   "cell_type": "code",
   "execution_count": 4,
   "id": "f35c35df",
   "metadata": {
    "ExecuteTime": {
     "end_time": "2023-01-15T06:38:33.435885Z",
     "start_time": "2023-01-15T06:38:33.424356Z"
    }
   },
   "outputs": [
    {
     "name": "stdout",
     "output_type": "stream",
     "text": [
      "Standerd Deviation is Rs. 225.0 Million\n"
     ]
    }
   ],
   "source": [
    "SD = np.sqrt((9)+(16))\n",
    "print('Standerd Deviation is Rs.', SD*45, 'Million')"
   ]
  },
  {
   "cell_type": "code",
   "execution_count": 5,
   "id": "171a47ff",
   "metadata": {
    "ExecuteTime": {
     "end_time": "2023-01-15T06:39:49.106833Z",
     "start_time": "2023-01-15T06:39:49.053652Z"
    }
   },
   "outputs": [
    {
     "name": "stdout",
     "output_type": "stream",
     "text": [
      "Range is Rs. (99.00810347848784, 980.9918965215122) in Millions\n"
     ]
    }
   ],
   "source": [
    "print('Range is Rs.', (stats.norm.interval(0.95,540,225)), 'in Millions')"
   ]
  },
  {
   "cell_type": "code",
   "execution_count": 6,
   "id": "481ffdde",
   "metadata": {
    "ExecuteTime": {
     "end_time": "2023-01-15T06:41:43.618512Z",
     "start_time": "2023-01-15T06:41:43.593638Z"
    }
   },
   "outputs": [
    {
     "name": "stdout",
     "output_type": "stream",
     "text": [
      "5th peercentile of profit (in million Rupees) is 202.0\n"
     ]
    }
   ],
   "source": [
    "X = 540+(-1.5)*(225)\n",
    "print('5th peercentile of profit (in million Rupees) is', np.round(X))"
   ]
  },
  {
   "cell_type": "code",
   "execution_count": 7,
   "id": "56bda4b9",
   "metadata": {
    "ExecuteTime": {
     "end_time": "2023-01-15T06:42:13.769743Z",
     "start_time": "2023-01-15T06:42:13.732860Z"
    }
   },
   "outputs": [
    {
     "data": {
      "text/plain": [
       "0.0477903522728147"
      ]
     },
     "execution_count": 7,
     "metadata": {},
     "output_type": "execute_result"
    }
   ],
   "source": [
    "stats.norm.cdf(0,5,3)"
   ]
  },
  {
   "cell_type": "code",
   "execution_count": 8,
   "id": "ae07ad02",
   "metadata": {
    "ExecuteTime": {
     "end_time": "2023-01-15T06:42:36.060459Z",
     "start_time": "2023-01-15T06:42:36.038922Z"
    }
   },
   "outputs": [
    {
     "data": {
      "text/plain": [
       "0.040059156863817086"
      ]
     },
     "execution_count": 8,
     "metadata": {},
     "output_type": "execute_result"
    }
   ],
   "source": [
    "stats.norm.cdf(0,7,4)"
   ]
  },
  {
   "cell_type": "markdown",
   "id": "4286ca88",
   "metadata": {},
   "source": [
    "A) Range is Rs (99.00810347848784, 980.9918965215122) in Millions"
   ]
  },
  {
   "cell_type": "markdown",
   "id": "b5c86a7a",
   "metadata": {},
   "source": [
    "B) To compute 5 th percentile ,we use the formula X = μ + Zσ; wherein\n",
    "from z table, 5 th percntile = -1.5 X= 540+(-1.5) * (225)\n",
    "Therefore, 5th peercentile of profit is 202.0 million Rupees"
   ]
  },
  {
   "cell_type": "markdown",
   "id": "8c4ee271",
   "metadata": {},
   "source": [
    "C)Probability of Division 1 making a loss P(X<0)\n",
    "0.047\n",
    "Probability of Division 2 making a loss P(X<0)\n",
    "0.040"
   ]
  }
 ],
 "metadata": {
  "kernelspec": {
   "display_name": "Python 3 (ipykernel)",
   "language": "python",
   "name": "python3"
  },
  "language_info": {
   "codemirror_mode": {
    "name": "ipython",
    "version": 3
   },
   "file_extension": ".py",
   "mimetype": "text/x-python",
   "name": "python",
   "nbconvert_exporter": "python",
   "pygments_lexer": "ipython3",
   "version": "3.9.13"
  }
 },
 "nbformat": 4,
 "nbformat_minor": 5
}
