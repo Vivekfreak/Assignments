{
 "cells": [
  {
   "cell_type": "code",
   "execution_count": 1,
   "id": "1d729db6",
   "metadata": {
    "ExecuteTime": {
     "end_time": "2023-02-22T09:51:40.907325Z",
     "start_time": "2023-02-22T09:51:36.309757Z"
    }
   },
   "outputs": [
    {
     "name": "stderr",
     "output_type": "stream",
     "text": [
      "[nltk_data] Downloading package stopwords to\n",
      "[nltk_data]     /Users/apekshayeotkar/nltk_data...\n",
      "[nltk_data]   Package stopwords is already up-to-date!\n"
     ]
    },
    {
     "data": {
      "text/plain": [
       "True"
      ]
     },
     "execution_count": 1,
     "metadata": {},
     "output_type": "execute_result"
    }
   ],
   "source": [
    "import nltk\n",
    "nltk.download('stopwords')"
   ]
  },
  {
   "cell_type": "code",
   "execution_count": 2,
   "id": "2221e3a0",
   "metadata": {
    "ExecuteTime": {
     "end_time": "2023-02-22T09:51:44.272500Z",
     "start_time": "2023-02-22T09:51:40.915242Z"
    }
   },
   "outputs": [
    {
     "name": "stdout",
     "output_type": "stream",
     "text": [
      "Package                           Version\n",
      "--------------------------------- --------------------\n",
      "absl-py                           1.4.0\n",
      "adjustText                        0.7.3\n",
      "alabaster                         0.7.12\n",
      "altair                            4.2.2\n",
      "anaconda-client                   1.11.0\n",
      "anaconda-navigator                2.3.2\n",
      "anaconda-project                  0.11.1\n",
      "anyio                             3.5.0\n",
      "appdirs                           1.4.4\n",
      "applaunchservices                 0.3.0\n",
      "appnope                           0.1.2\n",
      "appscript                         1.1.2\n",
      "argon2-cffi                       21.3.0\n",
      "argon2-cffi-bindings              21.2.0\n",
      "arrow                             1.2.2\n",
      "astroid                           2.11.7\n",
      "astropy                           5.1\n",
      "astunparse                        1.6.3\n",
      "atomicwrites                      1.4.0\n",
      "attrs                             21.4.0\n",
      "Automat                           20.2.0\n",
      "autopep8                          1.6.0\n",
      "Babel                             2.9.1\n",
      "backcall                          0.2.0\n",
      "backports.functools-lru-cache     1.6.4\n",
      "backports.tempfile                1.0\n",
      "backports.weakref                 1.0.post1\n",
      "bcrypt                            3.2.0\n",
      "beautifulsoup4                    4.11.1\n",
      "binaryornot                       0.4.4\n",
      "bioinfokit                        2.1.0\n",
      "bitarray                          2.5.1\n",
      "bkcharts                          0.2\n",
      "black                             22.6.0\n",
      "bleach                            4.1.0\n",
      "blinker                           1.5\n",
      "blis                              0.7.9\n",
      "bokeh                             2.4.3\n",
      "boto3                             1.24.28\n",
      "botocore                          1.27.28\n",
      "Bottleneck                        1.3.5\n",
      "brotlipy                          0.7.0\n",
      "cachetools                        5.3.0\n",
      "catalogue                         2.0.8\n",
      "certifi                           2022.9.24\n",
      "cffi                              1.15.1\n",
      "chardet                           4.0.0\n",
      "charset-normalizer                2.0.4\n",
      "click                             8.0.4\n",
      "cloudpickle                       2.0.0\n",
      "clyent                            1.2.2\n",
      "colorama                          0.4.5\n",
      "colorcet                          3.0.0\n",
      "conda                             22.9.0\n",
      "conda-build                       3.22.0\n",
      "conda-content-trust               0.1.3\n",
      "conda-pack                        0.6.0\n",
      "conda-package-handling            1.9.0\n",
      "conda-repo-cli                    1.0.20\n",
      "conda-token                       0.4.0\n",
      "conda-verify                      3.4.2\n",
      "confection                        0.0.4\n",
      "constantly                        15.1.0\n",
      "cookiecutter                      1.7.3\n",
      "cryptography                      37.0.1\n",
      "cssselect                         1.1.0\n",
      "cycler                            0.11.0\n",
      "cymem                             2.0.7\n",
      "Cython                            0.29.32\n",
      "cytoolz                           0.11.0\n",
      "daal4py                           2021.6.0\n",
      "dask                              2022.7.0\n",
      "datashader                        0.14.1\n",
      "datashape                         0.5.4\n",
      "debugpy                           1.5.1\n",
      "decorator                         5.1.1\n",
      "defusedxml                        0.7.1\n",
      "diff-match-patch                  20200713\n",
      "dill                              0.3.4\n",
      "distributed                       2022.7.0\n",
      "docutils                          0.18.1\n",
      "entrypoints                       0.4\n",
      "et-xmlfile                        1.1.0\n",
      "fastjsonschema                    2.16.2\n",
      "filelock                          3.6.0\n",
      "flake8                            4.0.1\n",
      "Flask                             1.1.2\n",
      "flatbuffers                       23.1.21\n",
      "fonttools                         4.25.0\n",
      "fsspec                            2022.7.1\n",
      "future                            0.18.2\n",
      "gast                              0.4.0\n",
      "gensim                            4.1.2\n",
      "gitdb                             4.0.10\n",
      "GitPython                         3.1.30\n",
      "glob2                             0.7\n",
      "gmpy2                             2.1.2\n",
      "google-auth                       2.16.0\n",
      "google-auth-oauthlib              0.4.6\n",
      "google-pasta                      0.2.0\n",
      "greenlet                          1.1.1\n",
      "grpcio                            1.51.1\n",
      "h5py                              3.7.0\n",
      "HeapDict                          1.0.1\n",
      "holoviews                         1.15.0\n",
      "hvplot                            0.8.0\n",
      "hyperlink                         21.0.0\n",
      "idna                              3.3\n",
      "imagecodecs                       2021.8.26\n",
      "imageio                           2.19.3\n",
      "imagesize                         1.4.1\n",
      "importlib-metadata                4.11.3\n",
      "incremental                       21.3.0\n",
      "inflection                        0.5.1\n",
      "iniconfig                         1.1.1\n",
      "intake                            0.6.5\n",
      "intervaltree                      3.1.0\n",
      "ipykernel                         6.15.2\n",
      "ipython                           7.31.1\n",
      "ipython-genutils                  0.2.0\n",
      "ipywidgets                        7.6.5\n",
      "isort                             5.9.3\n",
      "itemadapter                       0.3.0\n",
      "itemloaders                       1.0.4\n",
      "itsdangerous                      2.0.1\n",
      "jdcal                             1.4.1\n",
      "jedi                              0.18.1\n",
      "jellyfish                         0.9.0\n",
      "Jinja2                            2.11.3\n",
      "jinja2-time                       0.2.0\n",
      "jmespath                          0.10.0\n",
      "joblib                            1.1.0\n",
      "json5                             0.9.6\n",
      "jsonschema                        4.16.0\n",
      "jupyter                           1.0.0\n",
      "jupyter_client                    7.3.4\n",
      "jupyter-console                   6.4.3\n",
      "jupyter-contrib-core              0.4.2\n",
      "jupyter-contrib-nbextensions      0.7.0\n",
      "jupyter_core                      4.11.1\n",
      "jupyter-highlight-selected-word   0.2.0\n",
      "jupyter-nbextensions-configurator 0.6.1\n",
      "jupyter-server                    1.18.1\n",
      "jupyterlab                        3.4.4\n",
      "jupyterlab-pygments               0.1.2\n",
      "jupyterlab-server                 2.10.3\n",
      "jupyterlab-widgets                1.0.0\n",
      "keras                             2.11.0\n",
      "keyring                           23.4.0\n",
      "kiwisolver                        1.4.2\n",
      "langcodes                         3.3.0\n",
      "lazy-object-proxy                 1.6.0\n",
      "libarchive-c                      2.9\n",
      "libclang                          15.0.6.1\n",
      "llvmlite                          0.38.0\n",
      "locket                            1.0.0\n",
      "lxml                              4.9.1\n",
      "lz4                               3.1.3\n",
      "Markdown                          3.3.4\n",
      "markdown-it-py                    2.1.0\n",
      "MarkupSafe                        2.0.1\n",
      "matplotlib                        3.5.2\n",
      "matplotlib-inline                 0.1.6\n",
      "matplotlib-venn                   0.11.7\n",
      "mccabe                            0.7.0\n",
      "mdurl                             0.1.2\n",
      "mistune                           0.8.4\n",
      "mkl-fft                           1.3.1\n",
      "mkl-random                        1.2.2\n",
      "mkl-service                       2.4.0\n",
      "mlxtend                           0.21.0\n",
      "mock                              4.0.3\n",
      "mpmath                            1.2.1\n",
      "msgpack                           1.0.3\n",
      "multipledispatch                  0.6.0\n",
      "munkres                           1.1.4\n",
      "murmurhash                        1.0.9\n",
      "mypy-extensions                   0.4.3\n",
      "navigator-updater                 0.3.0\n",
      "nbclassic                         0.3.5\n",
      "nbclient                          0.5.13\n",
      "nbconvert                         6.4.4\n",
      "nbformat                          5.5.0\n",
      "nest-asyncio                      1.5.5\n",
      "networkx                          2.8.4\n",
      "nltk                              3.7\n",
      "nose                              1.3.7\n",
      "notebook                          6.4.12\n",
      "numba                             0.55.1\n",
      "numexpr                           2.8.3\n",
      "numpy                             1.21.5\n",
      "numpydoc                          1.4.0\n",
      "oauthlib                          3.2.2\n",
      "olefile                           0.46\n",
      "openpyxl                          3.0.10\n",
      "opt-einsum                        3.3.0\n",
      "packaging                         21.3\n",
      "pandas                            1.4.4\n",
      "pandocfilters                     1.5.0\n",
      "panel                             0.13.1\n",
      "param                             1.12.0\n",
      "parsel                            1.6.0\n",
      "parso                             0.8.3\n",
      "partd                             1.2.0\n",
      "pathlib                           1.0.1\n",
      "pathspec                          0.9.0\n",
      "pathy                             0.10.1\n",
      "patsy                             0.5.2\n"
     ]
    },
    {
     "name": "stdout",
     "output_type": "stream",
     "text": [
      "pep8                              1.7.1\n",
      "pexpect                           4.8.0\n",
      "pickleshare                       0.7.5\n",
      "Pillow                            9.2.0\n",
      "pip                               22.2.2\n",
      "pkginfo                           1.8.2\n",
      "platformdirs                      2.5.2\n",
      "plotly                            5.9.0\n",
      "pluggy                            1.0.0\n",
      "ply                               3.11\n",
      "poyo                              0.5.0\n",
      "ppscore                           1.3.0\n",
      "preshed                           3.0.8\n",
      "prometheus-client                 0.14.1\n",
      "prompt-toolkit                    3.0.20\n",
      "Protego                           0.1.16\n",
      "protobuf                          3.19.6\n",
      "psutil                            5.9.0\n",
      "ptyprocess                        0.7.0\n",
      "py                                1.11.0\n",
      "pyarrow                           11.0.0\n",
      "pyasn1                            0.4.8\n",
      "pyasn1-modules                    0.2.8\n",
      "pycodestyle                       2.8.0\n",
      "pycosat                           0.6.3\n",
      "pycparser                         2.21\n",
      "pyct                              0.4.8\n",
      "pycurl                            7.45.1\n",
      "pydantic                          1.10.4\n",
      "pydeck                            0.8.0\n",
      "PyDispatcher                      2.0.5\n",
      "pydocstyle                        6.1.1\n",
      "pyerfa                            2.0.0\n",
      "pyflakes                          2.4.0\n",
      "Pygments                          2.14.0\n",
      "PyHamcrest                        2.0.2\n",
      "PyJWT                             2.4.0\n",
      "pylint                            2.14.5\n",
      "pyls-spyder                       0.4.0\n",
      "Pympler                           1.0.1\n",
      "pyobjc-core                       8.5\n",
      "pyobjc-framework-Cocoa            8.5\n",
      "pyobjc-framework-CoreServices     8.5\n",
      "pyobjc-framework-FSEvents         8.5\n",
      "pyodbc                            4.0.34\n",
      "pyOpenSSL                         22.0.0\n",
      "pyparsing                         3.0.9\n",
      "PyQt5-sip                         12.11.0\n",
      "pyrsistent                        0.18.0\n",
      "PySocks                           1.7.1\n",
      "pytest                            7.1.2\n",
      "python-dateutil                   2.8.2\n",
      "python-lsp-black                  1.2.1\n",
      "python-lsp-jsonrpc                1.0.0\n",
      "python-lsp-server                 1.5.0\n",
      "python-slugify                    5.0.2\n",
      "python-snappy                     0.6.0\n",
      "pytz                              2022.1\n",
      "pytz-deprecation-shim             0.1.0.post0\n",
      "pyviz-comms                       2.0.2\n",
      "PyWavelets                        1.3.0\n",
      "PyYAML                            6.0\n",
      "pyzmq                             23.2.0\n",
      "QDarkStyle                        3.0.2\n",
      "qstylizer                         0.1.10\n",
      "QtAwesome                         1.0.3\n",
      "qtconsole                         5.3.2\n",
      "QtPy                              2.2.0\n",
      "queuelib                          1.5.0\n",
      "regex                             2022.7.9\n",
      "requests                          2.28.1\n",
      "requests-file                     1.5.1\n",
      "requests-oauthlib                 1.3.1\n",
      "rich                              13.3.1\n",
      "rope                              0.22.0\n",
      "rsa                               4.9\n",
      "Rtree                             0.9.7\n",
      "ruamel-yaml-conda                 0.15.100\n",
      "s3transfer                        0.6.0\n",
      "scikit-image                      0.19.2\n",
      "scikit-learn                      1.0.2\n",
      "scikit-learn-intelex              2021.20221004.121333\n",
      "scipy                             1.9.1\n",
      "Scrapy                            2.6.2\n",
      "seaborn                           0.11.2\n",
      "semver                            2.13.0\n",
      "Send2Trash                        1.8.0\n",
      "service-identity                  18.1.0\n",
      "setuptools                        63.4.1\n",
      "sip                               6.6.2\n",
      "six                               1.16.0\n",
      "smart-open                        5.2.1\n",
      "smmap                             5.0.0\n",
      "sniffio                           1.2.0\n",
      "snowballstemmer                   2.2.0\n",
      "sortedcollections                 2.1.0\n",
      "sortedcontainers                  2.4.0\n",
      "soupsieve                         2.3.1\n",
      "spacy                             3.5.0\n",
      "spacy-legacy                      3.0.12\n",
      "spacy-loggers                     1.0.4\n",
      "Sphinx                            5.0.2\n",
      "sphinxcontrib-applehelp           1.0.2\n",
      "sphinxcontrib-devhelp             1.0.2\n",
      "sphinxcontrib-htmlhelp            2.0.0\n",
      "sphinxcontrib-jsmath              1.0.1\n",
      "sphinxcontrib-qthelp              1.0.3\n",
      "sphinxcontrib-serializinghtml     1.1.5\n",
      "spyder                            5.3.3\n",
      "spyder-kernels                    2.3.3\n",
      "SQLAlchemy                        1.4.39\n",
      "srsly                             2.4.5\n",
      "statsmodels                       0.13.2\n",
      "streamlit                         1.18.1\n",
      "sympy                             1.10.1\n",
      "tables                            3.6.1\n",
      "tabulate                          0.8.10\n",
      "TBB                               0.2\n",
      "tblib                             1.7.0\n",
      "tenacity                          8.0.1\n",
      "tensorboard                       2.11.2\n",
      "tensorboard-data-server           0.6.1\n",
      "tensorboard-plugin-wit            1.8.1\n",
      "tensorflow                        2.11.0\n",
      "tensorflow-estimator              2.11.0\n",
      "tensorflow-io-gcs-filesystem      0.30.0\n",
      "termcolor                         2.2.0\n",
      "terminado                         0.13.1\n",
      "testpath                          0.6.0\n",
      "text-unidecode                    1.3\n",
      "textdistance                      4.2.1\n",
      "textwrap3                         0.9.2\n",
      "thinc                             8.1.7\n",
      "threadpoolctl                     2.2.0\n",
      "three-merge                       0.1.1\n",
      "tifffile                          2021.7.2\n",
      "tinycss                           0.4\n",
      "tldextract                        3.2.0\n",
      "toml                              0.10.2\n",
      "tomli                             2.0.1\n",
      "tomlkit                           0.11.1\n",
      "toolz                             0.11.2\n",
      "tornado                           6.1\n",
      "tqdm                              4.64.1\n",
      "traitlets                         5.1.1\n",
      "Twisted                           22.2.0\n",
      "typer                             0.7.0\n",
      "typing_extensions                 4.3.0\n",
      "tzdata                            2022.7\n",
      "tzlocal                           4.2\n",
      "ujson                             5.4.0\n",
      "Unidecode                         1.2.0\n",
      "urllib3                           1.26.11\n",
      "validators                        0.20.0\n",
      "w3lib                             1.21.0\n",
      "wasabi                            1.1.1\n",
      "watchdog                          2.1.6\n",
      "wcwidth                           0.2.5\n",
      "webencodings                      0.5.1\n",
      "websocket-client                  0.58.0\n",
      "Werkzeug                          2.0.3\n",
      "whatthepatch                      1.0.2\n",
      "wheel                             0.37.1\n",
      "widgetsnbextension                3.5.2\n",
      "wrapt                             1.14.1\n",
      "wurlitzer                         3.0.2\n",
      "xarray                            0.20.1\n",
      "xlrd                              2.0.1\n",
      "XlsxWriter                        3.0.3\n",
      "xlwings                           0.27.15\n",
      "yapf                              0.31.0\n",
      "zict                              2.1.0\n",
      "zipp                              3.8.0\n",
      "zope.interface                    5.4.0\n"
     ]
    }
   ],
   "source": [
    "!pip list"
   ]
  },
  {
   "cell_type": "code",
   "execution_count": 4,
   "id": "a389b893",
   "metadata": {
    "ExecuteTime": {
     "end_time": "2023-02-22T10:20:21.493357Z",
     "start_time": "2023-02-22T10:19:47.859486Z"
    }
   },
   "outputs": [
    {
     "name": "stderr",
     "output_type": "stream",
     "text": [
      "[nltk_data] Downloading collection 'all'\n",
      "[nltk_data]    | \n",
      "[nltk_data]    | Downloading package abc to\n",
      "[nltk_data]    |     /Users/apekshayeotkar/nltk_data...\n",
      "[nltk_data]    |   Package abc is already up-to-date!\n",
      "[nltk_data]    | Downloading package alpino to\n",
      "[nltk_data]    |     /Users/apekshayeotkar/nltk_data...\n",
      "[nltk_data]    |   Package alpino is already up-to-date!\n",
      "[nltk_data]    | Downloading package averaged_perceptron_tagger to\n",
      "[nltk_data]    |     /Users/apekshayeotkar/nltk_data...\n",
      "[nltk_data]    |   Package averaged_perceptron_tagger is already up-\n",
      "[nltk_data]    |       to-date!\n",
      "[nltk_data]    | Downloading package averaged_perceptron_tagger_ru to\n",
      "[nltk_data]    |     /Users/apekshayeotkar/nltk_data...\n",
      "[nltk_data]    |   Package averaged_perceptron_tagger_ru is already\n",
      "[nltk_data]    |       up-to-date!\n",
      "[nltk_data]    | Downloading package basque_grammars to\n",
      "[nltk_data]    |     /Users/apekshayeotkar/nltk_data...\n",
      "[nltk_data]    |   Package basque_grammars is already up-to-date!\n",
      "[nltk_data]    | Downloading package bcp47 to\n",
      "[nltk_data]    |     /Users/apekshayeotkar/nltk_data...\n",
      "[nltk_data]    |   Package bcp47 is already up-to-date!\n",
      "[nltk_data]    | Downloading package biocreative_ppi to\n",
      "[nltk_data]    |     /Users/apekshayeotkar/nltk_data...\n",
      "[nltk_data]    |   Package biocreative_ppi is already up-to-date!\n",
      "[nltk_data]    | Downloading package bllip_wsj_no_aux to\n",
      "[nltk_data]    |     /Users/apekshayeotkar/nltk_data...\n",
      "[nltk_data]    |   Package bllip_wsj_no_aux is already up-to-date!\n",
      "[nltk_data]    | Downloading package book_grammars to\n",
      "[nltk_data]    |     /Users/apekshayeotkar/nltk_data...\n",
      "[nltk_data]    |   Package book_grammars is already up-to-date!\n",
      "[nltk_data]    | Downloading package brown to\n",
      "[nltk_data]    |     /Users/apekshayeotkar/nltk_data...\n",
      "[nltk_data]    |   Package brown is already up-to-date!\n",
      "[nltk_data]    | Downloading package brown_tei to\n",
      "[nltk_data]    |     /Users/apekshayeotkar/nltk_data...\n",
      "[nltk_data]    |   Package brown_tei is already up-to-date!\n",
      "[nltk_data]    | Downloading package cess_cat to\n",
      "[nltk_data]    |     /Users/apekshayeotkar/nltk_data...\n",
      "[nltk_data]    |   Package cess_cat is already up-to-date!\n",
      "[nltk_data]    | Downloading package cess_esp to\n",
      "[nltk_data]    |     /Users/apekshayeotkar/nltk_data...\n",
      "[nltk_data]    |   Package cess_esp is already up-to-date!\n",
      "[nltk_data]    | Downloading package chat80 to\n",
      "[nltk_data]    |     /Users/apekshayeotkar/nltk_data...\n",
      "[nltk_data]    |   Package chat80 is already up-to-date!\n",
      "[nltk_data]    | Downloading package city_database to\n",
      "[nltk_data]    |     /Users/apekshayeotkar/nltk_data...\n",
      "[nltk_data]    |   Package city_database is already up-to-date!\n",
      "[nltk_data]    | Downloading package cmudict to\n",
      "[nltk_data]    |     /Users/apekshayeotkar/nltk_data...\n",
      "[nltk_data]    |   Package cmudict is already up-to-date!\n",
      "[nltk_data]    | Downloading package comparative_sentences to\n",
      "[nltk_data]    |     /Users/apekshayeotkar/nltk_data...\n",
      "[nltk_data]    |   Package comparative_sentences is already up-to-\n",
      "[nltk_data]    |       date!\n",
      "[nltk_data]    | Downloading package comtrans to\n",
      "[nltk_data]    |     /Users/apekshayeotkar/nltk_data...\n",
      "[nltk_data]    |   Package comtrans is already up-to-date!\n",
      "[nltk_data]    | Downloading package conll2000 to\n",
      "[nltk_data]    |     /Users/apekshayeotkar/nltk_data...\n",
      "[nltk_data]    |   Package conll2000 is already up-to-date!\n",
      "[nltk_data]    | Downloading package conll2002 to\n",
      "[nltk_data]    |     /Users/apekshayeotkar/nltk_data...\n",
      "[nltk_data]    |   Package conll2002 is already up-to-date!\n",
      "[nltk_data]    | Downloading package conll2007 to\n",
      "[nltk_data]    |     /Users/apekshayeotkar/nltk_data...\n",
      "[nltk_data]    |   Package conll2007 is already up-to-date!\n",
      "[nltk_data]    | Downloading package crubadan to\n",
      "[nltk_data]    |     /Users/apekshayeotkar/nltk_data...\n",
      "[nltk_data]    |   Package crubadan is already up-to-date!\n",
      "[nltk_data]    | Downloading package dependency_treebank to\n",
      "[nltk_data]    |     /Users/apekshayeotkar/nltk_data...\n",
      "[nltk_data]    |   Package dependency_treebank is already up-to-date!\n",
      "[nltk_data]    | Downloading package dolch to\n",
      "[nltk_data]    |     /Users/apekshayeotkar/nltk_data...\n",
      "[nltk_data]    |   Package dolch is already up-to-date!\n",
      "[nltk_data]    | Downloading package europarl_raw to\n",
      "[nltk_data]    |     /Users/apekshayeotkar/nltk_data...\n",
      "[nltk_data]    |   Package europarl_raw is already up-to-date!\n",
      "[nltk_data]    | Downloading package extended_omw to\n",
      "[nltk_data]    |     /Users/apekshayeotkar/nltk_data...\n",
      "[nltk_data]    |   Package extended_omw is already up-to-date!\n",
      "[nltk_data]    | Downloading package floresta to\n",
      "[nltk_data]    |     /Users/apekshayeotkar/nltk_data...\n",
      "[nltk_data]    |   Package floresta is already up-to-date!\n",
      "[nltk_data]    | Downloading package framenet_v15 to\n",
      "[nltk_data]    |     /Users/apekshayeotkar/nltk_data...\n",
      "[nltk_data]    |   Package framenet_v15 is already up-to-date!\n",
      "[nltk_data]    | Downloading package framenet_v17 to\n",
      "[nltk_data]    |     /Users/apekshayeotkar/nltk_data...\n",
      "[nltk_data]    |   Package framenet_v17 is already up-to-date!\n",
      "[nltk_data]    | Downloading package gazetteers to\n",
      "[nltk_data]    |     /Users/apekshayeotkar/nltk_data...\n",
      "[nltk_data]    |   Package gazetteers is already up-to-date!\n",
      "[nltk_data]    | Downloading package genesis to\n",
      "[nltk_data]    |     /Users/apekshayeotkar/nltk_data...\n",
      "[nltk_data]    |   Package genesis is already up-to-date!\n",
      "[nltk_data]    | Downloading package gutenberg to\n",
      "[nltk_data]    |     /Users/apekshayeotkar/nltk_data...\n",
      "[nltk_data]    |   Package gutenberg is already up-to-date!\n",
      "[nltk_data]    | Downloading package ieer to\n",
      "[nltk_data]    |     /Users/apekshayeotkar/nltk_data...\n",
      "[nltk_data]    |   Package ieer is already up-to-date!\n",
      "[nltk_data]    | Downloading package inaugural to\n",
      "[nltk_data]    |     /Users/apekshayeotkar/nltk_data...\n",
      "[nltk_data]    |   Package inaugural is already up-to-date!\n",
      "[nltk_data]    | Downloading package indian to\n",
      "[nltk_data]    |     /Users/apekshayeotkar/nltk_data...\n",
      "[nltk_data]    |   Package indian is already up-to-date!\n",
      "[nltk_data]    | Downloading package jeita to\n",
      "[nltk_data]    |     /Users/apekshayeotkar/nltk_data...\n",
      "[nltk_data]    |   Package jeita is already up-to-date!\n",
      "[nltk_data]    | Downloading package kimmo to\n",
      "[nltk_data]    |     /Users/apekshayeotkar/nltk_data...\n",
      "[nltk_data]    |   Package kimmo is already up-to-date!\n",
      "[nltk_data]    | Downloading package knbc to\n",
      "[nltk_data]    |     /Users/apekshayeotkar/nltk_data...\n",
      "[nltk_data]    |   Package knbc is already up-to-date!\n",
      "[nltk_data]    | Downloading package large_grammars to\n",
      "[nltk_data]    |     /Users/apekshayeotkar/nltk_data...\n",
      "[nltk_data]    |   Package large_grammars is already up-to-date!\n",
      "[nltk_data]    | Downloading package lin_thesaurus to\n",
      "[nltk_data]    |     /Users/apekshayeotkar/nltk_data...\n",
      "[nltk_data]    |   Package lin_thesaurus is already up-to-date!\n",
      "[nltk_data]    | Downloading package mac_morpho to\n",
      "[nltk_data]    |     /Users/apekshayeotkar/nltk_data...\n",
      "[nltk_data]    |   Package mac_morpho is already up-to-date!\n",
      "[nltk_data]    | Downloading package machado to\n",
      "[nltk_data]    |     /Users/apekshayeotkar/nltk_data...\n",
      "[nltk_data]    |   Package machado is already up-to-date!\n",
      "[nltk_data]    | Downloading package masc_tagged to\n",
      "[nltk_data]    |     /Users/apekshayeotkar/nltk_data...\n",
      "[nltk_data]    |   Package masc_tagged is already up-to-date!\n",
      "[nltk_data]    | Downloading package maxent_ne_chunker to\n",
      "[nltk_data]    |     /Users/apekshayeotkar/nltk_data...\n",
      "[nltk_data]    |   Package maxent_ne_chunker is already up-to-date!\n",
      "[nltk_data]    | Downloading package maxent_treebank_pos_tagger to\n",
      "[nltk_data]    |     /Users/apekshayeotkar/nltk_data...\n",
      "[nltk_data]    |   Package maxent_treebank_pos_tagger is already up-\n",
      "[nltk_data]    |       to-date!\n",
      "[nltk_data]    | Downloading package moses_sample to\n",
      "[nltk_data]    |     /Users/apekshayeotkar/nltk_data...\n",
      "[nltk_data]    |   Package moses_sample is already up-to-date!\n",
      "[nltk_data]    | Downloading package movie_reviews to\n",
      "[nltk_data]    |     /Users/apekshayeotkar/nltk_data...\n",
      "[nltk_data]    |   Package movie_reviews is already up-to-date!\n",
      "[nltk_data]    | Downloading package mte_teip5 to\n",
      "[nltk_data]    |     /Users/apekshayeotkar/nltk_data...\n",
      "[nltk_data]    |   Package mte_teip5 is already up-to-date!\n",
      "[nltk_data]    | Downloading package mwa_ppdb to\n",
      "[nltk_data]    |     /Users/apekshayeotkar/nltk_data...\n",
      "[nltk_data]    |   Package mwa_ppdb is already up-to-date!\n",
      "[nltk_data]    | Downloading package names to\n",
      "[nltk_data]    |     /Users/apekshayeotkar/nltk_data...\n",
      "[nltk_data]    |   Package names is already up-to-date!\n",
      "[nltk_data]    | Downloading package nombank.1.0 to\n",
      "[nltk_data]    |     /Users/apekshayeotkar/nltk_data...\n",
      "[nltk_data]    |   Package nombank.1.0 is already up-to-date!\n",
      "[nltk_data]    | Downloading package nonbreaking_prefixes to\n",
      "[nltk_data]    |     /Users/apekshayeotkar/nltk_data...\n",
      "[nltk_data]    |   Package nonbreaking_prefixes is already up-to-date!\n",
      "[nltk_data]    | Downloading package nps_chat to\n",
      "[nltk_data]    |     /Users/apekshayeotkar/nltk_data...\n",
      "[nltk_data]    |   Package nps_chat is already up-to-date!\n",
      "[nltk_data]    | Downloading package omw to\n",
      "[nltk_data]    |     /Users/apekshayeotkar/nltk_data...\n"
     ]
    },
    {
     "name": "stderr",
     "output_type": "stream",
     "text": [
      "[nltk_data]    |   Package omw is already up-to-date!\n",
      "[nltk_data]    | Downloading package omw-1.4 to\n",
      "[nltk_data]    |     /Users/apekshayeotkar/nltk_data...\n",
      "[nltk_data]    |   Package omw-1.4 is already up-to-date!\n",
      "[nltk_data]    | Downloading package opinion_lexicon to\n",
      "[nltk_data]    |     /Users/apekshayeotkar/nltk_data...\n",
      "[nltk_data]    |   Package opinion_lexicon is already up-to-date!\n",
      "[nltk_data]    | Downloading package panlex_swadesh to\n",
      "[nltk_data]    |     /Users/apekshayeotkar/nltk_data...\n",
      "[nltk_data]    |   Package panlex_swadesh is already up-to-date!\n",
      "[nltk_data]    | Downloading package paradigms to\n",
      "[nltk_data]    |     /Users/apekshayeotkar/nltk_data...\n",
      "[nltk_data]    |   Package paradigms is already up-to-date!\n",
      "[nltk_data]    | Downloading package pe08 to\n",
      "[nltk_data]    |     /Users/apekshayeotkar/nltk_data...\n",
      "[nltk_data]    |   Package pe08 is already up-to-date!\n",
      "[nltk_data]    | Downloading package perluniprops to\n",
      "[nltk_data]    |     /Users/apekshayeotkar/nltk_data...\n",
      "[nltk_data]    |   Package perluniprops is already up-to-date!\n",
      "[nltk_data]    | Downloading package pil to\n",
      "[nltk_data]    |     /Users/apekshayeotkar/nltk_data...\n",
      "[nltk_data]    |   Package pil is already up-to-date!\n",
      "[nltk_data]    | Downloading package pl196x to\n",
      "[nltk_data]    |     /Users/apekshayeotkar/nltk_data...\n",
      "[nltk_data]    |   Package pl196x is already up-to-date!\n",
      "[nltk_data]    | Downloading package porter_test to\n",
      "[nltk_data]    |     /Users/apekshayeotkar/nltk_data...\n",
      "[nltk_data]    |   Package porter_test is already up-to-date!\n",
      "[nltk_data]    | Downloading package ppattach to\n",
      "[nltk_data]    |     /Users/apekshayeotkar/nltk_data...\n",
      "[nltk_data]    |   Package ppattach is already up-to-date!\n",
      "[nltk_data]    | Downloading package problem_reports to\n",
      "[nltk_data]    |     /Users/apekshayeotkar/nltk_data...\n",
      "[nltk_data]    |   Package problem_reports is already up-to-date!\n",
      "[nltk_data]    | Downloading package product_reviews_1 to\n",
      "[nltk_data]    |     /Users/apekshayeotkar/nltk_data...\n",
      "[nltk_data]    |   Package product_reviews_1 is already up-to-date!\n",
      "[nltk_data]    | Downloading package product_reviews_2 to\n",
      "[nltk_data]    |     /Users/apekshayeotkar/nltk_data...\n",
      "[nltk_data]    |   Package product_reviews_2 is already up-to-date!\n",
      "[nltk_data]    | Downloading package propbank to\n",
      "[nltk_data]    |     /Users/apekshayeotkar/nltk_data...\n",
      "[nltk_data]    |   Package propbank is already up-to-date!\n",
      "[nltk_data]    | Downloading package pros_cons to\n",
      "[nltk_data]    |     /Users/apekshayeotkar/nltk_data...\n",
      "[nltk_data]    |   Package pros_cons is already up-to-date!\n",
      "[nltk_data]    | Downloading package ptb to\n",
      "[nltk_data]    |     /Users/apekshayeotkar/nltk_data...\n",
      "[nltk_data]    |   Package ptb is already up-to-date!\n",
      "[nltk_data]    | Downloading package punkt to\n",
      "[nltk_data]    |     /Users/apekshayeotkar/nltk_data...\n",
      "[nltk_data]    |   Package punkt is already up-to-date!\n",
      "[nltk_data]    | Downloading package qc to\n",
      "[nltk_data]    |     /Users/apekshayeotkar/nltk_data...\n",
      "[nltk_data]    |   Package qc is already up-to-date!\n",
      "[nltk_data]    | Downloading package reuters to\n",
      "[nltk_data]    |     /Users/apekshayeotkar/nltk_data...\n",
      "[nltk_data]    |   Package reuters is already up-to-date!\n",
      "[nltk_data]    | Downloading package rslp to\n",
      "[nltk_data]    |     /Users/apekshayeotkar/nltk_data...\n",
      "[nltk_data]    |   Package rslp is already up-to-date!\n",
      "[nltk_data]    | Downloading package rte to\n",
      "[nltk_data]    |     /Users/apekshayeotkar/nltk_data...\n",
      "[nltk_data]    |   Package rte is already up-to-date!\n",
      "[nltk_data]    | Downloading package sample_grammars to\n",
      "[nltk_data]    |     /Users/apekshayeotkar/nltk_data...\n",
      "[nltk_data]    |   Package sample_grammars is already up-to-date!\n",
      "[nltk_data]    | Downloading package semcor to\n",
      "[nltk_data]    |     /Users/apekshayeotkar/nltk_data...\n",
      "[nltk_data]    |   Package semcor is already up-to-date!\n",
      "[nltk_data]    | Downloading package senseval to\n",
      "[nltk_data]    |     /Users/apekshayeotkar/nltk_data...\n",
      "[nltk_data]    |   Package senseval is already up-to-date!\n",
      "[nltk_data]    | Downloading package sentence_polarity to\n",
      "[nltk_data]    |     /Users/apekshayeotkar/nltk_data...\n",
      "[nltk_data]    |   Package sentence_polarity is already up-to-date!\n",
      "[nltk_data]    | Downloading package sentiwordnet to\n",
      "[nltk_data]    |     /Users/apekshayeotkar/nltk_data...\n",
      "[nltk_data]    |   Package sentiwordnet is already up-to-date!\n",
      "[nltk_data]    | Downloading package shakespeare to\n",
      "[nltk_data]    |     /Users/apekshayeotkar/nltk_data...\n",
      "[nltk_data]    |   Package shakespeare is already up-to-date!\n",
      "[nltk_data]    | Downloading package sinica_treebank to\n",
      "[nltk_data]    |     /Users/apekshayeotkar/nltk_data...\n",
      "[nltk_data]    |   Package sinica_treebank is already up-to-date!\n",
      "[nltk_data]    | Downloading package smultron to\n",
      "[nltk_data]    |     /Users/apekshayeotkar/nltk_data...\n",
      "[nltk_data]    |   Package smultron is already up-to-date!\n",
      "[nltk_data]    | Downloading package snowball_data to\n",
      "[nltk_data]    |     /Users/apekshayeotkar/nltk_data...\n",
      "[nltk_data]    |   Package snowball_data is already up-to-date!\n",
      "[nltk_data]    | Downloading package spanish_grammars to\n",
      "[nltk_data]    |     /Users/apekshayeotkar/nltk_data...\n",
      "[nltk_data]    |   Package spanish_grammars is already up-to-date!\n",
      "[nltk_data]    | Downloading package state_union to\n",
      "[nltk_data]    |     /Users/apekshayeotkar/nltk_data...\n",
      "[nltk_data]    |   Package state_union is already up-to-date!\n",
      "[nltk_data]    | Downloading package stopwords to\n",
      "[nltk_data]    |     /Users/apekshayeotkar/nltk_data...\n",
      "[nltk_data]    |   Package stopwords is already up-to-date!\n",
      "[nltk_data]    | Downloading package subjectivity to\n",
      "[nltk_data]    |     /Users/apekshayeotkar/nltk_data...\n",
      "[nltk_data]    |   Package subjectivity is already up-to-date!\n",
      "[nltk_data]    | Downloading package swadesh to\n",
      "[nltk_data]    |     /Users/apekshayeotkar/nltk_data...\n",
      "[nltk_data]    |   Package swadesh is already up-to-date!\n",
      "[nltk_data]    | Downloading package switchboard to\n",
      "[nltk_data]    |     /Users/apekshayeotkar/nltk_data...\n",
      "[nltk_data]    |   Package switchboard is already up-to-date!\n",
      "[nltk_data]    | Downloading package tagsets to\n",
      "[nltk_data]    |     /Users/apekshayeotkar/nltk_data...\n",
      "[nltk_data]    |   Package tagsets is already up-to-date!\n",
      "[nltk_data]    | Downloading package timit to\n",
      "[nltk_data]    |     /Users/apekshayeotkar/nltk_data...\n",
      "[nltk_data]    |   Package timit is already up-to-date!\n",
      "[nltk_data]    | Downloading package toolbox to\n",
      "[nltk_data]    |     /Users/apekshayeotkar/nltk_data...\n",
      "[nltk_data]    |   Package toolbox is already up-to-date!\n",
      "[nltk_data]    | Downloading package treebank to\n",
      "[nltk_data]    |     /Users/apekshayeotkar/nltk_data...\n",
      "[nltk_data]    |   Package treebank is already up-to-date!\n",
      "[nltk_data]    | Downloading package twitter_samples to\n",
      "[nltk_data]    |     /Users/apekshayeotkar/nltk_data...\n",
      "[nltk_data]    |   Package twitter_samples is already up-to-date!\n",
      "[nltk_data]    | Downloading package udhr to\n",
      "[nltk_data]    |     /Users/apekshayeotkar/nltk_data...\n",
      "[nltk_data]    |   Package udhr is already up-to-date!\n",
      "[nltk_data]    | Downloading package udhr2 to\n",
      "[nltk_data]    |     /Users/apekshayeotkar/nltk_data...\n",
      "[nltk_data]    |   Package udhr2 is already up-to-date!\n",
      "[nltk_data]    | Downloading package unicode_samples to\n",
      "[nltk_data]    |     /Users/apekshayeotkar/nltk_data...\n",
      "[nltk_data]    |   Package unicode_samples is already up-to-date!\n",
      "[nltk_data]    | Downloading package universal_tagset to\n",
      "[nltk_data]    |     /Users/apekshayeotkar/nltk_data...\n",
      "[nltk_data]    |   Package universal_tagset is already up-to-date!\n",
      "[nltk_data]    | Downloading package universal_treebanks_v20 to\n",
      "[nltk_data]    |     /Users/apekshayeotkar/nltk_data...\n",
      "[nltk_data]    |   Package universal_treebanks_v20 is already up-to-\n",
      "[nltk_data]    |       date!\n",
      "[nltk_data]    | Downloading package vader_lexicon to\n",
      "[nltk_data]    |     /Users/apekshayeotkar/nltk_data...\n",
      "[nltk_data]    |   Package vader_lexicon is already up-to-date!\n",
      "[nltk_data]    | Downloading package verbnet to\n",
      "[nltk_data]    |     /Users/apekshayeotkar/nltk_data...\n",
      "[nltk_data]    |   Package verbnet is already up-to-date!\n",
      "[nltk_data]    | Downloading package verbnet3 to\n",
      "[nltk_data]    |     /Users/apekshayeotkar/nltk_data...\n",
      "[nltk_data]    |   Package verbnet3 is already up-to-date!\n",
      "[nltk_data]    | Downloading package webtext to\n",
      "[nltk_data]    |     /Users/apekshayeotkar/nltk_data...\n",
      "[nltk_data]    |   Package webtext is already up-to-date!\n",
      "[nltk_data]    | Downloading package wmt15_eval to\n",
      "[nltk_data]    |     /Users/apekshayeotkar/nltk_data...\n",
      "[nltk_data]    |   Package wmt15_eval is already up-to-date!\n",
      "[nltk_data]    | Downloading package word2vec_sample to\n",
      "[nltk_data]    |     /Users/apekshayeotkar/nltk_data...\n"
     ]
    },
    {
     "name": "stderr",
     "output_type": "stream",
     "text": [
      "[nltk_data]    | Error downloading 'word2vec_sample' from\n",
      "[nltk_data]    |     <https://raw.githubusercontent.com/nltk/nltk_data\n",
      "[nltk_data]    |     /gh-pages/packages/models/word2vec_sample.zip>:\n",
      "[nltk_data]    |     <urlopen error [Errno 8] nodename nor servname\n",
      "[nltk_data]    |     provided, or not known>\n"
     ]
    },
    {
     "data": {
      "text/plain": [
       "False"
      ]
     },
     "execution_count": 4,
     "metadata": {},
     "output_type": "execute_result"
    }
   ],
   "source": [
    "import nltk\n",
    "nltk.download('all')"
   ]
  },
  {
   "cell_type": "code",
   "execution_count": null,
   "id": "51d7d5d0",
   "metadata": {
    "ExecuteTime": {
     "end_time": "2023-02-22T10:19:35.436421Z",
     "start_time": "2023-02-22T10:19:35.436384Z"
    }
   },
   "outputs": [],
   "source": [
    "nltk.download('wordnet')"
   ]
  },
  {
   "cell_type": "code",
   "execution_count": null,
   "id": "5f837a0d",
   "metadata": {
    "ExecuteTime": {
     "end_time": "2023-02-22T10:19:35.443287Z",
     "start_time": "2023-02-22T10:19:35.443200Z"
    }
   },
   "outputs": [],
   "source": [
    "pip install -U textblob"
   ]
  },
  {
   "cell_type": "code",
   "execution_count": null,
   "id": "c4c9f88f",
   "metadata": {
    "ExecuteTime": {
     "end_time": "2023-02-22T10:19:35.448782Z",
     "start_time": "2023-02-22T10:19:35.448738Z"
    }
   },
   "outputs": [],
   "source": [
    "import pandas as pd\n",
    "import numpy as np\n",
    "import matplotlib.pyplot as plt\n",
    "import seaborn as sns\n",
    "from nltk.corpus import stopwords\n",
    "from textblob import TextBlob"
   ]
  },
  {
   "cell_type": "markdown",
   "id": "a6c1d828",
   "metadata": {},
   "source": [
    "# 1. Read Data"
   ]
  },
  {
   "cell_type": "code",
   "execution_count": null,
   "id": "b674c26b",
   "metadata": {
    "ExecuteTime": {
     "end_time": "2023-02-22T10:19:35.453158Z",
     "start_time": "2023-02-22T10:19:35.453120Z"
    }
   },
   "outputs": [],
   "source": [
    "data = pd.read_csv('Elon_musk.csv',encoding=\"latin-1\")"
   ]
  },
  {
   "cell_type": "code",
   "execution_count": null,
   "id": "72f1bd0b",
   "metadata": {
    "ExecuteTime": {
     "end_time": "2023-02-22T10:19:35.458515Z",
     "start_time": "2023-02-22T10:19:35.458466Z"
    }
   },
   "outputs": [],
   "source": [
    "data"
   ]
  },
  {
   "cell_type": "markdown",
   "id": "6bae264c",
   "metadata": {},
   "source": [
    "# 2. Number of Words\n"
   ]
  },
  {
   "cell_type": "code",
   "execution_count": null,
   "id": "d04c4743",
   "metadata": {
    "ExecuteTime": {
     "end_time": "2023-02-22T10:19:35.469512Z",
     "start_time": "2023-02-22T10:19:35.469448Z"
    }
   },
   "outputs": [],
   "source": [
    "#Number of Words in single tweet"
   ]
  },
  {
   "cell_type": "code",
   "execution_count": null,
   "id": "6eb3c807",
   "metadata": {
    "ExecuteTime": {
     "end_time": "2023-02-22T10:19:35.486652Z",
     "start_time": "2023-02-22T10:19:35.486586Z"
    }
   },
   "outputs": [],
   "source": [
    "# data['word_count'] = data['Text'].apply(lambda x: len(str(x).split(\" \")))\n",
    "data[['Text','word_count']].head()"
   ]
  },
  {
   "cell_type": "markdown",
   "id": "2f5ab429",
   "metadata": {},
   "source": [
    "# 3. Number of Characters"
   ]
  },
  {
   "cell_type": "code",
   "execution_count": null,
   "id": "7b956329",
   "metadata": {
    "ExecuteTime": {
     "end_time": "2023-02-22T10:19:35.500684Z",
     "start_time": "2023-02-22T10:19:35.500584Z"
    }
   },
   "outputs": [],
   "source": [
    "#Number of characters in single tweet"
   ]
  },
  {
   "cell_type": "code",
   "execution_count": null,
   "id": "014519dd",
   "metadata": {
    "ExecuteTime": {
     "end_time": "2023-02-22T10:19:35.510037Z",
     "start_time": "2023-02-22T10:19:35.510002Z"
    }
   },
   "outputs": [],
   "source": [
    "data['char_count'] = data['Text'].str.len() ## this also includes spaces\n",
    "data[['Text','char_count']].head()"
   ]
  },
  {
   "cell_type": "markdown",
   "id": "0235105d",
   "metadata": {},
   "source": [
    "# 4. Average Word Length\n"
   ]
  },
  {
   "cell_type": "code",
   "execution_count": null,
   "id": "0c77d178",
   "metadata": {
    "ExecuteTime": {
     "end_time": "2023-02-22T10:19:35.523363Z",
     "start_time": "2023-02-22T10:19:35.523290Z"
    }
   },
   "outputs": [],
   "source": [
    "def avg_word(sentence):\n",
    "  words = sentence.split()\n",
    "  return (sum(len(word) for word in words)/len(words))\n",
    "\n",
    "data['avg_word'] = data['Text'].apply(lambda x: avg_word(x))\n",
    "data[['Text','avg_word']].head()"
   ]
  },
  {
   "cell_type": "markdown",
   "id": "75288131",
   "metadata": {},
   "source": [
    "# 5. Number of stopwords\n"
   ]
  },
  {
   "cell_type": "code",
   "execution_count": null,
   "id": "15fcacad",
   "metadata": {
    "ExecuteTime": {
     "end_time": "2023-02-22T10:19:35.543984Z",
     "start_time": "2023-02-22T10:19:35.543883Z"
    }
   },
   "outputs": [],
   "source": [
    "stop = stopwords.words('english')\n",
    "\n",
    "data['stopwords'] = data['Text'].apply(lambda x: len([x for x in x.split() if x in stop]))\n",
    "data[['Text','stopwords']].head()"
   ]
  },
  {
   "cell_type": "markdown",
   "id": "fcd333c7",
   "metadata": {},
   "source": [
    "# 6. Number of Special Characters\n"
   ]
  },
  {
   "cell_type": "code",
   "execution_count": null,
   "id": "0d4c4d1e",
   "metadata": {
    "ExecuteTime": {
     "end_time": "2023-02-22T10:19:35.571864Z",
     "start_time": "2023-02-22T10:19:35.571786Z"
    }
   },
   "outputs": [],
   "source": [
    "data['hastags'] = data['Text'].apply(lambda x: len([x for x in x.split() if x.startswith('@')]))\n",
    "data[['Text','hastags']].head()"
   ]
  },
  {
   "cell_type": "markdown",
   "id": "0514a424",
   "metadata": {},
   "source": [
    "# 7. Number of Numerics\n"
   ]
  },
  {
   "cell_type": "code",
   "execution_count": null,
   "id": "620a4f22",
   "metadata": {
    "ExecuteTime": {
     "end_time": "2023-02-22T10:19:35.583047Z",
     "start_time": "2023-02-22T10:19:35.582902Z"
    }
   },
   "outputs": [],
   "source": [
    "data['numerics'] = data['Text'].apply(lambda x: len([x for x in x.split() if x.isdigit()]))\n",
    "data[['Text','numerics']].head()"
   ]
  },
  {
   "cell_type": "markdown",
   "id": "5dac8730",
   "metadata": {},
   "source": [
    "# 8. Number of Upper Case Words\n"
   ]
  },
  {
   "cell_type": "code",
   "execution_count": null,
   "id": "f950faaa",
   "metadata": {
    "ExecuteTime": {
     "end_time": "2023-02-22T10:19:36.077515Z",
     "start_time": "2023-02-22T10:19:36.077476Z"
    }
   },
   "outputs": [],
   "source": [
    "data['upper'] = data['Text'].apply(lambda x: len([x for x in x.split() if x.isupper()]))\n",
    "data[['Text','upper']].head()"
   ]
  },
  {
   "cell_type": "markdown",
   "id": "73563fb3",
   "metadata": {},
   "source": [
    "# Pre - Processing\n"
   ]
  },
  {
   "cell_type": "code",
   "execution_count": null,
   "id": "3ceadabe",
   "metadata": {
    "ExecuteTime": {
     "end_time": "2023-02-22T10:19:35.596204Z",
     "start_time": "2023-02-22T10:19:35.596161Z"
    }
   },
   "outputs": [],
   "source": [
    "#2.1 Lower Case"
   ]
  },
  {
   "cell_type": "code",
   "execution_count": null,
   "id": "5818d489",
   "metadata": {
    "ExecuteTime": {
     "end_time": "2023-02-22T10:19:35.601768Z",
     "start_time": "2023-02-22T10:19:35.601725Z"
    }
   },
   "outputs": [],
   "source": [
    "data['Text'] = data['Text'].apply(lambda x: \" \".join(x.lower() for x in x.split()))\n",
    "data['Text'].head()"
   ]
  },
  {
   "cell_type": "markdown",
   "id": "32667451",
   "metadata": {},
   "source": [
    "2.2 Removing Punctuation\n"
   ]
  },
  {
   "cell_type": "code",
   "execution_count": null,
   "id": "c997dff9",
   "metadata": {
    "ExecuteTime": {
     "end_time": "2023-02-22T10:19:35.606414Z",
     "start_time": "2023-02-22T10:19:35.606365Z"
    }
   },
   "outputs": [],
   "source": [
    "data['Text'] = data['Text'].str.replace('[^\\w\\s]','')\n",
    "data['Text'].head()"
   ]
  },
  {
   "cell_type": "markdown",
   "id": "68aa16e2",
   "metadata": {},
   "source": [
    "2.3 Removal of Stop Words\n"
   ]
  },
  {
   "cell_type": "code",
   "execution_count": null,
   "id": "a1b84ce0",
   "metadata": {
    "ExecuteTime": {
     "end_time": "2023-02-22T10:19:35.614684Z",
     "start_time": "2023-02-22T10:19:35.614643Z"
    }
   },
   "outputs": [],
   "source": [
    "stop = stopwords.words('english')\n",
    "data['Text'] = data['Text'].apply(lambda x: \" \".join(x for x in x.split() if x not in stop))\n",
    "data['Text'].head()"
   ]
  },
  {
   "cell_type": "markdown",
   "id": "dae72390",
   "metadata": {},
   "source": [
    "2.4 Common word removal\n"
   ]
  },
  {
   "cell_type": "code",
   "execution_count": null,
   "id": "876c60c9",
   "metadata": {
    "ExecuteTime": {
     "end_time": "2023-02-22T10:19:35.619651Z",
     "start_time": "2023-02-22T10:19:35.619619Z"
    }
   },
   "outputs": [],
   "source": [
    "freq = pd.Series(' '.join(data['Text']).split()).value_counts()[:10]\n",
    "freq"
   ]
  },
  {
   "cell_type": "code",
   "execution_count": null,
   "id": "82cb7c7a",
   "metadata": {
    "ExecuteTime": {
     "end_time": "2023-02-22T10:19:35.628143Z",
     "start_time": "2023-02-22T10:19:35.626640Z"
    }
   },
   "outputs": [],
   "source": [
    "freq = list(freq.index)\n",
    "data['Text'] = data['Text'].apply(lambda x: \" \".join(x for x in x.split() if x not in freq))\n",
    "data['Text'].head()"
   ]
  },
  {
   "cell_type": "markdown",
   "id": "58211459",
   "metadata": {},
   "source": [
    "2.5 Rare Words Removal\n"
   ]
  },
  {
   "cell_type": "code",
   "execution_count": null,
   "id": "708488ee",
   "metadata": {
    "ExecuteTime": {
     "end_time": "2023-02-22T10:19:35.633797Z",
     "start_time": "2023-02-22T10:19:35.633743Z"
    }
   },
   "outputs": [],
   "source": [
    "freq = pd.Series(' '.join(data['Text']).split()).value_counts()[-10:]\n",
    "freq"
   ]
  },
  {
   "cell_type": "code",
   "execution_count": null,
   "id": "c74e5065",
   "metadata": {
    "ExecuteTime": {
     "end_time": "2023-02-22T10:19:35.641710Z",
     "start_time": "2023-02-22T10:19:35.641665Z"
    }
   },
   "outputs": [],
   "source": [
    "freq = list(freq.index)\n",
    "data['Text'] = data['Text'].apply(lambda x: \" \".join(x for x in x.split() if x not in freq))\n",
    "data['Text'].head()"
   ]
  },
  {
   "cell_type": "markdown",
   "id": "e6162e62",
   "metadata": {},
   "source": [
    "2.6 Spelling correction\n"
   ]
  },
  {
   "cell_type": "code",
   "execution_count": null,
   "id": "4d74c4a0",
   "metadata": {
    "ExecuteTime": {
     "end_time": "2023-02-22T10:19:35.645724Z",
     "start_time": "2023-02-22T10:19:35.645687Z"
    }
   },
   "outputs": [],
   "source": [
    "data['Text'][:5].apply(lambda x: str(TextBlob(x).correct()))\n"
   ]
  },
  {
   "cell_type": "markdown",
   "id": "35f99fad",
   "metadata": {},
   "source": [
    "2.7 Tokenization\n"
   ]
  },
  {
   "cell_type": "code",
   "execution_count": null,
   "id": "e09b129c",
   "metadata": {
    "ExecuteTime": {
     "end_time": "2023-02-22T10:19:35.650256Z",
     "start_time": "2023-02-22T10:19:35.650214Z"
    }
   },
   "outputs": [],
   "source": [
    "TextBlob(data['Text'][1]).words\n"
   ]
  },
  {
   "cell_type": "code",
   "execution_count": null,
   "id": "b7b72f13",
   "metadata": {
    "ExecuteTime": {
     "end_time": "2023-02-22T10:19:35.655261Z",
     "start_time": "2023-02-22T10:19:35.655209Z"
    }
   },
   "outputs": [],
   "source": [
    "nltk.download('punkt')\n"
   ]
  },
  {
   "cell_type": "markdown",
   "id": "314fb51a",
   "metadata": {},
   "source": [
    "2.8 Stemming\n"
   ]
  },
  {
   "cell_type": "code",
   "execution_count": null,
   "id": "14d2bf59",
   "metadata": {
    "ExecuteTime": {
     "end_time": "2023-02-22T10:19:35.665276Z",
     "start_time": "2023-02-22T10:19:35.665180Z"
    }
   },
   "outputs": [],
   "source": [
    "from nltk.stem import PorterStemmer\n",
    "st = PorterStemmer()\n",
    "data['Text'][:5].apply(lambda x: \" \".join([st.stem(word) for word in x.split()]))"
   ]
  },
  {
   "cell_type": "markdown",
   "id": "e4861a85",
   "metadata": {},
   "source": [
    "2.9 Lemmatization\n"
   ]
  },
  {
   "cell_type": "code",
   "execution_count": null,
   "id": "b7320b56",
   "metadata": {
    "ExecuteTime": {
     "end_time": "2023-02-22T10:19:35.682745Z",
     "start_time": "2023-02-22T10:19:35.682682Z"
    }
   },
   "outputs": [],
   "source": [
    "from textblob import Word\n"
   ]
  },
  {
   "cell_type": "code",
   "execution_count": null,
   "id": "912113f3",
   "metadata": {
    "ExecuteTime": {
     "end_time": "2023-02-22T10:19:35.739602Z",
     "start_time": "2023-02-22T10:19:35.739525Z"
    },
    "scrolled": false
   },
   "outputs": [],
   "source": [
    "data['Text'] = data['Text'].apply(lambda x: \" \".join([Word(word).lemmatize() for word in x.split()]))\n",
    "data['Text'].head()"
   ]
  },
  {
   "cell_type": "markdown",
   "id": "4396354d",
   "metadata": {},
   "source": [
    "# 3 Advanced Text Processing\n"
   ]
  },
  {
   "cell_type": "markdown",
   "id": "5c07c718",
   "metadata": {},
   "source": [
    "3.1 N-grams"
   ]
  },
  {
   "cell_type": "code",
   "execution_count": null,
   "id": "e611a63b",
   "metadata": {
    "ExecuteTime": {
     "end_time": "2023-02-22T10:19:35.754175Z",
     "start_time": "2023-02-22T10:19:35.754130Z"
    }
   },
   "outputs": [],
   "source": [
    "TextBlob(data['Text'][0]).ngrams(2)\n"
   ]
  },
  {
   "cell_type": "markdown",
   "id": "37174687",
   "metadata": {},
   "source": [
    "3.2 Term frequency\n"
   ]
  },
  {
   "cell_type": "markdown",
   "id": "8ceaae8b",
   "metadata": {},
   "source": [
    "Term frequency is simply the ratio of the count of a word present in a sentence, to the length of the sentence.\n",
    "\n",
    "Therefore, we can generalize term frequency as:\n",
    "\n",
    "TF = (Number of times term T appears in the particular row) / (number of terms in that row)"
   ]
  },
  {
   "cell_type": "code",
   "execution_count": null,
   "id": "999bf918",
   "metadata": {
    "ExecuteTime": {
     "end_time": "2023-02-22T10:19:35.762933Z",
     "start_time": "2023-02-22T10:19:35.762870Z"
    }
   },
   "outputs": [],
   "source": [
    "tf1 = (data['Text'][1:2]).apply(lambda x: pd.value_counts(x.split(\" \"))).sum(axis = 0).reset_index()\n",
    "tf1.columns = ['words','tf']\n",
    "tf1"
   ]
  },
  {
   "cell_type": "markdown",
   "id": "ecf1d31a",
   "metadata": {},
   "source": [
    "3.3 Inverse Document Frequency\n"
   ]
  },
  {
   "cell_type": "markdown",
   "id": "32f1973d",
   "metadata": {},
   "source": [
    "The intuition behind inverse document frequency (IDF) is that a word is not of much use to us if it’s appearing in all the documents.\n",
    "\n",
    "Therefore, the IDF of each word is the log of the ratio of the total number of rows to the number of rows in which that word is present.\n",
    "\n",
    "IDF = log(N/n), where, N is the total number of rows and n is the number of rows in which the word was present.\n",
    "\n"
   ]
  },
  {
   "cell_type": "code",
   "execution_count": null,
   "id": "1cd97df6",
   "metadata": {
    "ExecuteTime": {
     "end_time": "2023-02-22T10:19:35.775764Z",
     "start_time": "2023-02-22T10:19:35.775706Z"
    }
   },
   "outputs": [],
   "source": [
    "for i,word in enumerate(tf1['words']):\n",
    "  tf1.loc[i, 'idf'] = np.log(data.shape[0]/(len(data[data['Text'].str.contains(word)])))\n",
    "\n",
    "tf1"
   ]
  },
  {
   "cell_type": "markdown",
   "id": "42cb91e8",
   "metadata": {},
   "source": [
    "3.4 Term Frequency – Inverse Document Frequency (TF-IDF)\n"
   ]
  },
  {
   "cell_type": "code",
   "execution_count": null,
   "id": "f287055f",
   "metadata": {
    "ExecuteTime": {
     "end_time": "2023-02-22T10:19:35.788253Z",
     "start_time": "2023-02-22T10:19:35.787371Z"
    }
   },
   "outputs": [],
   "source": [
    "tf1['tfidf'] = tf1['tf'] * tf1['idf']\n",
    "tf1"
   ]
  },
  {
   "cell_type": "code",
   "execution_count": null,
   "id": "5c5c3639",
   "metadata": {
    "ExecuteTime": {
     "end_time": "2023-02-22T10:19:35.795425Z",
     "start_time": "2023-02-22T10:19:35.795390Z"
    }
   },
   "outputs": [],
   "source": [
    "from sklearn.feature_extraction.text import TfidfVectorizer\n",
    "tfidf = TfidfVectorizer(max_features=1000, lowercase=True, analyzer='word',\n",
    " stop_words= 'english',ngram_range=(1,1))\n",
    "vect = tfidf.fit_transform(data['Text'])\n",
    "vect"
   ]
  },
  {
   "cell_type": "markdown",
   "id": "2050e6ca",
   "metadata": {},
   "source": [
    "3.5 Bag of Words\n"
   ]
  },
  {
   "cell_type": "code",
   "execution_count": null,
   "id": "02b2d8be",
   "metadata": {
    "ExecuteTime": {
     "end_time": "2023-02-22T10:19:35.799605Z",
     "start_time": "2023-02-22T10:19:35.799562Z"
    }
   },
   "outputs": [],
   "source": [
    "from sklearn.feature_extraction.text import CountVectorizer\n",
    "bow = CountVectorizer(max_features=1000, lowercase=True, ngram_range=(1,1),analyzer = \"word\")\n",
    "data_bow = bow.fit_transform(data['Text'])\n",
    "data_bow"
   ]
  },
  {
   "cell_type": "markdown",
   "id": "acdef6c2",
   "metadata": {},
   "source": [
    "3.6 Sentiment Analysis\n"
   ]
  },
  {
   "cell_type": "code",
   "execution_count": null,
   "id": "382723e0",
   "metadata": {
    "ExecuteTime": {
     "end_time": "2023-02-22T10:19:35.803313Z",
     "start_time": "2023-02-22T10:19:35.803263Z"
    }
   },
   "outputs": [],
   "source": [
    "data['Text'][:5].apply(lambda x: TextBlob(x).sentiment)\n"
   ]
  },
  {
   "cell_type": "code",
   "execution_count": null,
   "id": "049adebb",
   "metadata": {
    "ExecuteTime": {
     "end_time": "2023-02-22T10:19:35.812086Z",
     "start_time": "2023-02-22T10:19:35.812044Z"
    }
   },
   "outputs": [],
   "source": [
    "data['sentiment'] = data['Text'].apply(lambda x: TextBlob(x).sentiment[0] )\n",
    "data[['Text','sentiment']].head()"
   ]
  },
  {
   "cell_type": "markdown",
   "id": "be2218a5",
   "metadata": {},
   "source": [
    "# Perform emotion mining\n"
   ]
  },
  {
   "cell_type": "markdown",
   "id": "ab95d0e4",
   "metadata": {},
   "source": [
    "Read Data\n"
   ]
  },
  {
   "cell_type": "code",
   "execution_count": null,
   "id": "a24d10fb",
   "metadata": {
    "ExecuteTime": {
     "end_time": "2023-02-22T10:19:35.816674Z",
     "start_time": "2023-02-22T10:19:35.816554Z"
    }
   },
   "outputs": [],
   "source": [
    "! pip install future\n"
   ]
  },
  {
   "cell_type": "code",
   "execution_count": null,
   "id": "0f94a3d4",
   "metadata": {
    "ExecuteTime": {
     "end_time": "2023-02-22T10:19:35.826904Z",
     "start_time": "2023-02-22T10:19:35.826853Z"
    }
   },
   "outputs": [],
   "source": [
    "!pip install -U future \n"
   ]
  },
  {
   "cell_type": "code",
   "execution_count": null,
   "id": "9cc28377",
   "metadata": {
    "ExecuteTime": {
     "end_time": "2023-02-22T10:19:35.830421Z",
     "start_time": "2023-02-22T10:19:35.830374Z"
    }
   },
   "outputs": [],
   "source": [
    "import codecs\n",
    "import re\n",
    "import copy\n",
    "import collections\n",
    "import pandas as pd\n",
    "import numpy as np\n",
    "import nltk\n",
    "from nltk.stem import PorterStemmer\n",
    "from nltk.tokenize import WordPunctTokenizer\n",
    "import matplotlib\n",
    "    \n",
    "%matplotlib inline"
   ]
  },
  {
   "cell_type": "code",
   "execution_count": null,
   "id": "2bec13d9",
   "metadata": {
    "ExecuteTime": {
     "end_time": "2023-02-22T10:19:35.837114Z",
     "start_time": "2023-02-22T10:19:35.837057Z"
    }
   },
   "outputs": [],
   "source": [
    "from __future__ import division\n",
    "import os\n",
    "from nltk.corpus import twitter_samples\n"
   ]
  },
  {
   "cell_type": "code",
   "execution_count": null,
   "id": "d6688911",
   "metadata": {
    "ExecuteTime": {
     "end_time": "2023-02-22T10:19:35.849857Z",
     "start_time": "2023-02-22T10:19:35.849806Z"
    }
   },
   "outputs": [],
   "source": [
    "nltk.download('stopwords')\n"
   ]
  },
  {
   "cell_type": "code",
   "execution_count": null,
   "id": "0073a6c1",
   "metadata": {
    "ExecuteTime": {
     "end_time": "2023-02-22T10:19:35.858488Z",
     "start_time": "2023-02-22T10:19:35.858428Z"
    }
   },
   "outputs": [],
   "source": [
    "from nltk.corpus import stopwords\n"
   ]
  },
  {
   "cell_type": "code",
   "execution_count": null,
   "id": "c2469697",
   "metadata": {
    "ExecuteTime": {
     "end_time": "2023-02-22T10:19:35.866087Z",
     "start_time": "2023-02-22T10:19:35.866057Z"
    }
   },
   "outputs": [],
   "source": [
    "os.getcwd()\n",
    "os.listdir(r'E:\\Data Science Asssignment\\Text Mining')"
   ]
  },
  {
   "cell_type": "code",
   "execution_count": null,
   "id": "2da898f2",
   "metadata": {
    "ExecuteTime": {
     "end_time": "2023-02-22T10:19:35.869333Z",
     "start_time": "2023-02-22T10:19:35.869302Z"
    }
   },
   "outputs": [],
   "source": [
    "os.chdir(r'E:\\Data Science Asssignment\\Text Mining')"
   ]
  },
  {
   "cell_type": "code",
   "execution_count": null,
   "id": "8bdbf81c",
   "metadata": {
    "ExecuteTime": {
     "end_time": "2023-02-22T10:19:35.874399Z",
     "start_time": "2023-02-22T10:19:35.874336Z"
    }
   },
   "outputs": [],
   "source": [
    "with open(\"positive-words.txt\", \"r\",encoding=\"utf-8\") as p:\n",
    "    pos = p.read()\n",
    "    print(pos)"
   ]
  },
  {
   "cell_type": "code",
   "execution_count": null,
   "id": "adfe8763",
   "metadata": {
    "ExecuteTime": {
     "end_time": "2023-02-22T10:19:35.881217Z",
     "start_time": "2023-02-22T10:19:35.881156Z"
    }
   },
   "outputs": [],
   "source": [
    "from nltk.corpus import twitter_samples\n",
    "\n",
    "positive_tweets = twitter_samples.strings('positive_tweets.json')\n",
    "negative_tweets = twitter_samples.strings('negative_tweets.json')\n",
    "text = twitter_samples.strings('tweets.20150430-223406.json')\n"
   ]
  },
  {
   "cell_type": "code",
   "execution_count": null,
   "id": "fdb58c44",
   "metadata": {
    "ExecuteTime": {
     "end_time": "2023-02-22T10:19:35.886353Z",
     "start_time": "2023-02-22T10:19:35.886272Z"
    }
   },
   "outputs": [],
   "source": [
    "import nltk\n",
    "nltk.download('punkt')\n"
   ]
  },
  {
   "cell_type": "code",
   "execution_count": null,
   "id": "6e93ddcd",
   "metadata": {
    "ExecuteTime": {
     "end_time": "2023-02-22T10:19:35.890902Z",
     "start_time": "2023-02-22T10:19:35.890851Z"
    }
   },
   "outputs": [],
   "source": [
    "from nltk.corpus import twitter_samples\n",
    "\n",
    "positive_tweets = twitter_samples.strings('positive_tweets.json')\n",
    "negative_tweets = twitter_samples.strings('negative_tweets.json')\n",
    "text = twitter_samples.strings('tweets.20150430-223406.json')\n",
    "tweet_tokens = twitter_samples.tokenized('positive_tweets.json')\n"
   ]
  },
  {
   "cell_type": "code",
   "execution_count": null,
   "id": "983c2b6c",
   "metadata": {
    "ExecuteTime": {
     "end_time": "2023-02-22T10:19:35.895959Z",
     "start_time": "2023-02-22T10:19:35.895928Z"
    }
   },
   "outputs": [],
   "source": [
    "from nltk.corpus import twitter_samples\n",
    "\n",
    "positive_tweets = twitter_samples.strings('positive_tweets.json')\n",
    "negative_tweets = twitter_samples.strings('negative_tweets.json')\n",
    "text = twitter_samples.strings('tweets.20150430-223406.json')\n",
    "tweet_tokens = twitter_samples.tokenized('positive_tweets.json')[0]\n",
    "\n",
    "print(tweet_tokens[0])"
   ]
  },
  {
   "cell_type": "code",
   "execution_count": null,
   "id": "abe799bf",
   "metadata": {
    "ExecuteTime": {
     "end_time": "2023-02-22T10:19:35.900159Z",
     "start_time": "2023-02-22T10:19:35.900114Z"
    }
   },
   "outputs": [],
   "source": [
    "!pip3 install beautifulsoup4\n"
   ]
  },
  {
   "cell_type": "code",
   "execution_count": null,
   "id": "86943fa0",
   "metadata": {
    "ExecuteTime": {
     "end_time": "2023-02-22T10:19:35.903420Z",
     "start_time": "2023-02-22T10:19:35.903392Z"
    }
   },
   "outputs": [],
   "source": [
    "pip install selenium"
   ]
  },
  {
   "cell_type": "code",
   "execution_count": null,
   "id": "89e4ca3e",
   "metadata": {
    "ExecuteTime": {
     "end_time": "2023-02-22T10:19:35.906745Z",
     "start_time": "2023-02-22T10:19:35.906688Z"
    }
   },
   "outputs": [],
   "source": [
    "pip install worldcloud"
   ]
  },
  {
   "cell_type": "code",
   "execution_count": null,
   "id": "d2d0efc4",
   "metadata": {
    "ExecuteTime": {
     "end_time": "2023-02-22T10:19:35.911835Z",
     "start_time": "2023-02-22T10:19:35.911811Z"
    }
   },
   "outputs": [],
   "source": [
    "import pandas as pd\n",
    "import numpy as np\n",
    "import re \n",
    "import matplotlib.pyplot as plt\n",
    "from nltk.tokenize import word_tokenize\n",
    "from nltk.corpus import stopwords\n",
    "import nltk\n",
    "from nltk.stem import WordNetLemmatizer\n",
    "from nltk.corpus import stopwords\n",
    "wordnet = WordNetLemmatizer()\n",
    "import re\n",
    "from nltk.tokenize import sent_tokenize\n",
    "from sklearn.feature_extraction.text import TfidfVectorizer\n",
    "import requests\n",
    "from bs4 import BeautifulSoup as bs\n",
    "from selenium import webdriver"
   ]
  },
  {
   "cell_type": "markdown",
   "id": "92360679",
   "metadata": {},
   "source": [
    "Connecting to Amazom and download reviews"
   ]
  },
  {
   "cell_type": "code",
   "execution_count": null,
   "id": "b621129f",
   "metadata": {
    "ExecuteTime": {
     "end_time": "2023-02-22T10:19:35.917938Z",
     "start_time": "2023-02-22T10:19:35.916658Z"
    }
   },
   "outputs": [],
   "source": [
    "oneplus_reviews=[]"
   ]
  },
  {
   "cell_type": "code",
   "execution_count": null,
   "id": "a312fa07",
   "metadata": {
    "ExecuteTime": {
     "end_time": "2023-02-22T10:19:35.925276Z",
     "start_time": "2023-02-22T10:19:35.925209Z"
    }
   },
   "outputs": [],
   "source": [
    "for i in range (1,31):\n",
    "    op=[]\n",
    "    url =\"https://www.amazon.in/Test-Exclusive-747/product-reviews/B07DJCVTDN/ref=cm_cr_dp_d_show_all_btm?ie=UTF8&reviewerType=all_reviews\"+str(i)\n",
    "    response = requests.get(url)\n",
    "    soup = bs(response.content,\"html.parser\")\n",
    "    reviews = soup.findAll(\"span\",attrs = {\"class\",\"a-size-base review-text review-text-content\"})\n",
    "    for i in range(len(reviews)):\n",
    "        op.append(reviews[i].text)\n",
    "    oneplus_reviews = oneplus_reviews+op"
   ]
  },
  {
   "cell_type": "markdown",
   "id": "e3920996",
   "metadata": {},
   "source": [
    " Downloading review from Amazon.in for the phone OnePlus 7T (Frosted Silver, 8GB RAM, Fluid AMOLED Display, 128GB Storage, 3800mAH Battery)"
   ]
  },
  {
   "cell_type": "code",
   "execution_count": null,
   "id": "fb8f5b17",
   "metadata": {
    "ExecuteTime": {
     "end_time": "2023-02-22T10:19:35.932154Z",
     "start_time": "2023-02-22T10:19:35.932116Z"
    }
   },
   "outputs": [],
   "source": [
    "oneplus_reviews = list(set(oneplus_reviews))\n"
   ]
  },
  {
   "cell_type": "markdown",
   "id": "b1470c7c",
   "metadata": {},
   "source": [
    "Cleaning the text"
   ]
  },
  {
   "cell_type": "code",
   "execution_count": null,
   "id": "d30746e2",
   "metadata": {
    "ExecuteTime": {
     "end_time": "2023-02-22T10:19:35.943134Z",
     "start_time": "2023-02-22T10:19:35.943100Z"
    }
   },
   "outputs": [],
   "source": [
    "txt_upd = ' '.join(oneplus_reviews)\n"
   ]
  },
  {
   "cell_type": "code",
   "execution_count": null,
   "id": "9e911111",
   "metadata": {
    "ExecuteTime": {
     "end_time": "2023-02-22T10:19:35.946621Z",
     "start_time": "2023-02-22T10:19:35.946572Z"
    }
   },
   "outputs": [],
   "source": [
    "txt_upd = re.sub(\"[^A-Za-z\" \"]+\",\" \",txt_upd).lower() #remove special character\n",
    "txt_upd = re.sub(\"[0-9\" \"]+\",\" \",txt_upd).lower() #remove numbers\n",
    "txt_upd = re.sub(r'^https?:\\/\\/.*[\\r\\n]*', '', txt_upd).lower() #remove hyperlink"
   ]
  },
  {
   "cell_type": "code",
   "execution_count": null,
   "id": "af81e40b",
   "metadata": {
    "ExecuteTime": {
     "end_time": "2023-02-22T10:19:35.951096Z",
     "start_time": "2023-02-22T10:19:35.951067Z"
    }
   },
   "outputs": [],
   "source": [
    "from nltk.tokenize import word_tokenize\n"
   ]
  },
  {
   "cell_type": "code",
   "execution_count": null,
   "id": "f7b3bc39",
   "metadata": {
    "ExecuteTime": {
     "end_time": "2023-02-22T10:19:35.955162Z",
     "start_time": "2023-02-22T10:19:35.955133Z"
    }
   },
   "outputs": [],
   "source": [
    "text_tokens = word_tokenize(txt_upd)\n"
   ]
  },
  {
   "cell_type": "code",
   "execution_count": null,
   "id": "747e6afd",
   "metadata": {
    "ExecuteTime": {
     "end_time": "2023-02-22T10:19:35.960657Z",
     "start_time": "2023-02-22T10:19:35.960625Z"
    }
   },
   "outputs": [],
   "source": [
    "tokens_without_sw = [word for word in text_tokens if not word in stopwords.words()]\n"
   ]
  },
  {
   "cell_type": "markdown",
   "id": "1a5ce017",
   "metadata": {},
   "source": [
    "Create the DF\n"
   ]
  },
  {
   "cell_type": "code",
   "execution_count": null,
   "id": "3cf7c476",
   "metadata": {
    "ExecuteTime": {
     "end_time": "2023-02-22T10:19:35.963704Z",
     "start_time": "2023-02-22T10:19:35.963657Z"
    }
   },
   "outputs": [],
   "source": [
    "tf = TfidfVectorizer()\n"
   ]
  },
  {
   "cell_type": "code",
   "execution_count": null,
   "id": "3ae978d0",
   "metadata": {
    "ExecuteTime": {
     "end_time": "2023-02-22T10:19:35.967410Z",
     "start_time": "2023-02-22T10:19:35.967357Z"
    }
   },
   "outputs": [],
   "source": [
    "text_tf = tf.fit_transform(tokens_without_sw)\n"
   ]
  },
  {
   "cell_type": "code",
   "execution_count": null,
   "id": "c6eec320",
   "metadata": {
    "ExecuteTime": {
     "end_time": "2023-02-22T10:19:35.973888Z",
     "start_time": "2023-02-22T10:19:35.973851Z"
    }
   },
   "outputs": [],
   "source": [
    "feature_names = tf.get_feature_names()\n",
    "dense = text_tf.todense()\n",
    "denselist = dense.tolist()\n",
    "df =pd.DataFrame(denselist, columns=feature_names)"
   ]
  },
  {
   "cell_type": "code",
   "execution_count": null,
   "id": "31e1227c",
   "metadata": {
    "ExecuteTime": {
     "end_time": "2023-02-22T10:19:35.978852Z",
     "start_time": "2023-02-22T10:19:35.978812Z"
    }
   },
   "outputs": [],
   "source": [
    "df"
   ]
  },
  {
   "cell_type": "code",
   "execution_count": null,
   "id": "68bba65d",
   "metadata": {
    "ExecuteTime": {
     "end_time": "2023-02-22T10:19:35.984454Z",
     "start_time": "2023-02-22T10:19:35.984411Z"
    }
   },
   "outputs": [],
   "source": [
    "import matplotlib.pyplot as plt\n",
    "from wordcloud import WordCloud"
   ]
  },
  {
   "cell_type": "code",
   "execution_count": null,
   "id": "b740128e",
   "metadata": {
    "ExecuteTime": {
     "end_time": "2023-02-22T10:19:35.988245Z",
     "start_time": "2023-02-22T10:19:35.988181Z"
    }
   },
   "outputs": [],
   "source": [
    "pip install some_package"
   ]
  },
  {
   "cell_type": "code",
   "execution_count": null,
   "id": "cebcc9a4",
   "metadata": {
    "ExecuteTime": {
     "end_time": "2023-02-22T10:19:35.994592Z",
     "start_time": "2023-02-22T10:19:35.994551Z"
    }
   },
   "outputs": [],
   "source": [
    "word_list = ' '.join(df)\n"
   ]
  },
  {
   "cell_type": "code",
   "execution_count": null,
   "id": "8c8b3728",
   "metadata": {
    "ExecuteTime": {
     "end_time": "2023-02-22T10:19:35.998129Z",
     "start_time": "2023-02-22T10:19:35.998076Z"
    }
   },
   "outputs": [],
   "source": [
    "wordcloud = WordCloud(background_color='black',\n",
    "                      width=1800,\n",
    "                      height=1400).generate(word_list)"
   ]
  },
  {
   "cell_type": "code",
   "execution_count": null,
   "id": "a999d2c5",
   "metadata": {
    "ExecuteTime": {
     "end_time": "2023-02-22T10:19:36.007888Z",
     "start_time": "2023-02-22T10:19:36.007736Z"
    }
   },
   "outputs": [],
   "source": [
    "pip install pandas"
   ]
  },
  {
   "cell_type": "code",
   "execution_count": null,
   "id": "4e8294ae",
   "metadata": {
    "ExecuteTime": {
     "end_time": "2023-02-22T10:19:36.012189Z",
     "start_time": "2023-02-22T10:19:36.012158Z"
    }
   },
   "outputs": [],
   "source": [
    "pip install matplotlib"
   ]
  },
  {
   "cell_type": "code",
   "execution_count": null,
   "id": "40eac3a3",
   "metadata": {
    "ExecuteTime": {
     "end_time": "2023-02-22T10:19:36.017214Z",
     "start_time": "2023-02-22T10:19:36.017190Z"
    }
   },
   "outputs": [],
   "source": [
    "pip install wordcloud"
   ]
  },
  {
   "cell_type": "code",
   "execution_count": null,
   "id": "5a0199b4",
   "metadata": {
    "ExecuteTime": {
     "end_time": "2023-02-22T10:19:36.020554Z",
     "start_time": "2023-02-22T10:19:36.020481Z"
    }
   },
   "outputs": [],
   "source": [
    "plt.imshow(wordcloud)\n"
   ]
  },
  {
   "cell_type": "markdown",
   "id": "5c098af1",
   "metadata": {},
   "source": [
    "Sentimental Analysis"
   ]
  },
  {
   "cell_type": "code",
   "execution_count": null,
   "id": "e0df0491",
   "metadata": {
    "ExecuteTime": {
     "end_time": "2023-02-22T10:19:36.028056Z",
     "start_time": "2023-02-22T10:19:36.028011Z"
    }
   },
   "outputs": [],
   "source": [
    "with open(\"E:\\Data Science Asssignment\\Text Mining/positive-words.txt\",\"r\") as pw:\n",
    "    positive_words = pw.read().split(\"\\n\")\n"
   ]
  },
  {
   "cell_type": "code",
   "execution_count": null,
   "id": "1f483fdf",
   "metadata": {
    "ExecuteTime": {
     "end_time": "2023-02-22T10:19:36.033403Z",
     "start_time": "2023-02-22T10:19:36.033363Z"
    }
   },
   "outputs": [],
   "source": [
    "positive_words = positive_words[35:]\n"
   ]
  },
  {
   "cell_type": "code",
   "execution_count": null,
   "id": "6632a242",
   "metadata": {
    "ExecuteTime": {
     "end_time": "2023-02-22T10:19:36.039721Z",
     "start_time": "2023-02-22T10:19:36.039663Z"
    }
   },
   "outputs": [],
   "source": [
    "with open(\"E:\\Data Science Asssignment\\Text Mining/negative-words.txt\",\"r\",encoding='latin') as nw:\n",
    "    negative_words = nw.read().split(\"\\n\")"
   ]
  },
  {
   "cell_type": "code",
   "execution_count": null,
   "id": "b3d4c39f",
   "metadata": {
    "ExecuteTime": {
     "end_time": "2023-02-22T10:19:36.046270Z",
     "start_time": "2023-02-22T10:19:36.046228Z"
    }
   },
   "outputs": [],
   "source": [
    "negative_words = negative_words[35:]\n"
   ]
  },
  {
   "cell_type": "code",
   "execution_count": null,
   "id": "cd72ebf4",
   "metadata": {
    "ExecuteTime": {
     "end_time": "2023-02-22T10:19:36.050150Z",
     "start_time": "2023-02-22T10:19:36.050101Z"
    }
   },
   "outputs": [],
   "source": [
    "txt_neg_in_nw = ' '.join([word for word in df if word in negative_words])\n"
   ]
  },
  {
   "cell_type": "code",
   "execution_count": null,
   "id": "4b02560e",
   "metadata": {
    "ExecuteTime": {
     "end_time": "2023-02-22T10:19:36.056232Z",
     "start_time": "2023-02-22T10:19:36.056173Z"
    }
   },
   "outputs": [],
   "source": [
    "wordcloud_neg = WordCloud(\n",
    "                      background_color='black',\n",
    "                      width=1800,\n",
    "                      height=1400\n",
    "                     ).generate(txt_neg_in_nw)"
   ]
  },
  {
   "cell_type": "code",
   "execution_count": null,
   "id": "3f619e5b",
   "metadata": {
    "ExecuteTime": {
     "end_time": "2023-02-22T10:19:36.061485Z",
     "start_time": "2023-02-22T10:19:36.061427Z"
    }
   },
   "outputs": [],
   "source": [
    "txt_pos_in_pw = ' '.join([word for word in df if word in positive_words])\n"
   ]
  },
  {
   "cell_type": "code",
   "execution_count": null,
   "id": "5755a16a",
   "metadata": {
    "ExecuteTime": {
     "end_time": "2023-02-22T10:19:36.065351Z",
     "start_time": "2023-02-22T10:19:36.065295Z"
    }
   },
   "outputs": [],
   "source": [
    "wordcloud_pos = WordCloud(\n",
    "                      background_color='black',\n",
    "                      width=1800,\n",
    "                      height=1400\n",
    "                     ).generate(txt_pos_in_pw)\n"
   ]
  },
  {
   "cell_type": "markdown",
   "id": "b9d954ee",
   "metadata": {},
   "source": [
    "Conclusion"
   ]
  },
  {
   "cell_type": "code",
   "execution_count": null,
   "id": "70bfc302",
   "metadata": {
    "ExecuteTime": {
     "end_time": "2023-02-22T10:19:36.068979Z",
     "start_time": "2023-02-22T10:19:36.068945Z"
    }
   },
   "outputs": [],
   "source": [
    "plt.imshow(wordcloud_neg)\n"
   ]
  },
  {
   "cell_type": "code",
   "execution_count": null,
   "id": "4c956b53",
   "metadata": {
    "ExecuteTime": {
     "end_time": "2023-02-22T10:19:36.073659Z",
     "start_time": "2023-02-22T10:19:36.073593Z"
    }
   },
   "outputs": [],
   "source": [
    "plt.imshow(wordcloud_pos)\n"
   ]
  },
  {
   "cell_type": "code",
   "execution_count": null,
   "id": "176d5c31",
   "metadata": {},
   "outputs": [],
   "source": []
  }
 ],
 "metadata": {
  "kernelspec": {
   "display_name": "Python 3 (ipykernel)",
   "language": "python",
   "name": "python3"
  },
  "language_info": {
   "codemirror_mode": {
    "name": "ipython",
    "version": 3
   },
   "file_extension": ".py",
   "mimetype": "text/x-python",
   "name": "python",
   "nbconvert_exporter": "python",
   "pygments_lexer": "ipython3",
   "version": "3.9.13"
  }
 },
 "nbformat": 4,
 "nbformat_minor": 5
}
