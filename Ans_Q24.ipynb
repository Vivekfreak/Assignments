{
 "cells": [
  {
   "cell_type": "markdown",
   "id": "deb8cf87",
   "metadata": {
    "ExecuteTime": {
     "end_time": "2023-02-20T07:55:32.192774Z",
     "start_time": "2023-02-20T07:55:32.184801Z"
    }
   },
   "source": [
    "# Importing Libraries"
   ]
  },
  {
   "cell_type": "code",
   "execution_count": 1,
   "id": "6e355c29",
   "metadata": {
    "ExecuteTime": {
     "end_time": "2023-02-20T07:56:58.733119Z",
     "start_time": "2023-02-20T07:56:56.195971Z"
    }
   },
   "outputs": [],
   "source": [
    "from scipy import stats\n",
    "from scipy.stats import norm"
   ]
  },
  {
   "cell_type": "markdown",
   "id": "cbce3cf0",
   "metadata": {
    "ExecuteTime": {
     "end_time": "2023-02-20T07:56:08.417882Z",
     "start_time": "2023-02-20T07:56:08.412119Z"
    }
   },
   "source": [
    "### Q. A Government company claims that an average light bulb lasts 270 days. A researcher randomly selects 18 bulbs for testing. The sampled bulbs last an average of 260 days, with a standard deviation of 90 days. If the CEO's claim were true, what is the probability that 18 randomly selected bulbs would have an average life of no more than 260 days\n"
   ]
  },
  {
   "cell_type": "code",
   "execution_count": 2,
   "id": "0b8d3b23",
   "metadata": {
    "ExecuteTime": {
     "end_time": "2023-02-20T07:56:58.761845Z",
     "start_time": "2023-02-20T07:56:58.736473Z"
    }
   },
   "outputs": [
    {
     "data": {
      "text/plain": [
       "-0.4714045207910317"
      ]
     },
     "execution_count": 2,
     "metadata": {},
     "output_type": "execute_result"
    }
   ],
   "source": [
    "t=(260-270)/(90/18**0.5)\n",
    "t"
   ]
  },
  {
   "cell_type": "code",
   "execution_count": 3,
   "id": "6636779b",
   "metadata": {
    "ExecuteTime": {
     "end_time": "2023-02-20T07:56:58.784899Z",
     "start_time": "2023-02-20T07:56:58.766379Z"
    }
   },
   "outputs": [
    {
     "data": {
      "text/plain": [
       "0.32167411684460556"
      ]
     },
     "execution_count": 3,
     "metadata": {},
     "output_type": "execute_result"
    }
   ],
   "source": [
    "p_value=1-stats.t.cdf(abs(-0.4714),df=17)\n",
    "p_value"
   ]
  },
  {
   "cell_type": "code",
   "execution_count": 4,
   "id": "4c2023ea",
   "metadata": {
    "ExecuteTime": {
     "end_time": "2023-02-20T07:56:58.828487Z",
     "start_time": "2023-02-20T07:56:58.798821Z"
    }
   },
   "outputs": [
    {
     "data": {
      "text/plain": [
       "0.32167411684460556"
      ]
     },
     "execution_count": 4,
     "metadata": {},
     "output_type": "execute_result"
    }
   ],
   "source": [
    "p_value=stats.t.sf(abs(-0.4714),df=17)\n",
    "p_value"
   ]
  }
 ],
 "metadata": {
  "kernelspec": {
   "display_name": "Python 3 (ipykernel)",
   "language": "python",
   "name": "python3"
  },
  "language_info": {
   "codemirror_mode": {
    "name": "ipython",
    "version": 3
   },
   "file_extension": ".py",
   "mimetype": "text/x-python",
   "name": "python",
   "nbconvert_exporter": "python",
   "pygments_lexer": "ipython3",
   "version": "3.9.13"
  }
 },
 "nbformat": 4,
 "nbformat_minor": 5
}
