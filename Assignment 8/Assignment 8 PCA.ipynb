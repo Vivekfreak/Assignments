{
 "cells": [
  {
   "cell_type": "code",
   "execution_count": 1,
   "id": "320872c7",
   "metadata": {
    "ExecuteTime": {
     "end_time": "2023-02-22T09:30:04.500770Z",
     "start_time": "2023-02-22T09:29:58.951875Z"
    }
   },
   "outputs": [],
   "source": [
    "import pandas as pd\n",
    "import numpy as np\n",
    "import matplotlib.pyplot as plt\n",
    "%matplotlib inline \n",
    "from sklearn.preprocessing import StandardScaler\n",
    "from sklearn.model_selection import train_test_split\n",
    "from sklearn.decomposition import PCA\n",
    "from sklearn.linear_model import LogisticRegression"
   ]
  },
  {
   "cell_type": "code",
   "execution_count": 2,
   "id": "c4bd6cf8",
   "metadata": {
    "ExecuteTime": {
     "end_time": "2023-02-22T09:30:05.404527Z",
     "start_time": "2023-02-22T09:30:04.508098Z"
    }
   },
   "outputs": [
    {
     "data": {
      "text/html": [
       "<div>\n",
       "<style scoped>\n",
       "    .dataframe tbody tr th:only-of-type {\n",
       "        vertical-align: middle;\n",
       "    }\n",
       "\n",
       "    .dataframe tbody tr th {\n",
       "        vertical-align: top;\n",
       "    }\n",
       "\n",
       "    .dataframe thead th {\n",
       "        text-align: right;\n",
       "    }\n",
       "</style>\n",
       "<table border=\"1\" class=\"dataframe\">\n",
       "  <thead>\n",
       "    <tr style=\"text-align: right;\">\n",
       "      <th></th>\n",
       "      <th>Type</th>\n",
       "      <th>Alcohol</th>\n",
       "      <th>Malic</th>\n",
       "      <th>Ash</th>\n",
       "      <th>Alcalinity</th>\n",
       "      <th>Magnesium</th>\n",
       "      <th>Phenols</th>\n",
       "      <th>Flavanoids</th>\n",
       "      <th>Nonflavanoids</th>\n",
       "      <th>Proanthocyanins</th>\n",
       "      <th>Color</th>\n",
       "      <th>Hue</th>\n",
       "      <th>Dilution</th>\n",
       "      <th>Proline</th>\n",
       "    </tr>\n",
       "  </thead>\n",
       "  <tbody>\n",
       "    <tr>\n",
       "      <th>0</th>\n",
       "      <td>1</td>\n",
       "      <td>14.23</td>\n",
       "      <td>1.71</td>\n",
       "      <td>2.43</td>\n",
       "      <td>15.6</td>\n",
       "      <td>127</td>\n",
       "      <td>2.80</td>\n",
       "      <td>3.06</td>\n",
       "      <td>0.28</td>\n",
       "      <td>2.29</td>\n",
       "      <td>5.64</td>\n",
       "      <td>1.04</td>\n",
       "      <td>3.92</td>\n",
       "      <td>1065</td>\n",
       "    </tr>\n",
       "    <tr>\n",
       "      <th>1</th>\n",
       "      <td>1</td>\n",
       "      <td>13.20</td>\n",
       "      <td>1.78</td>\n",
       "      <td>2.14</td>\n",
       "      <td>11.2</td>\n",
       "      <td>100</td>\n",
       "      <td>2.65</td>\n",
       "      <td>2.76</td>\n",
       "      <td>0.26</td>\n",
       "      <td>1.28</td>\n",
       "      <td>4.38</td>\n",
       "      <td>1.05</td>\n",
       "      <td>3.40</td>\n",
       "      <td>1050</td>\n",
       "    </tr>\n",
       "    <tr>\n",
       "      <th>2</th>\n",
       "      <td>1</td>\n",
       "      <td>13.16</td>\n",
       "      <td>2.36</td>\n",
       "      <td>2.67</td>\n",
       "      <td>18.6</td>\n",
       "      <td>101</td>\n",
       "      <td>2.80</td>\n",
       "      <td>3.24</td>\n",
       "      <td>0.30</td>\n",
       "      <td>2.81</td>\n",
       "      <td>5.68</td>\n",
       "      <td>1.03</td>\n",
       "      <td>3.17</td>\n",
       "      <td>1185</td>\n",
       "    </tr>\n",
       "    <tr>\n",
       "      <th>3</th>\n",
       "      <td>1</td>\n",
       "      <td>14.37</td>\n",
       "      <td>1.95</td>\n",
       "      <td>2.50</td>\n",
       "      <td>16.8</td>\n",
       "      <td>113</td>\n",
       "      <td>3.85</td>\n",
       "      <td>3.49</td>\n",
       "      <td>0.24</td>\n",
       "      <td>2.18</td>\n",
       "      <td>7.80</td>\n",
       "      <td>0.86</td>\n",
       "      <td>3.45</td>\n",
       "      <td>1480</td>\n",
       "    </tr>\n",
       "    <tr>\n",
       "      <th>4</th>\n",
       "      <td>1</td>\n",
       "      <td>13.24</td>\n",
       "      <td>2.59</td>\n",
       "      <td>2.87</td>\n",
       "      <td>21.0</td>\n",
       "      <td>118</td>\n",
       "      <td>2.80</td>\n",
       "      <td>2.69</td>\n",
       "      <td>0.39</td>\n",
       "      <td>1.82</td>\n",
       "      <td>4.32</td>\n",
       "      <td>1.04</td>\n",
       "      <td>2.93</td>\n",
       "      <td>735</td>\n",
       "    </tr>\n",
       "  </tbody>\n",
       "</table>\n",
       "</div>"
      ],
      "text/plain": [
       "   Type  Alcohol  Malic   Ash  Alcalinity  Magnesium  Phenols  Flavanoids  \\\n",
       "0     1    14.23   1.71  2.43        15.6        127     2.80        3.06   \n",
       "1     1    13.20   1.78  2.14        11.2        100     2.65        2.76   \n",
       "2     1    13.16   2.36  2.67        18.6        101     2.80        3.24   \n",
       "3     1    14.37   1.95  2.50        16.8        113     3.85        3.49   \n",
       "4     1    13.24   2.59  2.87        21.0        118     2.80        2.69   \n",
       "\n",
       "   Nonflavanoids  Proanthocyanins  Color   Hue  Dilution  Proline  \n",
       "0           0.28             2.29   5.64  1.04      3.92     1065  \n",
       "1           0.26             1.28   4.38  1.05      3.40     1050  \n",
       "2           0.30             2.81   5.68  1.03      3.17     1185  \n",
       "3           0.24             2.18   7.80  0.86      3.45     1480  \n",
       "4           0.39             1.82   4.32  1.04      2.93      735  "
      ]
     },
     "execution_count": 2,
     "metadata": {},
     "output_type": "execute_result"
    }
   ],
   "source": [
    "df = pd.read_csv(\"https://raw.githubusercontent.com/Vivekfreak/Datasets/main/wine%20(1).csv\")\n",
    "df.head()"
   ]
  },
  {
   "cell_type": "code",
   "execution_count": 3,
   "id": "cdf3611e",
   "metadata": {
    "ExecuteTime": {
     "end_time": "2023-02-22T09:30:05.416494Z",
     "start_time": "2023-02-22T09:30:05.409291Z"
    }
   },
   "outputs": [],
   "source": [
    "x = df.iloc[:,1:]\n",
    "y= df['Type']"
   ]
  },
  {
   "cell_type": "code",
   "execution_count": 4,
   "id": "feb55136",
   "metadata": {
    "ExecuteTime": {
     "end_time": "2023-02-22T09:30:05.499626Z",
     "start_time": "2023-02-22T09:30:05.420528Z"
    }
   },
   "outputs": [
    {
     "data": {
      "text/html": [
       "<div>\n",
       "<style scoped>\n",
       "    .dataframe tbody tr th:only-of-type {\n",
       "        vertical-align: middle;\n",
       "    }\n",
       "\n",
       "    .dataframe tbody tr th {\n",
       "        vertical-align: top;\n",
       "    }\n",
       "\n",
       "    .dataframe thead th {\n",
       "        text-align: right;\n",
       "    }\n",
       "</style>\n",
       "<table border=\"1\" class=\"dataframe\">\n",
       "  <thead>\n",
       "    <tr style=\"text-align: right;\">\n",
       "      <th></th>\n",
       "      <th>Type</th>\n",
       "      <th>Alcohol</th>\n",
       "      <th>Malic</th>\n",
       "      <th>Ash</th>\n",
       "      <th>Alcalinity</th>\n",
       "      <th>Magnesium</th>\n",
       "      <th>Phenols</th>\n",
       "      <th>Flavanoids</th>\n",
       "      <th>Nonflavanoids</th>\n",
       "      <th>Proanthocyanins</th>\n",
       "      <th>Color</th>\n",
       "      <th>Hue</th>\n",
       "      <th>Dilution</th>\n",
       "      <th>Proline</th>\n",
       "    </tr>\n",
       "  </thead>\n",
       "  <tbody>\n",
       "    <tr>\n",
       "      <th>count</th>\n",
       "      <td>178.000000</td>\n",
       "      <td>178.000000</td>\n",
       "      <td>178.000000</td>\n",
       "      <td>178.000000</td>\n",
       "      <td>178.000000</td>\n",
       "      <td>178.000000</td>\n",
       "      <td>178.000000</td>\n",
       "      <td>178.000000</td>\n",
       "      <td>178.000000</td>\n",
       "      <td>178.000000</td>\n",
       "      <td>178.000000</td>\n",
       "      <td>178.000000</td>\n",
       "      <td>178.000000</td>\n",
       "      <td>178.000000</td>\n",
       "    </tr>\n",
       "    <tr>\n",
       "      <th>mean</th>\n",
       "      <td>1.938202</td>\n",
       "      <td>13.000618</td>\n",
       "      <td>2.336348</td>\n",
       "      <td>2.366517</td>\n",
       "      <td>19.494944</td>\n",
       "      <td>99.741573</td>\n",
       "      <td>2.295112</td>\n",
       "      <td>2.029270</td>\n",
       "      <td>0.361854</td>\n",
       "      <td>1.590899</td>\n",
       "      <td>5.058090</td>\n",
       "      <td>0.957449</td>\n",
       "      <td>2.611685</td>\n",
       "      <td>746.893258</td>\n",
       "    </tr>\n",
       "    <tr>\n",
       "      <th>std</th>\n",
       "      <td>0.775035</td>\n",
       "      <td>0.811827</td>\n",
       "      <td>1.117146</td>\n",
       "      <td>0.274344</td>\n",
       "      <td>3.339564</td>\n",
       "      <td>14.282484</td>\n",
       "      <td>0.625851</td>\n",
       "      <td>0.998859</td>\n",
       "      <td>0.124453</td>\n",
       "      <td>0.572359</td>\n",
       "      <td>2.318286</td>\n",
       "      <td>0.228572</td>\n",
       "      <td>0.709990</td>\n",
       "      <td>314.907474</td>\n",
       "    </tr>\n",
       "    <tr>\n",
       "      <th>min</th>\n",
       "      <td>1.000000</td>\n",
       "      <td>11.030000</td>\n",
       "      <td>0.740000</td>\n",
       "      <td>1.360000</td>\n",
       "      <td>10.600000</td>\n",
       "      <td>70.000000</td>\n",
       "      <td>0.980000</td>\n",
       "      <td>0.340000</td>\n",
       "      <td>0.130000</td>\n",
       "      <td>0.410000</td>\n",
       "      <td>1.280000</td>\n",
       "      <td>0.480000</td>\n",
       "      <td>1.270000</td>\n",
       "      <td>278.000000</td>\n",
       "    </tr>\n",
       "    <tr>\n",
       "      <th>25%</th>\n",
       "      <td>1.000000</td>\n",
       "      <td>12.362500</td>\n",
       "      <td>1.602500</td>\n",
       "      <td>2.210000</td>\n",
       "      <td>17.200000</td>\n",
       "      <td>88.000000</td>\n",
       "      <td>1.742500</td>\n",
       "      <td>1.205000</td>\n",
       "      <td>0.270000</td>\n",
       "      <td>1.250000</td>\n",
       "      <td>3.220000</td>\n",
       "      <td>0.782500</td>\n",
       "      <td>1.937500</td>\n",
       "      <td>500.500000</td>\n",
       "    </tr>\n",
       "    <tr>\n",
       "      <th>50%</th>\n",
       "      <td>2.000000</td>\n",
       "      <td>13.050000</td>\n",
       "      <td>1.865000</td>\n",
       "      <td>2.360000</td>\n",
       "      <td>19.500000</td>\n",
       "      <td>98.000000</td>\n",
       "      <td>2.355000</td>\n",
       "      <td>2.135000</td>\n",
       "      <td>0.340000</td>\n",
       "      <td>1.555000</td>\n",
       "      <td>4.690000</td>\n",
       "      <td>0.965000</td>\n",
       "      <td>2.780000</td>\n",
       "      <td>673.500000</td>\n",
       "    </tr>\n",
       "    <tr>\n",
       "      <th>75%</th>\n",
       "      <td>3.000000</td>\n",
       "      <td>13.677500</td>\n",
       "      <td>3.082500</td>\n",
       "      <td>2.557500</td>\n",
       "      <td>21.500000</td>\n",
       "      <td>107.000000</td>\n",
       "      <td>2.800000</td>\n",
       "      <td>2.875000</td>\n",
       "      <td>0.437500</td>\n",
       "      <td>1.950000</td>\n",
       "      <td>6.200000</td>\n",
       "      <td>1.120000</td>\n",
       "      <td>3.170000</td>\n",
       "      <td>985.000000</td>\n",
       "    </tr>\n",
       "    <tr>\n",
       "      <th>max</th>\n",
       "      <td>3.000000</td>\n",
       "      <td>14.830000</td>\n",
       "      <td>5.800000</td>\n",
       "      <td>3.230000</td>\n",
       "      <td>30.000000</td>\n",
       "      <td>162.000000</td>\n",
       "      <td>3.880000</td>\n",
       "      <td>5.080000</td>\n",
       "      <td>0.660000</td>\n",
       "      <td>3.580000</td>\n",
       "      <td>13.000000</td>\n",
       "      <td>1.710000</td>\n",
       "      <td>4.000000</td>\n",
       "      <td>1680.000000</td>\n",
       "    </tr>\n",
       "  </tbody>\n",
       "</table>\n",
       "</div>"
      ],
      "text/plain": [
       "             Type     Alcohol       Malic         Ash  Alcalinity   Magnesium  \\\n",
       "count  178.000000  178.000000  178.000000  178.000000  178.000000  178.000000   \n",
       "mean     1.938202   13.000618    2.336348    2.366517   19.494944   99.741573   \n",
       "std      0.775035    0.811827    1.117146    0.274344    3.339564   14.282484   \n",
       "min      1.000000   11.030000    0.740000    1.360000   10.600000   70.000000   \n",
       "25%      1.000000   12.362500    1.602500    2.210000   17.200000   88.000000   \n",
       "50%      2.000000   13.050000    1.865000    2.360000   19.500000   98.000000   \n",
       "75%      3.000000   13.677500    3.082500    2.557500   21.500000  107.000000   \n",
       "max      3.000000   14.830000    5.800000    3.230000   30.000000  162.000000   \n",
       "\n",
       "          Phenols  Flavanoids  Nonflavanoids  Proanthocyanins       Color  \\\n",
       "count  178.000000  178.000000     178.000000       178.000000  178.000000   \n",
       "mean     2.295112    2.029270       0.361854         1.590899    5.058090   \n",
       "std      0.625851    0.998859       0.124453         0.572359    2.318286   \n",
       "min      0.980000    0.340000       0.130000         0.410000    1.280000   \n",
       "25%      1.742500    1.205000       0.270000         1.250000    3.220000   \n",
       "50%      2.355000    2.135000       0.340000         1.555000    4.690000   \n",
       "75%      2.800000    2.875000       0.437500         1.950000    6.200000   \n",
       "max      3.880000    5.080000       0.660000         3.580000   13.000000   \n",
       "\n",
       "              Hue    Dilution      Proline  \n",
       "count  178.000000  178.000000   178.000000  \n",
       "mean     0.957449    2.611685   746.893258  \n",
       "std      0.228572    0.709990   314.907474  \n",
       "min      0.480000    1.270000   278.000000  \n",
       "25%      0.782500    1.937500   500.500000  \n",
       "50%      0.965000    2.780000   673.500000  \n",
       "75%      1.120000    3.170000   985.000000  \n",
       "max      1.710000    4.000000  1680.000000  "
      ]
     },
     "execution_count": 4,
     "metadata": {},
     "output_type": "execute_result"
    }
   ],
   "source": [
    "df.describe()"
   ]
  },
  {
   "cell_type": "code",
   "execution_count": 5,
   "id": "a5325f31",
   "metadata": {
    "ExecuteTime": {
     "end_time": "2023-02-22T09:30:05.535217Z",
     "start_time": "2023-02-22T09:30:05.511746Z"
    }
   },
   "outputs": [
    {
     "name": "stdout",
     "output_type": "stream",
     "text": [
      "<class 'pandas.core.frame.DataFrame'>\n",
      "RangeIndex: 178 entries, 0 to 177\n",
      "Data columns (total 14 columns):\n",
      " #   Column           Non-Null Count  Dtype  \n",
      "---  ------           --------------  -----  \n",
      " 0   Type             178 non-null    int64  \n",
      " 1   Alcohol          178 non-null    float64\n",
      " 2   Malic            178 non-null    float64\n",
      " 3   Ash              178 non-null    float64\n",
      " 4   Alcalinity       178 non-null    float64\n",
      " 5   Magnesium        178 non-null    int64  \n",
      " 6   Phenols          178 non-null    float64\n",
      " 7   Flavanoids       178 non-null    float64\n",
      " 8   Nonflavanoids    178 non-null    float64\n",
      " 9   Proanthocyanins  178 non-null    float64\n",
      " 10  Color            178 non-null    float64\n",
      " 11  Hue              178 non-null    float64\n",
      " 12  Dilution         178 non-null    float64\n",
      " 13  Proline          178 non-null    int64  \n",
      "dtypes: float64(11), int64(3)\n",
      "memory usage: 19.6 KB\n"
     ]
    }
   ],
   "source": [
    "df.info()"
   ]
  },
  {
   "cell_type": "code",
   "execution_count": 6,
   "id": "69e1dfb7",
   "metadata": {
    "ExecuteTime": {
     "end_time": "2023-02-22T09:30:05.570551Z",
     "start_time": "2023-02-22T09:30:05.546208Z"
    }
   },
   "outputs": [
    {
     "data": {
      "text/plain": [
       "array([[ 1.51861254, -0.5622498 ,  0.23205254, ...,  0.36217728,\n",
       "         1.84791957,  1.01300893],\n",
       "       [ 0.24628963, -0.49941338, -0.82799632, ...,  0.40605066,\n",
       "         1.1134493 ,  0.96524152],\n",
       "       [ 0.19687903,  0.02123125,  1.10933436, ...,  0.31830389,\n",
       "         0.78858745,  1.39514818],\n",
       "       ...,\n",
       "       [ 0.33275817,  1.74474449, -0.38935541, ..., -1.61212515,\n",
       "        -1.48544548,  0.28057537],\n",
       "       [ 0.20923168,  0.22769377,  0.01273209, ..., -1.56825176,\n",
       "        -1.40069891,  0.29649784],\n",
       "       [ 1.39508604,  1.58316512,  1.36520822, ..., -1.52437837,\n",
       "        -1.42894777, -0.59516041]])"
      ]
     },
     "execution_count": 6,
     "metadata": {},
     "output_type": "execute_result"
    }
   ],
   "source": [
    "s=StandardScaler()\n",
    "x1=s.fit_transform(x)\n",
    "x1"
   ]
  },
  {
   "cell_type": "markdown",
   "id": "ae4f944c",
   "metadata": {},
   "source": [
    "# PCA"
   ]
  },
  {
   "cell_type": "code",
   "execution_count": 7,
   "id": "91788f99",
   "metadata": {
    "ExecuteTime": {
     "end_time": "2023-02-22T09:30:05.616110Z",
     "start_time": "2023-02-22T09:30:05.582110Z"
    }
   },
   "outputs": [
    {
     "data": {
      "text/plain": [
       "array([[ 3.31675081e+00, -1.44346263e+00, -1.65739045e-01, ...,\n",
       "        -4.51563395e-01,  5.40810414e-01, -6.62386309e-02],\n",
       "       [ 2.20946492e+00,  3.33392887e-01, -2.02645737e+00, ...,\n",
       "        -1.42657306e-01,  3.88237741e-01,  3.63650247e-03],\n",
       "       [ 2.51674015e+00, -1.03115130e+00,  9.82818670e-01, ...,\n",
       "        -2.86672847e-01,  5.83573183e-04,  2.17165104e-02],\n",
       "       ...,\n",
       "       [-2.67783946e+00, -2.76089913e+00, -9.40941877e-01, ...,\n",
       "         5.12492025e-01,  6.98766451e-01,  7.20776948e-02],\n",
       "       [-2.38701709e+00, -2.29734668e+00, -5.50696197e-01, ...,\n",
       "         2.99821968e-01,  3.39820654e-01, -2.18657605e-02],\n",
       "       [-3.20875816e+00, -2.76891957e+00,  1.01391366e+00, ...,\n",
       "        -2.29964331e-01, -1.88787963e-01, -3.23964720e-01]])"
      ]
     },
     "execution_count": 7,
     "metadata": {},
     "output_type": "execute_result"
    }
   ],
   "source": [
    "pca=PCA()\n",
    "pca_values=pca.fit_transform(x1)\n",
    "pca_values"
   ]
  },
  {
   "cell_type": "code",
   "execution_count": 8,
   "id": "6169ed3b",
   "metadata": {
    "ExecuteTime": {
     "end_time": "2023-02-22T09:30:05.635240Z",
     "start_time": "2023-02-22T09:30:05.624617Z"
    }
   },
   "outputs": [
    {
     "data": {
      "text/plain": [
       "array([0.36198848, 0.1920749 , 0.11123631, 0.0706903 , 0.06563294,\n",
       "       0.04935823, 0.04238679, 0.02680749, 0.02222153, 0.01930019,\n",
       "       0.01736836, 0.01298233, 0.00795215])"
      ]
     },
     "execution_count": 8,
     "metadata": {},
     "output_type": "execute_result"
    }
   ],
   "source": [
    "var = pca.explained_variance_ratio_\n",
    "var"
   ]
  },
  {
   "cell_type": "code",
   "execution_count": 9,
   "id": "ee2cd37f",
   "metadata": {
    "ExecuteTime": {
     "end_time": "2023-02-22T09:30:05.653294Z",
     "start_time": "2023-02-22T09:30:05.641485Z"
    }
   },
   "outputs": [
    {
     "data": {
      "text/plain": [
       "array([ 36.2 ,  55.41,  66.53,  73.6 ,  80.16,  85.1 ,  89.34,  92.02,\n",
       "        94.24,  96.17,  97.91,  99.21, 100.01])"
      ]
     },
     "execution_count": 9,
     "metadata": {},
     "output_type": "execute_result"
    }
   ],
   "source": [
    "var1 = np.cumsum(np.round(var,decimals = 4)*100)\n",
    "var1"
   ]
  },
  {
   "cell_type": "code",
   "execution_count": 10,
   "id": "45ff06fc",
   "metadata": {
    "ExecuteTime": {
     "end_time": "2023-02-22T09:30:05.949182Z",
     "start_time": "2023-02-22T09:30:05.659747Z"
    }
   },
   "outputs": [
    {
     "data": {
      "text/plain": [
       "[<matplotlib.lines.Line2D at 0x7fbebae3e730>]"
      ]
     },
     "execution_count": 10,
     "metadata": {},
     "output_type": "execute_result"
    },
    {
     "data": {
      "image/png": "[encoded data removed]",
      "text/plain": [
       "<Figure size 640x480 with 1 Axes>"
      ]
     },
     "metadata": {},
     "output_type": "display_data"
    }
   ],
   "source": [
    "plt.plot(var1,color=\"red\")"
   ]
  },
  {
   "cell_type": "code",
   "execution_count": 11,
   "id": "a2cd4918",
   "metadata": {
    "ExecuteTime": {
     "end_time": "2023-02-22T09:30:05.984033Z",
     "start_time": "2023-02-22T09:30:05.956918Z"
    }
   },
   "outputs": [
    {
     "data": {
      "text/plain": [
       "array([[ 3.31675081e+00, -1.44346263e+00, -1.65739045e-01],\n",
       "       [ 2.20946492e+00,  3.33392887e-01, -2.02645737e+00],\n",
       "       [ 2.51674015e+00, -1.03115130e+00,  9.82818670e-01],\n",
       "       [ 3.75706561e+00, -2.75637191e+00, -1.76191842e-01],\n",
       "       [ 1.00890849e+00, -8.69830821e-01,  2.02668822e+00],\n",
       "       [ 3.05025392e+00, -2.12240111e+00, -6.29395827e-01],\n",
       "       [ 2.44908967e+00, -1.17485013e+00, -9.77094891e-01],\n",
       "       [ 2.05943687e+00, -1.60896307e+00,  1.46281883e-01],\n",
       "       [ 2.51087430e+00, -9.18070957e-01, -1.77096903e+00],\n",
       "       [ 2.75362819e+00, -7.89437674e-01, -9.84247490e-01],\n",
       "       [ 3.47973668e+00, -1.30233324e+00, -4.22735217e-01],\n",
       "       [ 1.75475290e+00, -6.11977229e-01, -1.19087832e+00],\n",
       "       [ 2.11346234e+00, -6.75706339e-01, -8.65086426e-01],\n",
       "       [ 3.45815682e+00, -1.13062988e+00, -1.20427635e+00],\n",
       "       [ 4.31278391e+00, -2.09597558e+00, -1.26391275e+00],\n",
       "       [ 2.30518820e+00, -1.66255173e+00,  2.17902616e-01],\n",
       "       [ 2.17195527e+00, -2.32730534e+00,  8.31729866e-01],\n",
       "       [ 1.89897118e+00, -1.63136888e+00,  7.94913792e-01],\n",
       "       [ 3.54198508e+00, -2.51834367e+00, -4.85458508e-01],\n",
       "       [ 2.08452220e+00, -1.06113799e+00, -1.64746678e-01],\n",
       "       [ 3.12440254e+00, -7.86897106e-01, -3.64887083e-01],\n",
       "       [ 1.08657007e+00, -2.41743551e-01,  9.36961600e-01],\n",
       "       [ 2.53522408e+00,  9.18406207e-02, -3.11932659e-01],\n",
       "       [ 1.64498834e+00,  5.16278930e-01,  1.43885095e-01],\n",
       "       [ 1.76157587e+00,  3.17148933e-01,  8.90285647e-01],\n",
       "       [ 9.90079102e-01, -9.40667338e-01,  3.82090801e+00],\n",
       "       [ 1.77527763e+00, -6.86175134e-01, -8.67004065e-02],\n",
       "       [ 1.23542396e+00,  8.98070414e-02, -1.38689654e+00],\n",
       "       [ 2.18840633e+00, -6.89569621e-01,  1.39456688e+00],\n",
       "       [ 2.25610898e+00, -1.91461937e-01, -1.09265726e+00],\n",
       "       [ 2.50022003e+00, -1.24083383e+00,  1.38601785e+00],\n",
       "       [ 2.67741105e+00, -1.47187365e+00, -3.32261728e-01],\n",
       "       [ 1.62857912e+00, -5.27044506e-02, -1.67128706e-01],\n",
       "       [ 1.90269086e+00, -1.63306043e+00,  1.17208212e+00],\n",
       "       [ 1.41038853e+00, -6.97934325e-01,  4.79743025e-01],\n",
       "       [ 1.90382623e+00, -1.76710951e-01,  4.50835040e-01],\n",
       "       [ 1.38486223e+00, -6.58639854e-01,  4.58438581e-01],\n",
       "       [ 1.12220741e+00, -1.14109760e-01, -3.91072767e-02],\n",
       "       [ 1.50219450e+00,  7.69432006e-01, -1.42617735e+00],\n",
       "       [ 2.52980109e+00, -1.80300198e+00, -3.43152389e-01],\n",
       "       [ 2.58809543e+00, -7.79616304e-01, -1.18477466e-01],\n",
       "       [ 6.68481994e-01, -1.69960941e-01, -7.83362548e-01],\n",
       "       [ 3.07080699e+00, -1.15591896e+00, -3.12758084e-01],\n",
       "       [ 4.62209138e-01, -3.30742132e-01, -2.01476496e-01],\n",
       "       [ 2.10135193e+00,  7.10089210e-02, -6.55849415e-01],\n",
       "       [ 1.13616618e+00, -1.77710739e+00,  2.87057358e-02],\n",
       "       [ 2.72660096e+00, -1.19133469e+00, -5.39773261e-01],\n",
       "       [ 2.82133927e+00, -6.46258599e-01, -1.15555241e+00],\n",
       "       [ 2.00985085e+00, -1.24702946e+00, -5.72939879e-02],\n",
       "       [ 2.70749130e+00, -1.75196741e+00, -6.43113612e-01],\n",
       "       [ 3.21491747e+00, -1.66991995e-01, -1.97357168e+00],\n",
       "       [ 2.85895983e+00, -7.45278804e-01,  4.71950216e-03],\n",
       "       [ 3.50560436e+00, -1.61273386e+00, -5.20774530e-01],\n",
       "       [ 2.22479138e+00, -1.87516800e+00,  3.39549850e-01],\n",
       "       [ 2.14698782e+00, -1.01675154e+00, -9.57762762e-01],\n",
       "       [ 2.46932948e+00, -1.32900831e+00,  5.13437453e-01],\n",
       "       [ 2.74151791e+00, -1.43654878e+00, -6.12473396e-01],\n",
       "       [ 2.17374092e+00, -1.21219984e+00,  2.61779593e-01],\n",
       "       [ 3.13938015e+00, -1.73157912e+00, -2.85661413e-01],\n",
       "       [-9.28581969e-01,  3.07348616e+00, -4.58506401e+00],\n",
       "       [-1.54248014e+00,  1.38144351e+00, -8.74683112e-01],\n",
       "       [-1.83624976e+00,  8.29984123e-01, -1.60570219e+00],\n",
       "       [ 3.06068341e-02,  1.26278614e+00, -1.78440801e+00],\n",
       "       [ 2.05026161e+00,  1.92503260e+00, -7.36877735e-03],\n",
       "       [-6.09680827e-01,  1.90805881e+00,  6.79357938e-01],\n",
       "       [ 9.00227839e-01,  7.63911474e-01,  5.73361302e-01],\n",
       "       [ 2.24850719e+00,  1.88459248e+00, -2.03184019e+00],\n",
       "       [ 1.83384027e-01,  2.42714611e+00, -1.06974556e+00],\n",
       "       [-8.12805027e-01,  2.20513987e-01, -7.07005396e-01],\n",
       "       [ 1.97562050e+00,  1.40328323e+00, -1.23827622e+00],\n",
       "       [-1.57221622e+00,  8.84983137e-01, -6.28997950e-01],\n",
       "       [ 1.65768181e+00,  9.56712197e-01,  1.95258422e+00],\n",
       "       [-7.25372388e-01,  1.06364540e+00,  8.03322286e-02],\n",
       "       [ 2.56222717e+00, -2.60198551e-01,  3.37439396e+00],\n",
       "       [ 1.83256757e+00,  1.28787820e+00,  4.58280027e-01],\n",
       "       [-8.67992903e-01,  2.44410119e+00, -1.56333318e+00],\n",
       "       [ 3.70014404e-01,  2.15390698e+00, -2.44938635e+00],\n",
       "       [-1.45737704e+00,  1.38335177e+00, -2.27306902e-01],\n",
       "       [ 1.26293085e+00,  7.70849530e-01, -1.18422452e+00],\n",
       "       [ 3.76150372e-01,  1.02704340e+00,  1.79446629e+00],\n",
       "       [ 7.62063904e-01,  3.37505381e+00, -3.57470056e-01],\n",
       "       [ 1.03457797e+00,  1.45070974e+00, -3.63011773e-01],\n",
       "       [-4.94876756e-01,  2.38124353e+00,  1.33574318e+00],\n",
       "       [-2.53897708e+00,  8.74433573e-02,  4.74251393e-01],\n",
       "       [ 8.35320145e-01,  1.47367055e+00,  6.10093576e-01],\n",
       "       [ 7.87904615e-01,  2.02662652e+00, -2.54723404e-01],\n",
       "       [-8.06832156e-01,  2.23383039e+00,  7.72855797e-01],\n",
       "       [-5.58042625e-01,  2.37298543e+00,  2.30761140e+00],\n",
       "       [-1.11511104e+00,  1.80224719e+00,  9.59253308e-01],\n",
       "       [-5.55722830e-01,  2.65754004e+00,  8.49126898e-01],\n",
       "       [-1.34928528e+00,  2.11800147e+00, -4.76523208e-02],\n",
       "       [-1.56448261e+00,  1.85221452e+00,  7.81067031e-01],\n",
       "       [-1.93255561e+00,  1.55949546e+00, -8.92746761e-02],\n",
       "       [ 7.46665942e-01,  2.31293171e+00,  1.14679769e-01],\n",
       "       [ 9.57455364e-01,  2.22352843e+00,  1.42444774e-01],\n",
       "       [ 2.54386518e+00, -1.69274023e-01,  7.88696991e-01],\n",
       "       [-5.43952589e-01,  3.68926546e-01,  1.30889593e+00],\n",
       "       [ 1.03104975e+00,  2.56556935e+00, -1.08639017e+00],\n",
       "       [ 2.25190942e+00,  1.43274138e+00, -2.30208244e-01],\n",
       "       [ 1.41021602e+00,  2.16619177e+00,  7.48896411e-01],\n",
       "       [ 7.97719793e-01,  2.37694880e+00, -1.56811253e+00],\n",
       "       [-5.49531727e-01,  2.29312864e+00, -1.49893532e+00],\n",
       "       [-1.61173740e-01,  1.16448332e+00,  1.00371310e+00],\n",
       "       [-6.59794942e-01,  2.67996119e+00, -7.64920868e-01],\n",
       "       [ 3.92354408e-01,  2.09873171e+00, -4.71850008e-01],\n",
       "       [-1.77249908e+00,  1.71728847e+00,  9.47033174e-01],\n",
       "       [-3.66267357e-01,  2.16935330e+00, -4.81324235e-01],\n",
       "       [-1.62067257e+00,  1.35558339e+00,  2.87159001e-01],\n",
       "       [ 8.25357835e-02,  2.30623459e+00, -4.63574989e-01],\n",
       "       [ 1.57827507e+00,  1.46203429e+00,  1.77964595e+00],\n",
       "       [ 1.42056925e+00,  1.41820664e+00,  1.39275829e-01],\n",
       "       [-2.78702754e-01,  1.93056809e+00,  7.86705530e-02],\n",
       "       [-1.30314497e+00,  7.63172314e-01,  1.99959651e+00],\n",
       "       [-4.57071866e-01,  2.26941561e+00,  1.06133897e+00],\n",
       "       [-4.94185847e-01,  1.93904505e+00,  1.32393807e+00],\n",
       "       [ 4.82074410e-01,  3.87178385e+00,  1.34427122e+00],\n",
       "       [-2.52888878e-01,  2.82149237e+00, -3.02639785e-01],\n",
       "       [-1.07227638e-01,  1.92892204e+00,  6.90148243e-01],\n",
       "       [-2.43301260e+00,  1.25714104e+00, -1.90302740e+00],\n",
       "       [-5.51089539e-01,  2.22216155e+00, -3.56228830e-01],\n",
       "       [ 7.39621929e-01,  1.40895667e+00,  1.12534549e+00],\n",
       "       [ 1.33632173e+00, -2.53336931e-01,  5.34538818e+00],\n",
       "       [-1.17708700e+00,  6.63966840e-01,  3.01022189e+00],\n",
       "       [-4.62335008e-01,  6.18288179e-01,  4.83442366e-01],\n",
       "       [ 9.78474079e-01,  1.44557050e+00,  1.48123697e+00],\n",
       "       [-9.68097263e-02,  2.10999799e+00,  4.34826116e-01],\n",
       "       [ 3.84871459e-02,  1.26676211e+00,  6.87577913e-01],\n",
       "       [-1.59715850e+00,  1.20814357e+00,  3.36117556e+00],\n",
       "       [-4.79564916e-01,  1.93884066e+00,  1.29650752e+00],\n",
       "       [-1.79283347e+00,  1.15028810e+00,  7.82800173e-01],\n",
       "       [-1.32710166e+00, -1.70389232e-01, -1.18001336e+00],\n",
       "       [-2.38450083e+00, -3.74582606e-01, -7.23822595e-01],\n",
       "       [-2.93694010e+00, -2.63861830e-01, -1.67639816e-01],\n",
       "       [-2.14681113e+00, -3.68254952e-01, -4.53301301e-01],\n",
       "       [-2.36986949e+00,  4.59634809e-01, -1.10139979e+00],\n",
       "       [-3.06384157e+00, -3.53412835e-01, -1.09912410e+00],\n",
       "       [-3.91575378e+00, -1.54582519e-01,  2.21827800e-01],\n",
       "       [-3.93646339e+00, -6.59687233e-01,  1.71221542e+00],\n",
       "       [-3.09427612e+00, -3.48842759e-01, -1.02683141e+00],\n",
       "       [-2.37447163e+00, -2.91980352e-01,  1.24191433e+00],\n",
       "       [-2.77881295e+00, -2.86804873e-01,  6.09670124e-01],\n",
       "       [-2.28656128e+00, -3.72507845e-01, -9.71643032e-01],\n",
       "       [-2.98563349e+00, -4.89217908e-01,  9.46952932e-01],\n",
       "       [-2.37519470e+00, -4.82333717e-01, -2.52883994e-01],\n",
       "       [-2.20986553e+00, -1.16005250e+00, -1.24512523e+00],\n",
       "       [-2.62562100e+00, -5.63160764e-01, -8.55961082e-01],\n",
       "       [-4.28063878e+00, -6.49670964e-01, -1.45819696e+00],\n",
       "       [-3.58264137e+00, -1.27270275e+00, -1.10784038e-01],\n",
       "       [-2.80706372e+00, -1.57053379e+00, -4.72527935e-01],\n",
       "       [-2.89965933e+00, -2.04105701e+00, -4.95959810e-01],\n",
       "       [-2.32073698e+00, -2.35636608e+00,  4.37681744e-01],\n",
       "       [-2.54983095e+00, -2.04528309e+00, -3.12267999e-01],\n",
       "       [-1.81254128e+00, -1.52764595e+00,  1.36258978e+00],\n",
       "       [-2.76014464e+00, -2.13893235e+00, -9.64628688e-01],\n",
       "       [-2.73715050e+00, -4.09886271e-01, -1.19040468e+00],\n",
       "       [-3.60486887e+00, -1.80238422e+00, -9.40368613e-02],\n",
       "       [-2.88982600e+00, -1.92521861e+00, -7.82322556e-01],\n",
       "       [-3.39215608e+00, -1.31187639e+00,  1.60202597e+00],\n",
       "       [-1.04818190e+00, -3.51508969e+00,  1.16003857e+00],\n",
       "       [-1.60991228e+00, -2.40663816e+00,  5.48559697e-01],\n",
       "       [-3.14313097e+00, -7.38161044e-01, -9.09987239e-02],\n",
       "       [-2.24015690e+00, -1.17546529e+00, -1.01376932e-01],\n",
       "       [-2.84767378e+00, -5.56043966e-01,  8.04215218e-01],\n",
       "       [-2.59749706e+00, -6.97965537e-01, -8.84939521e-01],\n",
       "       [-2.94929937e+00, -1.55530896e+00, -9.83400727e-01],\n",
       "       [-3.53003227e+00, -8.82526796e-01, -4.66029128e-01],\n",
       "       [-2.40611054e+00, -2.59235618e+00,  4.28226211e-01],\n",
       "       [-2.92908473e+00, -1.27444695e+00, -1.21335827e+00],\n",
       "       [-2.18141278e+00, -2.07753731e+00,  7.63782552e-01],\n",
       "       [-2.38092779e+00, -2.58866743e+00,  1.41804403e+00],\n",
       "       [-3.21161722e+00,  2.51249104e-01, -8.47129152e-01],\n",
       "       [-3.67791872e+00, -8.47747844e-01, -1.33942023e+00],\n",
       "       [-2.46555580e+00, -2.19379830e+00, -9.18780960e-01],\n",
       "       [-3.37052415e+00, -2.21628914e+00, -3.42569512e-01],\n",
       "       [-2.60195585e+00, -1.75722935e+00,  2.07581355e-01],\n",
       "       [-2.67783946e+00, -2.76089913e+00, -9.40941877e-01],\n",
       "       [-2.38701709e+00, -2.29734668e+00, -5.50696197e-01],\n",
       "       [-3.20875816e+00, -2.76891957e+00,  1.01391366e+00]])"
      ]
     },
     "execution_count": 11,
     "metadata": {},
     "output_type": "execute_result"
    }
   ],
   "source": [
    "pca = PCA(n_components=3)\n",
    "pca_values = pca.fit_transform(x1)\n",
    "pca_values"
   ]
  },
  {
   "cell_type": "code",
   "execution_count": 12,
   "id": "a27d94fa",
   "metadata": {
    "ExecuteTime": {
     "end_time": "2023-02-22T09:30:06.011731Z",
     "start_time": "2023-02-22T09:30:05.998164Z"
    }
   },
   "outputs": [
    {
     "data": {
      "text/plain": [
       "array([0.36198848, 0.1920749 , 0.11123631])"
      ]
     },
     "execution_count": 12,
     "metadata": {},
     "output_type": "execute_result"
    }
   ],
   "source": [
    "var = pca.explained_variance_ratio_\n",
    "var"
   ]
  },
  {
   "cell_type": "code",
   "execution_count": 13,
   "id": "4f62c17f",
   "metadata": {
    "ExecuteTime": {
     "end_time": "2023-02-22T09:30:06.045985Z",
     "start_time": "2023-02-22T09:30:06.015439Z"
    }
   },
   "outputs": [
    {
     "data": {
      "text/html": [
       "<div>\n",
       "<style scoped>\n",
       "    .dataframe tbody tr th:only-of-type {\n",
       "        vertical-align: middle;\n",
       "    }\n",
       "\n",
       "    .dataframe tbody tr th {\n",
       "        vertical-align: top;\n",
       "    }\n",
       "\n",
       "    .dataframe thead th {\n",
       "        text-align: right;\n",
       "    }\n",
       "</style>\n",
       "<table border=\"1\" class=\"dataframe\">\n",
       "  <thead>\n",
       "    <tr style=\"text-align: right;\">\n",
       "      <th></th>\n",
       "      <th>pc1</th>\n",
       "      <th>pc2</th>\n",
       "      <th>pc3</th>\n",
       "    </tr>\n",
       "  </thead>\n",
       "  <tbody>\n",
       "    <tr>\n",
       "      <th>0</th>\n",
       "      <td>3.316751</td>\n",
       "      <td>-1.443463</td>\n",
       "      <td>-0.165739</td>\n",
       "    </tr>\n",
       "    <tr>\n",
       "      <th>1</th>\n",
       "      <td>2.209465</td>\n",
       "      <td>0.333393</td>\n",
       "      <td>-2.026457</td>\n",
       "    </tr>\n",
       "    <tr>\n",
       "      <th>2</th>\n",
       "      <td>2.516740</td>\n",
       "      <td>-1.031151</td>\n",
       "      <td>0.982819</td>\n",
       "    </tr>\n",
       "    <tr>\n",
       "      <th>3</th>\n",
       "      <td>3.757066</td>\n",
       "      <td>-2.756372</td>\n",
       "      <td>-0.176192</td>\n",
       "    </tr>\n",
       "    <tr>\n",
       "      <th>4</th>\n",
       "      <td>1.008908</td>\n",
       "      <td>-0.869831</td>\n",
       "      <td>2.026688</td>\n",
       "    </tr>\n",
       "    <tr>\n",
       "      <th>...</th>\n",
       "      <td>...</td>\n",
       "      <td>...</td>\n",
       "      <td>...</td>\n",
       "    </tr>\n",
       "    <tr>\n",
       "      <th>173</th>\n",
       "      <td>-3.370524</td>\n",
       "      <td>-2.216289</td>\n",
       "      <td>-0.342570</td>\n",
       "    </tr>\n",
       "    <tr>\n",
       "      <th>174</th>\n",
       "      <td>-2.601956</td>\n",
       "      <td>-1.757229</td>\n",
       "      <td>0.207581</td>\n",
       "    </tr>\n",
       "    <tr>\n",
       "      <th>175</th>\n",
       "      <td>-2.677839</td>\n",
       "      <td>-2.760899</td>\n",
       "      <td>-0.940942</td>\n",
       "    </tr>\n",
       "    <tr>\n",
       "      <th>176</th>\n",
       "      <td>-2.387017</td>\n",
       "      <td>-2.297347</td>\n",
       "      <td>-0.550696</td>\n",
       "    </tr>\n",
       "    <tr>\n",
       "      <th>177</th>\n",
       "      <td>-3.208758</td>\n",
       "      <td>-2.768920</td>\n",
       "      <td>1.013914</td>\n",
       "    </tr>\n",
       "  </tbody>\n",
       "</table>\n",
       "<p>178 rows × 3 columns</p>\n",
       "</div>"
      ],
      "text/plain": [
       "          pc1       pc2       pc3\n",
       "0    3.316751 -1.443463 -0.165739\n",
       "1    2.209465  0.333393 -2.026457\n",
       "2    2.516740 -1.031151  0.982819\n",
       "3    3.757066 -2.756372 -0.176192\n",
       "4    1.008908 -0.869831  2.026688\n",
       "..        ...       ...       ...\n",
       "173 -3.370524 -2.216289 -0.342570\n",
       "174 -2.601956 -1.757229  0.207581\n",
       "175 -2.677839 -2.760899 -0.940942\n",
       "176 -2.387017 -2.297347 -0.550696\n",
       "177 -3.208758 -2.768920  1.013914\n",
       "\n",
       "[178 rows x 3 columns]"
      ]
     },
     "execution_count": 13,
     "metadata": {},
     "output_type": "execute_result"
    }
   ],
   "source": [
    "df1= pd.DataFrame(pca_values, columns=['pc1','pc2','pc3'])\n",
    "df1"
   ]
  },
  {
   "cell_type": "code",
   "execution_count": 14,
   "id": "73e42619",
   "metadata": {
    "ExecuteTime": {
     "end_time": "2023-02-22T09:30:06.096317Z",
     "start_time": "2023-02-22T09:30:06.067467Z"
    }
   },
   "outputs": [
    {
     "data": {
      "text/html": [
       "<div>\n",
       "<style scoped>\n",
       "    .dataframe tbody tr th:only-of-type {\n",
       "        vertical-align: middle;\n",
       "    }\n",
       "\n",
       "    .dataframe tbody tr th {\n",
       "        vertical-align: top;\n",
       "    }\n",
       "\n",
       "    .dataframe thead th {\n",
       "        text-align: right;\n",
       "    }\n",
       "</style>\n",
       "<table border=\"1\" class=\"dataframe\">\n",
       "  <thead>\n",
       "    <tr style=\"text-align: right;\">\n",
       "      <th></th>\n",
       "      <th>pc1</th>\n",
       "      <th>pc2</th>\n",
       "      <th>pc3</th>\n",
       "      <th>Type</th>\n",
       "    </tr>\n",
       "  </thead>\n",
       "  <tbody>\n",
       "    <tr>\n",
       "      <th>0</th>\n",
       "      <td>3.316751</td>\n",
       "      <td>-1.443463</td>\n",
       "      <td>-0.165739</td>\n",
       "      <td>1</td>\n",
       "    </tr>\n",
       "    <tr>\n",
       "      <th>1</th>\n",
       "      <td>2.209465</td>\n",
       "      <td>0.333393</td>\n",
       "      <td>-2.026457</td>\n",
       "      <td>1</td>\n",
       "    </tr>\n",
       "    <tr>\n",
       "      <th>2</th>\n",
       "      <td>2.516740</td>\n",
       "      <td>-1.031151</td>\n",
       "      <td>0.982819</td>\n",
       "      <td>1</td>\n",
       "    </tr>\n",
       "    <tr>\n",
       "      <th>3</th>\n",
       "      <td>3.757066</td>\n",
       "      <td>-2.756372</td>\n",
       "      <td>-0.176192</td>\n",
       "      <td>1</td>\n",
       "    </tr>\n",
       "    <tr>\n",
       "      <th>4</th>\n",
       "      <td>1.008908</td>\n",
       "      <td>-0.869831</td>\n",
       "      <td>2.026688</td>\n",
       "      <td>1</td>\n",
       "    </tr>\n",
       "    <tr>\n",
       "      <th>...</th>\n",
       "      <td>...</td>\n",
       "      <td>...</td>\n",
       "      <td>...</td>\n",
       "      <td>...</td>\n",
       "    </tr>\n",
       "    <tr>\n",
       "      <th>173</th>\n",
       "      <td>-3.370524</td>\n",
       "      <td>-2.216289</td>\n",
       "      <td>-0.342570</td>\n",
       "      <td>3</td>\n",
       "    </tr>\n",
       "    <tr>\n",
       "      <th>174</th>\n",
       "      <td>-2.601956</td>\n",
       "      <td>-1.757229</td>\n",
       "      <td>0.207581</td>\n",
       "      <td>3</td>\n",
       "    </tr>\n",
       "    <tr>\n",
       "      <th>175</th>\n",
       "      <td>-2.677839</td>\n",
       "      <td>-2.760899</td>\n",
       "      <td>-0.940942</td>\n",
       "      <td>3</td>\n",
       "    </tr>\n",
       "    <tr>\n",
       "      <th>176</th>\n",
       "      <td>-2.387017</td>\n",
       "      <td>-2.297347</td>\n",
       "      <td>-0.550696</td>\n",
       "      <td>3</td>\n",
       "    </tr>\n",
       "    <tr>\n",
       "      <th>177</th>\n",
       "      <td>-3.208758</td>\n",
       "      <td>-2.768920</td>\n",
       "      <td>1.013914</td>\n",
       "      <td>3</td>\n",
       "    </tr>\n",
       "  </tbody>\n",
       "</table>\n",
       "<p>178 rows × 4 columns</p>\n",
       "</div>"
      ],
      "text/plain": [
       "          pc1       pc2       pc3  Type\n",
       "0    3.316751 -1.443463 -0.165739     1\n",
       "1    2.209465  0.333393 -2.026457     1\n",
       "2    2.516740 -1.031151  0.982819     1\n",
       "3    3.757066 -2.756372 -0.176192     1\n",
       "4    1.008908 -0.869831  2.026688     1\n",
       "..        ...       ...       ...   ...\n",
       "173 -3.370524 -2.216289 -0.342570     3\n",
       "174 -2.601956 -1.757229  0.207581     3\n",
       "175 -2.677839 -2.760899 -0.940942     3\n",
       "176 -2.387017 -2.297347 -0.550696     3\n",
       "177 -3.208758 -2.768920  1.013914     3\n",
       "\n",
       "[178 rows x 4 columns]"
      ]
     },
     "execution_count": 14,
     "metadata": {},
     "output_type": "execute_result"
    }
   ],
   "source": [
    "df1['Type'] = y\n",
    "df1"
   ]
  },
  {
   "cell_type": "code",
   "execution_count": 15,
   "id": "214afc18",
   "metadata": {
    "ExecuteTime": {
     "end_time": "2023-02-22T09:30:06.640440Z",
     "start_time": "2023-02-22T09:30:06.102207Z"
    }
   },
   "outputs": [
    {
     "data": {
      "image/png": "[encoded data removed]",
      "text/plain": [
       "<Figure size 1600x1200 with 1 Axes>"
      ]
     },
     "metadata": {},
     "output_type": "display_data"
    }
   ],
   "source": [
    "import seaborn as sns\n",
    "fig=plt.figure(figsize=(16,12))\n",
    "sns.scatterplot(data=df1);"
   ]
  },
  {
   "cell_type": "code",
   "execution_count": 16,
   "id": "3596486a",
   "metadata": {
    "ExecuteTime": {
     "end_time": "2023-02-22T09:30:06.983828Z",
     "start_time": "2023-02-22T09:30:06.646486Z"
    }
   },
   "outputs": [
    {
     "data": {
      "image/png": "[encoded data removed]",
      "text/plain": [
       "<Figure size 640x480 with 1 Axes>"
      ]
     },
     "metadata": {},
     "output_type": "display_data"
    }
   ],
   "source": [
    "sns.scatterplot(data=df1, x='pc1', y='pc2', hue='Type');"
   ]
  },
  {
   "cell_type": "code",
   "execution_count": 17,
   "id": "2b6e3458",
   "metadata": {
    "ExecuteTime": {
     "end_time": "2023-02-22T09:30:07.011731Z",
     "start_time": "2023-02-22T09:30:06.990008Z"
    }
   },
   "outputs": [
    {
     "data": {
      "text/plain": [
       "array([[ 3.31675081],\n",
       "       [ 2.20946492],\n",
       "       [ 2.51674015],\n",
       "       [ 3.75706561],\n",
       "       [ 1.00890849],\n",
       "       [ 3.05025392],\n",
       "       [ 2.44908967],\n",
       "       [ 2.05943687],\n",
       "       [ 2.5108743 ],\n",
       "       [ 2.75362819],\n",
       "       [ 3.47973668],\n",
       "       [ 1.7547529 ],\n",
       "       [ 2.11346234],\n",
       "       [ 3.45815682],\n",
       "       [ 4.31278391],\n",
       "       [ 2.3051882 ],\n",
       "       [ 2.17195527],\n",
       "       [ 1.89897118],\n",
       "       [ 3.54198508],\n",
       "       [ 2.0845222 ],\n",
       "       [ 3.12440254],\n",
       "       [ 1.08657007],\n",
       "       [ 2.53522408],\n",
       "       [ 1.64498834],\n",
       "       [ 1.76157587],\n",
       "       [ 0.9900791 ],\n",
       "       [ 1.77527763],\n",
       "       [ 1.23542396],\n",
       "       [ 2.18840633],\n",
       "       [ 2.25610898],\n",
       "       [ 2.50022003],\n",
       "       [ 2.67741105],\n",
       "       [ 1.62857912],\n",
       "       [ 1.90269086],\n",
       "       [ 1.41038853],\n",
       "       [ 1.90382623],\n",
       "       [ 1.38486223],\n",
       "       [ 1.12220741],\n",
       "       [ 1.5021945 ],\n",
       "       [ 2.52980109],\n",
       "       [ 2.58809543],\n",
       "       [ 0.66848199],\n",
       "       [ 3.07080699],\n",
       "       [ 0.46220914],\n",
       "       [ 2.10135193],\n",
       "       [ 1.13616618],\n",
       "       [ 2.72660096],\n",
       "       [ 2.82133927],\n",
       "       [ 2.00985085],\n",
       "       [ 2.7074913 ],\n",
       "       [ 3.21491747],\n",
       "       [ 2.85895983],\n",
       "       [ 3.50560436],\n",
       "       [ 2.22479138],\n",
       "       [ 2.14698782],\n",
       "       [ 2.46932948],\n",
       "       [ 2.74151791],\n",
       "       [ 2.17374092],\n",
       "       [ 3.13938015],\n",
       "       [-0.92858197],\n",
       "       [-1.54248014],\n",
       "       [-1.83624976],\n",
       "       [ 0.03060683],\n",
       "       [ 2.05026161],\n",
       "       [-0.60968083],\n",
       "       [ 0.90022784],\n",
       "       [ 2.24850719],\n",
       "       [ 0.18338403],\n",
       "       [-0.81280503],\n",
       "       [ 1.9756205 ],\n",
       "       [-1.57221622],\n",
       "       [ 1.65768181],\n",
       "       [-0.72537239],\n",
       "       [ 2.56222717],\n",
       "       [ 1.83256757],\n",
       "       [-0.8679929 ],\n",
       "       [ 0.3700144 ],\n",
       "       [-1.45737704],\n",
       "       [ 1.26293085],\n",
       "       [ 0.37615037],\n",
       "       [ 0.7620639 ],\n",
       "       [ 1.03457797],\n",
       "       [-0.49487676],\n",
       "       [-2.53897708],\n",
       "       [ 0.83532015],\n",
       "       [ 0.78790461],\n",
       "       [-0.80683216],\n",
       "       [-0.55804262],\n",
       "       [-1.11511104],\n",
       "       [-0.55572283],\n",
       "       [-1.34928528],\n",
       "       [-1.56448261],\n",
       "       [-1.93255561],\n",
       "       [ 0.74666594],\n",
       "       [ 0.95745536],\n",
       "       [ 2.54386518],\n",
       "       [-0.54395259],\n",
       "       [ 1.03104975],\n",
       "       [ 2.25190942],\n",
       "       [ 1.41021602],\n",
       "       [ 0.79771979],\n",
       "       [-0.54953173],\n",
       "       [-0.16117374],\n",
       "       [-0.65979494],\n",
       "       [ 0.39235441],\n",
       "       [-1.77249908],\n",
       "       [-0.36626736],\n",
       "       [-1.62067257],\n",
       "       [ 0.08253578],\n",
       "       [ 1.57827507],\n",
       "       [ 1.42056925],\n",
       "       [-0.27870275],\n",
       "       [-1.30314497],\n",
       "       [-0.45707187],\n",
       "       [-0.49418585],\n",
       "       [ 0.48207441],\n",
       "       [-0.25288888],\n",
       "       [-0.10722764],\n",
       "       [-2.4330126 ],\n",
       "       [-0.55108954],\n",
       "       [ 0.73962193],\n",
       "       [ 1.33632173],\n",
       "       [-1.177087  ],\n",
       "       [-0.46233501],\n",
       "       [ 0.97847408],\n",
       "       [-0.09680973],\n",
       "       [ 0.03848715],\n",
       "       [-1.5971585 ],\n",
       "       [-0.47956492],\n",
       "       [-1.79283347],\n",
       "       [-1.32710166],\n",
       "       [-2.38450083],\n",
       "       [-2.9369401 ],\n",
       "       [-2.14681113],\n",
       "       [-2.36986949],\n",
       "       [-3.06384157],\n",
       "       [-3.91575378],\n",
       "       [-3.93646339],\n",
       "       [-3.09427612],\n",
       "       [-2.37447163],\n",
       "       [-2.77881295],\n",
       "       [-2.28656128],\n",
       "       [-2.98563349],\n",
       "       [-2.3751947 ],\n",
       "       [-2.20986553],\n",
       "       [-2.625621  ],\n",
       "       [-4.28063878],\n",
       "       [-3.58264137],\n",
       "       [-2.80706372],\n",
       "       [-2.89965933],\n",
       "       [-2.32073698],\n",
       "       [-2.54983095],\n",
       "       [-1.81254128],\n",
       "       [-2.76014464],\n",
       "       [-2.7371505 ],\n",
       "       [-3.60486887],\n",
       "       [-2.889826  ],\n",
       "       [-3.39215608],\n",
       "       [-1.0481819 ],\n",
       "       [-1.60991228],\n",
       "       [-3.14313097],\n",
       "       [-2.2401569 ],\n",
       "       [-2.84767378],\n",
       "       [-2.59749706],\n",
       "       [-2.94929937],\n",
       "       [-3.53003227],\n",
       "       [-2.40611054],\n",
       "       [-2.92908473],\n",
       "       [-2.18141278],\n",
       "       [-2.38092779],\n",
       "       [-3.21161722],\n",
       "       [-3.67791872],\n",
       "       [-2.4655558 ],\n",
       "       [-3.37052415],\n",
       "       [-2.60195585],\n",
       "       [-2.67783946],\n",
       "       [-2.38701709],\n",
       "       [-3.20875816]])"
      ]
     },
     "execution_count": 17,
     "metadata": {},
     "output_type": "execute_result"
    }
   ],
   "source": [
    "pca_values[: ,0:1]"
   ]
  },
  {
   "cell_type": "code",
   "execution_count": 18,
   "id": "b0056373",
   "metadata": {
    "ExecuteTime": {
     "end_time": "2023-02-22T09:30:07.203534Z",
     "start_time": "2023-02-22T09:30:07.028387Z"
    }
   },
   "outputs": [
    {
     "data": {
      "image/png": "[encoded data removed]",
      "text/plain": [
       "<Figure size 640x480 with 1 Axes>"
      ]
     },
     "metadata": {},
     "output_type": "display_data"
    }
   ],
   "source": [
    "x= pca_values[:,0:1]\n",
    "y= pca_values[:,1:2]\n",
    "plt.scatter(x,y);"
   ]
  },
  {
   "cell_type": "markdown",
   "id": "12ffb13a",
   "metadata": {
    "ExecuteTime": {
     "end_time": "2023-02-05T11:46:56.386897Z",
     "start_time": "2023-02-05T11:46:56.374086Z"
    }
   },
   "source": [
    "**Checking with other Clustering Algorithms**"
   ]
  },
  {
   "cell_type": "markdown",
   "id": "c05a9dfb",
   "metadata": {},
   "source": [
    "# HC clustering"
   ]
  },
  {
   "cell_type": "code",
   "execution_count": 19,
   "id": "055eb290",
   "metadata": {
    "ExecuteTime": {
     "end_time": "2023-02-22T09:30:07.306335Z",
     "start_time": "2023-02-22T09:30:07.207860Z"
    }
   },
   "outputs": [],
   "source": [
    "import scipy.cluster.hierarchy as sch\n",
    "from sklearn.cluster import AgglomerativeClustering\n",
    "from sklearn.preprocessing import normalize"
   ]
  },
  {
   "cell_type": "code",
   "execution_count": 20,
   "id": "0618917c",
   "metadata": {
    "ExecuteTime": {
     "end_time": "2023-02-22T09:30:11.370048Z",
     "start_time": "2023-02-22T09:30:07.309981Z"
    }
   },
   "outputs": [
    {
     "data": {
      "image/png": "[encoded data removed]",
      "text/plain": [
       "<Figure size 1000x800 with 1 Axes>"
      ]
     },
     "metadata": {},
     "output_type": "display_data"
    }
   ],
   "source": [
    "plt.figure(figsize=(10,8))\n",
    "dendrogram=sch.dendrogram(sch.linkage(x1,'complete'))"
   ]
  },
  {
   "cell_type": "code",
   "execution_count": 21,
   "id": "08c7783c",
   "metadata": {
    "ExecuteTime": {
     "end_time": "2023-02-22T09:30:11.402934Z",
     "start_time": "2023-02-22T09:30:11.378548Z"
    }
   },
   "outputs": [
    {
     "data": {
      "text/plain": [
       "AgglomerativeClustering(n_clusters=3)"
      ]
     },
     "execution_count": 21,
     "metadata": {},
     "output_type": "execute_result"
    }
   ],
   "source": [
    "hclusters=AgglomerativeClustering(n_clusters=3,affinity='euclidean',linkage='ward')\n",
    "hclusters"
   ]
  },
  {
   "cell_type": "code",
   "execution_count": 22,
   "id": "21e23e6c",
   "metadata": {
    "ExecuteTime": {
     "end_time": "2023-02-22T09:30:11.439322Z",
     "start_time": "2023-02-22T09:30:11.414791Z"
    }
   },
   "outputs": [
    {
     "data": {
      "text/plain": [
       "2    64\n",
       "0    58\n",
       "1    56\n",
       "Name: clustersid, dtype: int64"
      ]
     },
     "execution_count": 22,
     "metadata": {},
     "output_type": "execute_result"
    }
   ],
   "source": [
    "y=pd.DataFrame(hclusters.fit_predict(x1),columns=['clustersid'])\n",
    "y['clustersid'].value_counts()"
   ]
  },
  {
   "cell_type": "code",
   "execution_count": 23,
   "id": "89255918",
   "metadata": {
    "ExecuteTime": {
     "end_time": "2023-02-22T09:30:11.503171Z",
     "start_time": "2023-02-22T09:30:11.451424Z"
    }
   },
   "outputs": [
    {
     "data": {
      "text/html": [
       "<div>\n",
       "<style scoped>\n",
       "    .dataframe tbody tr th:only-of-type {\n",
       "        vertical-align: middle;\n",
       "    }\n",
       "\n",
       "    .dataframe tbody tr th {\n",
       "        vertical-align: top;\n",
       "    }\n",
       "\n",
       "    .dataframe thead th {\n",
       "        text-align: right;\n",
       "    }\n",
       "</style>\n",
       "<table border=\"1\" class=\"dataframe\">\n",
       "  <thead>\n",
       "    <tr style=\"text-align: right;\">\n",
       "      <th></th>\n",
       "      <th>Type</th>\n",
       "      <th>Alcohol</th>\n",
       "      <th>Malic</th>\n",
       "      <th>Ash</th>\n",
       "      <th>Alcalinity</th>\n",
       "      <th>Magnesium</th>\n",
       "      <th>Phenols</th>\n",
       "      <th>Flavanoids</th>\n",
       "      <th>Nonflavanoids</th>\n",
       "      <th>Proanthocyanins</th>\n",
       "      <th>Color</th>\n",
       "      <th>Hue</th>\n",
       "      <th>Dilution</th>\n",
       "      <th>Proline</th>\n",
       "      <th>clustersid</th>\n",
       "    </tr>\n",
       "  </thead>\n",
       "  <tbody>\n",
       "    <tr>\n",
       "      <th>0</th>\n",
       "      <td>1</td>\n",
       "      <td>14.23</td>\n",
       "      <td>1.71</td>\n",
       "      <td>2.43</td>\n",
       "      <td>15.6</td>\n",
       "      <td>127</td>\n",
       "      <td>2.80</td>\n",
       "      <td>3.06</td>\n",
       "      <td>0.28</td>\n",
       "      <td>2.29</td>\n",
       "      <td>5.64</td>\n",
       "      <td>1.04</td>\n",
       "      <td>3.92</td>\n",
       "      <td>1065</td>\n",
       "      <td>2</td>\n",
       "    </tr>\n",
       "    <tr>\n",
       "      <th>1</th>\n",
       "      <td>1</td>\n",
       "      <td>13.20</td>\n",
       "      <td>1.78</td>\n",
       "      <td>2.14</td>\n",
       "      <td>11.2</td>\n",
       "      <td>100</td>\n",
       "      <td>2.65</td>\n",
       "      <td>2.76</td>\n",
       "      <td>0.26</td>\n",
       "      <td>1.28</td>\n",
       "      <td>4.38</td>\n",
       "      <td>1.05</td>\n",
       "      <td>3.40</td>\n",
       "      <td>1050</td>\n",
       "      <td>2</td>\n",
       "    </tr>\n",
       "    <tr>\n",
       "      <th>2</th>\n",
       "      <td>1</td>\n",
       "      <td>13.16</td>\n",
       "      <td>2.36</td>\n",
       "      <td>2.67</td>\n",
       "      <td>18.6</td>\n",
       "      <td>101</td>\n",
       "      <td>2.80</td>\n",
       "      <td>3.24</td>\n",
       "      <td>0.30</td>\n",
       "      <td>2.81</td>\n",
       "      <td>5.68</td>\n",
       "      <td>1.03</td>\n",
       "      <td>3.17</td>\n",
       "      <td>1185</td>\n",
       "      <td>2</td>\n",
       "    </tr>\n",
       "    <tr>\n",
       "      <th>3</th>\n",
       "      <td>1</td>\n",
       "      <td>14.37</td>\n",
       "      <td>1.95</td>\n",
       "      <td>2.50</td>\n",
       "      <td>16.8</td>\n",
       "      <td>113</td>\n",
       "      <td>3.85</td>\n",
       "      <td>3.49</td>\n",
       "      <td>0.24</td>\n",
       "      <td>2.18</td>\n",
       "      <td>7.80</td>\n",
       "      <td>0.86</td>\n",
       "      <td>3.45</td>\n",
       "      <td>1480</td>\n",
       "      <td>2</td>\n",
       "    </tr>\n",
       "    <tr>\n",
       "      <th>4</th>\n",
       "      <td>1</td>\n",
       "      <td>13.24</td>\n",
       "      <td>2.59</td>\n",
       "      <td>2.87</td>\n",
       "      <td>21.0</td>\n",
       "      <td>118</td>\n",
       "      <td>2.80</td>\n",
       "      <td>2.69</td>\n",
       "      <td>0.39</td>\n",
       "      <td>1.82</td>\n",
       "      <td>4.32</td>\n",
       "      <td>1.04</td>\n",
       "      <td>2.93</td>\n",
       "      <td>735</td>\n",
       "      <td>2</td>\n",
       "    </tr>\n",
       "    <tr>\n",
       "      <th>...</th>\n",
       "      <td>...</td>\n",
       "      <td>...</td>\n",
       "      <td>...</td>\n",
       "      <td>...</td>\n",
       "      <td>...</td>\n",
       "      <td>...</td>\n",
       "      <td>...</td>\n",
       "      <td>...</td>\n",
       "      <td>...</td>\n",
       "      <td>...</td>\n",
       "      <td>...</td>\n",
       "      <td>...</td>\n",
       "      <td>...</td>\n",
       "      <td>...</td>\n",
       "      <td>...</td>\n",
       "    </tr>\n",
       "    <tr>\n",
       "      <th>173</th>\n",
       "      <td>3</td>\n",
       "      <td>13.71</td>\n",
       "      <td>5.65</td>\n",
       "      <td>2.45</td>\n",
       "      <td>20.5</td>\n",
       "      <td>95</td>\n",
       "      <td>1.68</td>\n",
       "      <td>0.61</td>\n",
       "      <td>0.52</td>\n",
       "      <td>1.06</td>\n",
       "      <td>7.70</td>\n",
       "      <td>0.64</td>\n",
       "      <td>1.74</td>\n",
       "      <td>740</td>\n",
       "      <td>1</td>\n",
       "    </tr>\n",
       "    <tr>\n",
       "      <th>174</th>\n",
       "      <td>3</td>\n",
       "      <td>13.40</td>\n",
       "      <td>3.91</td>\n",
       "      <td>2.48</td>\n",
       "      <td>23.0</td>\n",
       "      <td>102</td>\n",
       "      <td>1.80</td>\n",
       "      <td>0.75</td>\n",
       "      <td>0.43</td>\n",
       "      <td>1.41</td>\n",
       "      <td>7.30</td>\n",
       "      <td>0.70</td>\n",
       "      <td>1.56</td>\n",
       "      <td>750</td>\n",
       "      <td>1</td>\n",
       "    </tr>\n",
       "    <tr>\n",
       "      <th>175</th>\n",
       "      <td>3</td>\n",
       "      <td>13.27</td>\n",
       "      <td>4.28</td>\n",
       "      <td>2.26</td>\n",
       "      <td>20.0</td>\n",
       "      <td>120</td>\n",
       "      <td>1.59</td>\n",
       "      <td>0.69</td>\n",
       "      <td>0.43</td>\n",
       "      <td>1.35</td>\n",
       "      <td>10.20</td>\n",
       "      <td>0.59</td>\n",
       "      <td>1.56</td>\n",
       "      <td>835</td>\n",
       "      <td>1</td>\n",
       "    </tr>\n",
       "    <tr>\n",
       "      <th>176</th>\n",
       "      <td>3</td>\n",
       "      <td>13.17</td>\n",
       "      <td>2.59</td>\n",
       "      <td>2.37</td>\n",
       "      <td>20.0</td>\n",
       "      <td>120</td>\n",
       "      <td>1.65</td>\n",
       "      <td>0.68</td>\n",
       "      <td>0.53</td>\n",
       "      <td>1.46</td>\n",
       "      <td>9.30</td>\n",
       "      <td>0.60</td>\n",
       "      <td>1.62</td>\n",
       "      <td>840</td>\n",
       "      <td>1</td>\n",
       "    </tr>\n",
       "    <tr>\n",
       "      <th>177</th>\n",
       "      <td>3</td>\n",
       "      <td>14.13</td>\n",
       "      <td>4.10</td>\n",
       "      <td>2.74</td>\n",
       "      <td>24.5</td>\n",
       "      <td>96</td>\n",
       "      <td>2.05</td>\n",
       "      <td>0.76</td>\n",
       "      <td>0.56</td>\n",
       "      <td>1.35</td>\n",
       "      <td>9.20</td>\n",
       "      <td>0.61</td>\n",
       "      <td>1.60</td>\n",
       "      <td>560</td>\n",
       "      <td>1</td>\n",
       "    </tr>\n",
       "  </tbody>\n",
       "</table>\n",
       "<p>178 rows × 15 columns</p>\n",
       "</div>"
      ],
      "text/plain": [
       "     Type  Alcohol  Malic   Ash  Alcalinity  Magnesium  Phenols  Flavanoids  \\\n",
       "0       1    14.23   1.71  2.43        15.6        127     2.80        3.06   \n",
       "1       1    13.20   1.78  2.14        11.2        100     2.65        2.76   \n",
       "2       1    13.16   2.36  2.67        18.6        101     2.80        3.24   \n",
       "3       1    14.37   1.95  2.50        16.8        113     3.85        3.49   \n",
       "4       1    13.24   2.59  2.87        21.0        118     2.80        2.69   \n",
       "..    ...      ...    ...   ...         ...        ...      ...         ...   \n",
       "173     3    13.71   5.65  2.45        20.5         95     1.68        0.61   \n",
       "174     3    13.40   3.91  2.48        23.0        102     1.80        0.75   \n",
       "175     3    13.27   4.28  2.26        20.0        120     1.59        0.69   \n",
       "176     3    13.17   2.59  2.37        20.0        120     1.65        0.68   \n",
       "177     3    14.13   4.10  2.74        24.5         96     2.05        0.76   \n",
       "\n",
       "     Nonflavanoids  Proanthocyanins  Color   Hue  Dilution  Proline  \\\n",
       "0             0.28             2.29   5.64  1.04      3.92     1065   \n",
       "1             0.26             1.28   4.38  1.05      3.40     1050   \n",
       "2             0.30             2.81   5.68  1.03      3.17     1185   \n",
       "3             0.24             2.18   7.80  0.86      3.45     1480   \n",
       "4             0.39             1.82   4.32  1.04      2.93      735   \n",
       "..             ...              ...    ...   ...       ...      ...   \n",
       "173           0.52             1.06   7.70  0.64      1.74      740   \n",
       "174           0.43             1.41   7.30  0.70      1.56      750   \n",
       "175           0.43             1.35  10.20  0.59      1.56      835   \n",
       "176           0.53             1.46   9.30  0.60      1.62      840   \n",
       "177           0.56             1.35   9.20  0.61      1.60      560   \n",
       "\n",
       "     clustersid  \n",
       "0             2  \n",
       "1             2  \n",
       "2             2  \n",
       "3             2  \n",
       "4             2  \n",
       "..          ...  \n",
       "173           1  \n",
       "174           1  \n",
       "175           1  \n",
       "176           1  \n",
       "177           1  \n",
       "\n",
       "[178 rows x 15 columns]"
      ]
     },
     "execution_count": 23,
     "metadata": {},
     "output_type": "execute_result"
    }
   ],
   "source": [
    "data2=df.copy()\n",
    "data2['clustersid']=hclusters.labels_\n",
    "data2"
   ]
  },
  {
   "cell_type": "markdown",
   "id": "c414dd96",
   "metadata": {
    "ExecuteTime": {
     "end_time": "2023-02-05T11:44:44.311160Z",
     "start_time": "2023-02-05T11:44:44.295158Z"
    }
   },
   "source": [
    "# K-Means Clustering"
   ]
  },
  {
   "cell_type": "code",
   "execution_count": 24,
   "id": "c27c1910",
   "metadata": {
    "ExecuteTime": {
     "end_time": "2023-02-22T09:30:11.518509Z",
     "start_time": "2023-02-22T09:30:11.507508Z"
    }
   },
   "outputs": [],
   "source": [
    "from sklearn.cluster import KMeans"
   ]
  },
  {
   "cell_type": "code",
   "execution_count": 25,
   "id": "6c82e16f",
   "metadata": {
    "ExecuteTime": {
     "end_time": "2023-02-22T09:30:11.824368Z",
     "start_time": "2023-02-22T09:30:11.526233Z"
    }
   },
   "outputs": [],
   "source": [
    "wcss=[]\n",
    "for i in range (1,6):\n",
    "    kmeans=KMeans(n_clusters=i,random_state=2)\n",
    "    kmeans.fit(x1)\n",
    "    wcss.append(kmeans.inertia_)"
   ]
  },
  {
   "cell_type": "code",
   "execution_count": 26,
   "id": "36b857de",
   "metadata": {
    "ExecuteTime": {
     "end_time": "2023-02-22T09:30:12.085001Z",
     "start_time": "2023-02-22T09:30:11.828840Z"
    }
   },
   "outputs": [
    {
     "data": {
      "text/plain": [
       "Text(0, 0.5, 'WCSS')"
      ]
     },
     "execution_count": 26,
     "metadata": {},
     "output_type": "execute_result"
    },
    {
     "data": {
      "image/png": "[encoded data removed]",
      "text/plain": [
       "<Figure size 640x480 with 1 Axes>"
      ]
     },
     "metadata": {},
     "output_type": "display_data"
    }
   ],
   "source": [
    "plt.plot(range(1,6),wcss)\n",
    "plt.title('Elbow Graph')\n",
    "plt.xlabel('Number of clusters')\n",
    "plt.ylabel('WCSS')"
   ]
  },
  {
   "cell_type": "markdown",
   "id": "3c74138d",
   "metadata": {
    "ExecuteTime": {
     "end_time": "2023-02-05T11:44:45.098913Z",
     "start_time": "2023-02-05T11:44:45.082910Z"
    }
   },
   "source": [
    "**Build Cluster algorithm using**\n",
    "**K-3**"
   ]
  },
  {
   "cell_type": "code",
   "execution_count": 27,
   "id": "1158425a",
   "metadata": {
    "ExecuteTime": {
     "end_time": "2023-02-22T09:30:12.153491Z",
     "start_time": "2023-02-22T09:30:12.091636Z"
    }
   },
   "outputs": [
    {
     "data": {
      "text/plain": [
       "KMeans(n_clusters=3, random_state=30)"
      ]
     },
     "execution_count": 27,
     "metadata": {},
     "output_type": "execute_result"
    }
   ],
   "source": [
    "clusters3=KMeans(3,random_state=30).fit(x1)\n",
    "clusters3"
   ]
  },
  {
   "cell_type": "code",
   "execution_count": 28,
   "id": "ec6bbacd",
   "metadata": {
    "ExecuteTime": {
     "end_time": "2023-02-22T09:30:12.202748Z",
     "start_time": "2023-02-22T09:30:12.162405Z"
    }
   },
   "outputs": [
    {
     "data": {
      "text/plain": [
       "array([1, 1, 1, 1, 1, 1, 1, 1, 1, 1, 1, 1, 1, 1, 1, 1, 1, 1, 1, 1, 1, 1,\n",
       "       1, 1, 1, 1, 1, 1, 1, 1, 1, 1, 1, 1, 1, 1, 1, 1, 1, 1, 1, 1, 1, 1,\n",
       "       1, 1, 1, 1, 1, 1, 1, 1, 1, 1, 1, 1, 1, 1, 1, 2, 2, 0, 2, 2, 2, 2,\n",
       "       2, 2, 2, 2, 2, 2, 2, 1, 2, 2, 2, 2, 2, 2, 2, 2, 2, 0, 2, 2, 2, 2,\n",
       "       2, 2, 2, 2, 2, 2, 2, 1, 2, 2, 2, 2, 2, 2, 2, 2, 2, 2, 2, 2, 2, 2,\n",
       "       2, 2, 2, 2, 2, 2, 2, 2, 0, 2, 2, 1, 2, 2, 2, 2, 2, 2, 2, 2, 0, 0,\n",
       "       0, 0, 0, 0, 0, 0, 0, 0, 0, 0, 0, 0, 0, 0, 0, 0, 0, 0, 0, 0, 0, 0,\n",
       "       0, 0, 0, 0, 0, 0, 0, 0, 0, 0, 0, 0, 0, 0, 0, 0, 0, 0, 0, 0, 0, 0,\n",
       "       0, 0], dtype=int32)"
      ]
     },
     "execution_count": 28,
     "metadata": {},
     "output_type": "execute_result"
    }
   ],
   "source": [
    "clusters3.labels_"
   ]
  },
  {
   "cell_type": "code",
   "execution_count": 29,
   "id": "dc4ce197",
   "metadata": {
    "ExecuteTime": {
     "end_time": "2023-02-22T09:30:12.282373Z",
     "start_time": "2023-02-22T09:30:12.210986Z"
    }
   },
   "outputs": [
    {
     "data": {
      "text/html": [
       "<div>\n",
       "<style scoped>\n",
       "    .dataframe tbody tr th:only-of-type {\n",
       "        vertical-align: middle;\n",
       "    }\n",
       "\n",
       "    .dataframe tbody tr th {\n",
       "        vertical-align: top;\n",
       "    }\n",
       "\n",
       "    .dataframe thead th {\n",
       "        text-align: right;\n",
       "    }\n",
       "</style>\n",
       "<table border=\"1\" class=\"dataframe\">\n",
       "  <thead>\n",
       "    <tr style=\"text-align: right;\">\n",
       "      <th></th>\n",
       "      <th>Type</th>\n",
       "      <th>Alcohol</th>\n",
       "      <th>Malic</th>\n",
       "      <th>Ash</th>\n",
       "      <th>Alcalinity</th>\n",
       "      <th>Magnesium</th>\n",
       "      <th>Phenols</th>\n",
       "      <th>Flavanoids</th>\n",
       "      <th>Nonflavanoids</th>\n",
       "      <th>Proanthocyanins</th>\n",
       "      <th>Color</th>\n",
       "      <th>Hue</th>\n",
       "      <th>Dilution</th>\n",
       "      <th>Proline</th>\n",
       "      <th>clusters3id</th>\n",
       "    </tr>\n",
       "  </thead>\n",
       "  <tbody>\n",
       "    <tr>\n",
       "      <th>0</th>\n",
       "      <td>1</td>\n",
       "      <td>14.23</td>\n",
       "      <td>1.71</td>\n",
       "      <td>2.43</td>\n",
       "      <td>15.6</td>\n",
       "      <td>127</td>\n",
       "      <td>2.80</td>\n",
       "      <td>3.06</td>\n",
       "      <td>0.28</td>\n",
       "      <td>2.29</td>\n",
       "      <td>5.64</td>\n",
       "      <td>1.04</td>\n",
       "      <td>3.92</td>\n",
       "      <td>1065</td>\n",
       "      <td>1</td>\n",
       "    </tr>\n",
       "    <tr>\n",
       "      <th>1</th>\n",
       "      <td>1</td>\n",
       "      <td>13.20</td>\n",
       "      <td>1.78</td>\n",
       "      <td>2.14</td>\n",
       "      <td>11.2</td>\n",
       "      <td>100</td>\n",
       "      <td>2.65</td>\n",
       "      <td>2.76</td>\n",
       "      <td>0.26</td>\n",
       "      <td>1.28</td>\n",
       "      <td>4.38</td>\n",
       "      <td>1.05</td>\n",
       "      <td>3.40</td>\n",
       "      <td>1050</td>\n",
       "      <td>1</td>\n",
       "    </tr>\n",
       "    <tr>\n",
       "      <th>2</th>\n",
       "      <td>1</td>\n",
       "      <td>13.16</td>\n",
       "      <td>2.36</td>\n",
       "      <td>2.67</td>\n",
       "      <td>18.6</td>\n",
       "      <td>101</td>\n",
       "      <td>2.80</td>\n",
       "      <td>3.24</td>\n",
       "      <td>0.30</td>\n",
       "      <td>2.81</td>\n",
       "      <td>5.68</td>\n",
       "      <td>1.03</td>\n",
       "      <td>3.17</td>\n",
       "      <td>1185</td>\n",
       "      <td>1</td>\n",
       "    </tr>\n",
       "    <tr>\n",
       "      <th>3</th>\n",
       "      <td>1</td>\n",
       "      <td>14.37</td>\n",
       "      <td>1.95</td>\n",
       "      <td>2.50</td>\n",
       "      <td>16.8</td>\n",
       "      <td>113</td>\n",
       "      <td>3.85</td>\n",
       "      <td>3.49</td>\n",
       "      <td>0.24</td>\n",
       "      <td>2.18</td>\n",
       "      <td>7.80</td>\n",
       "      <td>0.86</td>\n",
       "      <td>3.45</td>\n",
       "      <td>1480</td>\n",
       "      <td>1</td>\n",
       "    </tr>\n",
       "    <tr>\n",
       "      <th>4</th>\n",
       "      <td>1</td>\n",
       "      <td>13.24</td>\n",
       "      <td>2.59</td>\n",
       "      <td>2.87</td>\n",
       "      <td>21.0</td>\n",
       "      <td>118</td>\n",
       "      <td>2.80</td>\n",
       "      <td>2.69</td>\n",
       "      <td>0.39</td>\n",
       "      <td>1.82</td>\n",
       "      <td>4.32</td>\n",
       "      <td>1.04</td>\n",
       "      <td>2.93</td>\n",
       "      <td>735</td>\n",
       "      <td>1</td>\n",
       "    </tr>\n",
       "    <tr>\n",
       "      <th>...</th>\n",
       "      <td>...</td>\n",
       "      <td>...</td>\n",
       "      <td>...</td>\n",
       "      <td>...</td>\n",
       "      <td>...</td>\n",
       "      <td>...</td>\n",
       "      <td>...</td>\n",
       "      <td>...</td>\n",
       "      <td>...</td>\n",
       "      <td>...</td>\n",
       "      <td>...</td>\n",
       "      <td>...</td>\n",
       "      <td>...</td>\n",
       "      <td>...</td>\n",
       "      <td>...</td>\n",
       "    </tr>\n",
       "    <tr>\n",
       "      <th>173</th>\n",
       "      <td>3</td>\n",
       "      <td>13.71</td>\n",
       "      <td>5.65</td>\n",
       "      <td>2.45</td>\n",
       "      <td>20.5</td>\n",
       "      <td>95</td>\n",
       "      <td>1.68</td>\n",
       "      <td>0.61</td>\n",
       "      <td>0.52</td>\n",
       "      <td>1.06</td>\n",
       "      <td>7.70</td>\n",
       "      <td>0.64</td>\n",
       "      <td>1.74</td>\n",
       "      <td>740</td>\n",
       "      <td>0</td>\n",
       "    </tr>\n",
       "    <tr>\n",
       "      <th>174</th>\n",
       "      <td>3</td>\n",
       "      <td>13.40</td>\n",
       "      <td>3.91</td>\n",
       "      <td>2.48</td>\n",
       "      <td>23.0</td>\n",
       "      <td>102</td>\n",
       "      <td>1.80</td>\n",
       "      <td>0.75</td>\n",
       "      <td>0.43</td>\n",
       "      <td>1.41</td>\n",
       "      <td>7.30</td>\n",
       "      <td>0.70</td>\n",
       "      <td>1.56</td>\n",
       "      <td>750</td>\n",
       "      <td>0</td>\n",
       "    </tr>\n",
       "    <tr>\n",
       "      <th>175</th>\n",
       "      <td>3</td>\n",
       "      <td>13.27</td>\n",
       "      <td>4.28</td>\n",
       "      <td>2.26</td>\n",
       "      <td>20.0</td>\n",
       "      <td>120</td>\n",
       "      <td>1.59</td>\n",
       "      <td>0.69</td>\n",
       "      <td>0.43</td>\n",
       "      <td>1.35</td>\n",
       "      <td>10.20</td>\n",
       "      <td>0.59</td>\n",
       "      <td>1.56</td>\n",
       "      <td>835</td>\n",
       "      <td>0</td>\n",
       "    </tr>\n",
       "    <tr>\n",
       "      <th>176</th>\n",
       "      <td>3</td>\n",
       "      <td>13.17</td>\n",
       "      <td>2.59</td>\n",
       "      <td>2.37</td>\n",
       "      <td>20.0</td>\n",
       "      <td>120</td>\n",
       "      <td>1.65</td>\n",
       "      <td>0.68</td>\n",
       "      <td>0.53</td>\n",
       "      <td>1.46</td>\n",
       "      <td>9.30</td>\n",
       "      <td>0.60</td>\n",
       "      <td>1.62</td>\n",
       "      <td>840</td>\n",
       "      <td>0</td>\n",
       "    </tr>\n",
       "    <tr>\n",
       "      <th>177</th>\n",
       "      <td>3</td>\n",
       "      <td>14.13</td>\n",
       "      <td>4.10</td>\n",
       "      <td>2.74</td>\n",
       "      <td>24.5</td>\n",
       "      <td>96</td>\n",
       "      <td>2.05</td>\n",
       "      <td>0.76</td>\n",
       "      <td>0.56</td>\n",
       "      <td>1.35</td>\n",
       "      <td>9.20</td>\n",
       "      <td>0.61</td>\n",
       "      <td>1.60</td>\n",
       "      <td>560</td>\n",
       "      <td>0</td>\n",
       "    </tr>\n",
       "  </tbody>\n",
       "</table>\n",
       "<p>178 rows × 15 columns</p>\n",
       "</div>"
      ],
      "text/plain": [
       "     Type  Alcohol  Malic   Ash  Alcalinity  Magnesium  Phenols  Flavanoids  \\\n",
       "0       1    14.23   1.71  2.43        15.6        127     2.80        3.06   \n",
       "1       1    13.20   1.78  2.14        11.2        100     2.65        2.76   \n",
       "2       1    13.16   2.36  2.67        18.6        101     2.80        3.24   \n",
       "3       1    14.37   1.95  2.50        16.8        113     3.85        3.49   \n",
       "4       1    13.24   2.59  2.87        21.0        118     2.80        2.69   \n",
       "..    ...      ...    ...   ...         ...        ...      ...         ...   \n",
       "173     3    13.71   5.65  2.45        20.5         95     1.68        0.61   \n",
       "174     3    13.40   3.91  2.48        23.0        102     1.80        0.75   \n",
       "175     3    13.27   4.28  2.26        20.0        120     1.59        0.69   \n",
       "176     3    13.17   2.59  2.37        20.0        120     1.65        0.68   \n",
       "177     3    14.13   4.10  2.74        24.5         96     2.05        0.76   \n",
       "\n",
       "     Nonflavanoids  Proanthocyanins  Color   Hue  Dilution  Proline  \\\n",
       "0             0.28             2.29   5.64  1.04      3.92     1065   \n",
       "1             0.26             1.28   4.38  1.05      3.40     1050   \n",
       "2             0.30             2.81   5.68  1.03      3.17     1185   \n",
       "3             0.24             2.18   7.80  0.86      3.45     1480   \n",
       "4             0.39             1.82   4.32  1.04      2.93      735   \n",
       "..             ...              ...    ...   ...       ...      ...   \n",
       "173           0.52             1.06   7.70  0.64      1.74      740   \n",
       "174           0.43             1.41   7.30  0.70      1.56      750   \n",
       "175           0.43             1.35  10.20  0.59      1.56      835   \n",
       "176           0.53             1.46   9.30  0.60      1.62      840   \n",
       "177           0.56             1.35   9.20  0.61      1.60      560   \n",
       "\n",
       "     clusters3id  \n",
       "0              1  \n",
       "1              1  \n",
       "2              1  \n",
       "3              1  \n",
       "4              1  \n",
       "..           ...  \n",
       "173            0  \n",
       "174            0  \n",
       "175            0  \n",
       "176            0  \n",
       "177            0  \n",
       "\n",
       "[178 rows x 15 columns]"
      ]
     },
     "execution_count": 29,
     "metadata": {},
     "output_type": "execute_result"
    }
   ],
   "source": [
    "df3=df.copy()\n",
    "df3['clusters3id']=clusters3.labels_\n",
    "df3"
   ]
  },
  {
   "cell_type": "code",
   "execution_count": 30,
   "id": "9143d21d",
   "metadata": {
    "ExecuteTime": {
     "end_time": "2023-02-22T09:30:12.307387Z",
     "start_time": "2023-02-22T09:30:12.292343Z"
    }
   },
   "outputs": [
    {
     "data": {
      "text/plain": [
       "2    65\n",
       "1    62\n",
       "0    51\n",
       "Name: clusters3id, dtype: int64"
      ]
     },
     "execution_count": 30,
     "metadata": {},
     "output_type": "execute_result"
    }
   ],
   "source": [
    "df3['clusters3id'].value_counts()"
   ]
  }
 ],
 "metadata": {
  "kernelspec": {
   "display_name": "Python 3 (ipykernel)",
   "language": "python",
   "name": "python3"
  },
  "language_info": {
   "codemirror_mode": {
    "name": "ipython",
    "version": 3
   },
   "file_extension": ".py",
   "mimetype": "text/x-python",
   "name": "python",
   "nbconvert_exporter": "python",
   "pygments_lexer": "ipython3",
   "version": "3.9.13"
  }
 },
 "nbformat": 4,
 "nbformat_minor": 5
}
