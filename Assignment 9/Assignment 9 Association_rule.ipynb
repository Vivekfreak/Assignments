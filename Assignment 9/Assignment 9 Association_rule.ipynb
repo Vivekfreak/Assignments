{
 "cells": [
  {
   "cell_type": "code",
   "execution_count": 1,
   "id": "45f8e9b9",
   "metadata": {
    "ExecuteTime": {
     "end_time": "2023-02-22T09:41:34.879063Z",
     "start_time": "2023-02-22T09:41:31.128622Z"
    }
   },
   "outputs": [],
   "source": [
    "import pandas as pd\n",
    "import numpy as np\n",
    "import matplotlib.pyplot as plt\n",
    "from mlxtend.frequent_patterns import apriori, association_rules\n",
    "import warnings\n",
    "warnings.filterwarnings('ignore')"
   ]
  },
  {
   "cell_type": "code",
   "execution_count": 2,
   "id": "be0b12e3",
   "metadata": {
    "ExecuteTime": {
     "end_time": "2023-02-22T09:41:35.425095Z",
     "start_time": "2023-02-22T09:41:34.883885Z"
    }
   },
   "outputs": [
    {
     "data": {
      "text/html": [
       "<div>\n",
       "<style scoped>\n",
       "    .dataframe tbody tr th:only-of-type {\n",
       "        vertical-align: middle;\n",
       "    }\n",
       "\n",
       "    .dataframe tbody tr th {\n",
       "        vertical-align: top;\n",
       "    }\n",
       "\n",
       "    .dataframe thead th {\n",
       "        text-align: right;\n",
       "    }\n",
       "</style>\n",
       "<table border=\"1\" class=\"dataframe\">\n",
       "  <thead>\n",
       "    <tr style=\"text-align: right;\">\n",
       "      <th></th>\n",
       "      <th>ChildBks</th>\n",
       "      <th>YouthBks</th>\n",
       "      <th>CookBks</th>\n",
       "      <th>DoItYBks</th>\n",
       "      <th>RefBks</th>\n",
       "      <th>ArtBks</th>\n",
       "      <th>GeogBks</th>\n",
       "      <th>ItalCook</th>\n",
       "      <th>ItalAtlas</th>\n",
       "      <th>ItalArt</th>\n",
       "      <th>Florence</th>\n",
       "    </tr>\n",
       "  </thead>\n",
       "  <tbody>\n",
       "    <tr>\n",
       "      <th>0</th>\n",
       "      <td>0</td>\n",
       "      <td>1</td>\n",
       "      <td>0</td>\n",
       "      <td>1</td>\n",
       "      <td>0</td>\n",
       "      <td>0</td>\n",
       "      <td>1</td>\n",
       "      <td>0</td>\n",
       "      <td>0</td>\n",
       "      <td>0</td>\n",
       "      <td>0</td>\n",
       "    </tr>\n",
       "    <tr>\n",
       "      <th>1</th>\n",
       "      <td>1</td>\n",
       "      <td>0</td>\n",
       "      <td>0</td>\n",
       "      <td>0</td>\n",
       "      <td>0</td>\n",
       "      <td>0</td>\n",
       "      <td>0</td>\n",
       "      <td>0</td>\n",
       "      <td>0</td>\n",
       "      <td>0</td>\n",
       "      <td>0</td>\n",
       "    </tr>\n",
       "    <tr>\n",
       "      <th>2</th>\n",
       "      <td>0</td>\n",
       "      <td>0</td>\n",
       "      <td>0</td>\n",
       "      <td>0</td>\n",
       "      <td>0</td>\n",
       "      <td>0</td>\n",
       "      <td>0</td>\n",
       "      <td>0</td>\n",
       "      <td>0</td>\n",
       "      <td>0</td>\n",
       "      <td>0</td>\n",
       "    </tr>\n",
       "    <tr>\n",
       "      <th>3</th>\n",
       "      <td>1</td>\n",
       "      <td>1</td>\n",
       "      <td>1</td>\n",
       "      <td>0</td>\n",
       "      <td>1</td>\n",
       "      <td>0</td>\n",
       "      <td>1</td>\n",
       "      <td>0</td>\n",
       "      <td>0</td>\n",
       "      <td>0</td>\n",
       "      <td>0</td>\n",
       "    </tr>\n",
       "    <tr>\n",
       "      <th>4</th>\n",
       "      <td>0</td>\n",
       "      <td>0</td>\n",
       "      <td>1</td>\n",
       "      <td>0</td>\n",
       "      <td>0</td>\n",
       "      <td>0</td>\n",
       "      <td>1</td>\n",
       "      <td>0</td>\n",
       "      <td>0</td>\n",
       "      <td>0</td>\n",
       "      <td>0</td>\n",
       "    </tr>\n",
       "  </tbody>\n",
       "</table>\n",
       "</div>"
      ],
      "text/plain": [
       "   ChildBks  YouthBks  CookBks  DoItYBks  RefBks  ArtBks  GeogBks  ItalCook  \\\n",
       "0         0         1        0         1       0       0        1         0   \n",
       "1         1         0        0         0       0       0        0         0   \n",
       "2         0         0        0         0       0       0        0         0   \n",
       "3         1         1        1         0       1       0        1         0   \n",
       "4         0         0        1         0       0       0        1         0   \n",
       "\n",
       "   ItalAtlas  ItalArt  Florence  \n",
       "0          0        0         0  \n",
       "1          0        0         0  \n",
       "2          0        0         0  \n",
       "3          0        0         0  \n",
       "4          0        0         0  "
      ]
     },
     "execution_count": 2,
     "metadata": {},
     "output_type": "execute_result"
    }
   ],
   "source": [
    "df = pd.read_csv(\"https://raw.githubusercontent.com/Vivekfreak/Datasets/main/book%20(1).csv\")\n",
    "df.head()"
   ]
  },
  {
   "cell_type": "code",
   "execution_count": 3,
   "id": "9a5da982",
   "metadata": {
    "ExecuteTime": {
     "end_time": "2023-02-22T09:41:35.442342Z",
     "start_time": "2023-02-22T09:41:35.429282Z"
    }
   },
   "outputs": [
    {
     "data": {
      "text/plain": [
       "ChildBks     0\n",
       "YouthBks     0\n",
       "CookBks      0\n",
       "DoItYBks     0\n",
       "RefBks       0\n",
       "ArtBks       0\n",
       "GeogBks      0\n",
       "ItalCook     0\n",
       "ItalAtlas    0\n",
       "ItalArt      0\n",
       "Florence     0\n",
       "dtype: int64"
      ]
     },
     "execution_count": 3,
     "metadata": {},
     "output_type": "execute_result"
    }
   ],
   "source": [
    "df.isna().sum()"
   ]
  },
  {
   "cell_type": "markdown",
   "id": "8232f238",
   "metadata": {},
   "source": [
    "**Association rule with 20% support and 50% confidence**"
   ]
  },
  {
   "cell_type": "code",
   "execution_count": 4,
   "id": "b779cd2a",
   "metadata": {
    "ExecuteTime": {
     "end_time": "2023-02-22T09:41:35.567714Z",
     "start_time": "2023-02-22T09:41:35.542933Z"
    }
   },
   "outputs": [],
   "source": [
    "frequent_items = apriori(df, min_support=0.2, use_colnames=True)"
   ]
  },
  {
   "cell_type": "code",
   "execution_count": 5,
   "id": "a752dc38",
   "metadata": {
    "ExecuteTime": {
     "end_time": "2023-02-22T09:41:35.594068Z",
     "start_time": "2023-02-22T09:41:35.572215Z"
    }
   },
   "outputs": [
    {
     "data": {
      "text/html": [
       "<div>\n",
       "<style scoped>\n",
       "    .dataframe tbody tr th:only-of-type {\n",
       "        vertical-align: middle;\n",
       "    }\n",
       "\n",
       "    .dataframe tbody tr th {\n",
       "        vertical-align: top;\n",
       "    }\n",
       "\n",
       "    .dataframe thead th {\n",
       "        text-align: right;\n",
       "    }\n",
       "</style>\n",
       "<table border=\"1\" class=\"dataframe\">\n",
       "  <thead>\n",
       "    <tr style=\"text-align: right;\">\n",
       "      <th></th>\n",
       "      <th>support</th>\n",
       "      <th>itemsets</th>\n",
       "    </tr>\n",
       "  </thead>\n",
       "  <tbody>\n",
       "    <tr>\n",
       "      <th>0</th>\n",
       "      <td>0.4230</td>\n",
       "      <td>(ChildBks)</td>\n",
       "    </tr>\n",
       "    <tr>\n",
       "      <th>1</th>\n",
       "      <td>0.2475</td>\n",
       "      <td>(YouthBks)</td>\n",
       "    </tr>\n",
       "    <tr>\n",
       "      <th>2</th>\n",
       "      <td>0.4310</td>\n",
       "      <td>(CookBks)</td>\n",
       "    </tr>\n",
       "    <tr>\n",
       "      <th>3</th>\n",
       "      <td>0.2820</td>\n",
       "      <td>(DoItYBks)</td>\n",
       "    </tr>\n",
       "    <tr>\n",
       "      <th>4</th>\n",
       "      <td>0.2145</td>\n",
       "      <td>(RefBks)</td>\n",
       "    </tr>\n",
       "    <tr>\n",
       "      <th>5</th>\n",
       "      <td>0.2410</td>\n",
       "      <td>(ArtBks)</td>\n",
       "    </tr>\n",
       "    <tr>\n",
       "      <th>6</th>\n",
       "      <td>0.2760</td>\n",
       "      <td>(GeogBks)</td>\n",
       "    </tr>\n",
       "    <tr>\n",
       "      <th>7</th>\n",
       "      <td>0.2560</td>\n",
       "      <td>(ChildBks, CookBks)</td>\n",
       "    </tr>\n",
       "  </tbody>\n",
       "</table>\n",
       "</div>"
      ],
      "text/plain": [
       "   support             itemsets\n",
       "0   0.4230           (ChildBks)\n",
       "1   0.2475           (YouthBks)\n",
       "2   0.4310            (CookBks)\n",
       "3   0.2820           (DoItYBks)\n",
       "4   0.2145             (RefBks)\n",
       "5   0.2410             (ArtBks)\n",
       "6   0.2760            (GeogBks)\n",
       "7   0.2560  (ChildBks, CookBks)"
      ]
     },
     "execution_count": 5,
     "metadata": {},
     "output_type": "execute_result"
    }
   ],
   "source": [
    "frequent_items"
   ]
  },
  {
   "cell_type": "code",
   "execution_count": 6,
   "id": "1e0b5e2b",
   "metadata": {
    "ExecuteTime": {
     "end_time": "2023-02-22T09:41:35.616082Z",
     "start_time": "2023-02-22T09:41:35.601609Z"
    }
   },
   "outputs": [],
   "source": [
    "model = association_rules(frequent_items, metric='lift',min_threshold=0.5)"
   ]
  },
  {
   "cell_type": "code",
   "execution_count": 7,
   "id": "250329c3",
   "metadata": {
    "ExecuteTime": {
     "end_time": "2023-02-22T09:41:35.655186Z",
     "start_time": "2023-02-22T09:41:35.620624Z"
    }
   },
   "outputs": [
    {
     "data": {
      "text/html": [
       "<div>\n",
       "<style scoped>\n",
       "    .dataframe tbody tr th:only-of-type {\n",
       "        vertical-align: middle;\n",
       "    }\n",
       "\n",
       "    .dataframe tbody tr th {\n",
       "        vertical-align: top;\n",
       "    }\n",
       "\n",
       "    .dataframe thead th {\n",
       "        text-align: right;\n",
       "    }\n",
       "</style>\n",
       "<table border=\"1\" class=\"dataframe\">\n",
       "  <thead>\n",
       "    <tr style=\"text-align: right;\">\n",
       "      <th></th>\n",
       "      <th>antecedents</th>\n",
       "      <th>consequents</th>\n",
       "      <th>antecedent support</th>\n",
       "      <th>consequent support</th>\n",
       "      <th>support</th>\n",
       "      <th>confidence</th>\n",
       "      <th>lift</th>\n",
       "      <th>leverage</th>\n",
       "      <th>conviction</th>\n",
       "    </tr>\n",
       "  </thead>\n",
       "  <tbody>\n",
       "    <tr>\n",
       "      <th>0</th>\n",
       "      <td>(ChildBks)</td>\n",
       "      <td>(CookBks)</td>\n",
       "      <td>0.423</td>\n",
       "      <td>0.431</td>\n",
       "      <td>0.256</td>\n",
       "      <td>0.605201</td>\n",
       "      <td>1.404179</td>\n",
       "      <td>0.073687</td>\n",
       "      <td>1.441240</td>\n",
       "    </tr>\n",
       "    <tr>\n",
       "      <th>1</th>\n",
       "      <td>(CookBks)</td>\n",
       "      <td>(ChildBks)</td>\n",
       "      <td>0.431</td>\n",
       "      <td>0.423</td>\n",
       "      <td>0.256</td>\n",
       "      <td>0.593968</td>\n",
       "      <td>1.404179</td>\n",
       "      <td>0.073687</td>\n",
       "      <td>1.421069</td>\n",
       "    </tr>\n",
       "  </tbody>\n",
       "</table>\n",
       "</div>"
      ],
      "text/plain": [
       "  antecedents consequents  antecedent support  consequent support  support  \\\n",
       "0  (ChildBks)   (CookBks)               0.423               0.431    0.256   \n",
       "1   (CookBks)  (ChildBks)               0.431               0.423    0.256   \n",
       "\n",
       "   confidence      lift  leverage  conviction  \n",
       "0    0.605201  1.404179  0.073687    1.441240  \n",
       "1    0.593968  1.404179  0.073687    1.421069  "
      ]
     },
     "execution_count": 7,
     "metadata": {},
     "output_type": "execute_result"
    }
   ],
   "source": [
    "model"
   ]
  },
  {
   "cell_type": "code",
   "execution_count": 8,
   "id": "a1f08c75",
   "metadata": {
    "ExecuteTime": {
     "end_time": "2023-02-22T09:41:35.703208Z",
     "start_time": "2023-02-22T09:41:35.664252Z"
    }
   },
   "outputs": [
    {
     "data": {
      "text/html": [
       "<div>\n",
       "<style scoped>\n",
       "    .dataframe tbody tr th:only-of-type {\n",
       "        vertical-align: middle;\n",
       "    }\n",
       "\n",
       "    .dataframe tbody tr th {\n",
       "        vertical-align: top;\n",
       "    }\n",
       "\n",
       "    .dataframe thead th {\n",
       "        text-align: right;\n",
       "    }\n",
       "</style>\n",
       "<table border=\"1\" class=\"dataframe\">\n",
       "  <thead>\n",
       "    <tr style=\"text-align: right;\">\n",
       "      <th></th>\n",
       "      <th>antecedents</th>\n",
       "      <th>consequents</th>\n",
       "      <th>antecedent support</th>\n",
       "      <th>consequent support</th>\n",
       "      <th>support</th>\n",
       "      <th>confidence</th>\n",
       "      <th>lift</th>\n",
       "      <th>leverage</th>\n",
       "      <th>conviction</th>\n",
       "    </tr>\n",
       "  </thead>\n",
       "  <tbody>\n",
       "    <tr>\n",
       "      <th>0</th>\n",
       "      <td>(ChildBks)</td>\n",
       "      <td>(CookBks)</td>\n",
       "      <td>0.423</td>\n",
       "      <td>0.431</td>\n",
       "      <td>0.256</td>\n",
       "      <td>0.605201</td>\n",
       "      <td>1.404179</td>\n",
       "      <td>0.073687</td>\n",
       "      <td>1.441240</td>\n",
       "    </tr>\n",
       "    <tr>\n",
       "      <th>1</th>\n",
       "      <td>(CookBks)</td>\n",
       "      <td>(ChildBks)</td>\n",
       "      <td>0.431</td>\n",
       "      <td>0.423</td>\n",
       "      <td>0.256</td>\n",
       "      <td>0.593968</td>\n",
       "      <td>1.404179</td>\n",
       "      <td>0.073687</td>\n",
       "      <td>1.421069</td>\n",
       "    </tr>\n",
       "  </tbody>\n",
       "</table>\n",
       "</div>"
      ],
      "text/plain": [
       "  antecedents consequents  antecedent support  consequent support  support  \\\n",
       "0  (ChildBks)   (CookBks)               0.423               0.431    0.256   \n",
       "1   (CookBks)  (ChildBks)               0.431               0.423    0.256   \n",
       "\n",
       "   confidence      lift  leverage  conviction  \n",
       "0    0.605201  1.404179  0.073687    1.441240  \n",
       "1    0.593968  1.404179  0.073687    1.421069  "
      ]
     },
     "execution_count": 8,
     "metadata": {},
     "output_type": "execute_result"
    }
   ],
   "source": [
    "model[model['lift']>1]"
   ]
  },
  {
   "cell_type": "code",
   "execution_count": 9,
   "id": "187c7dac",
   "metadata": {
    "ExecuteTime": {
     "end_time": "2023-02-22T09:41:35.957063Z",
     "start_time": "2023-02-22T09:41:35.709863Z"
    }
   },
   "outputs": [
    {
     "data": {
      "image/png": "[encoded data removed]",
      "text/plain": [
       "<Figure size 640x480 with 1 Axes>"
      ]
     },
     "metadata": {},
     "output_type": "display_data"
    }
   ],
   "source": [
    "# visualization of obtained rule\n",
    "plt.scatter(model['support'],model['confidence'])\n",
    "plt.xlabel('support')\n",
    "plt.ylabel('confidence') \n",
    "plt.show()"
   ]
  },
  {
   "cell_type": "markdown",
   "id": "d293e61a",
   "metadata": {},
   "source": [
    "**Association rule with 5% support and 80% confidence**"
   ]
  },
  {
   "cell_type": "code",
   "execution_count": 10,
   "id": "43c290c4",
   "metadata": {
    "ExecuteTime": {
     "end_time": "2023-02-22T09:41:36.000137Z",
     "start_time": "2023-02-22T09:41:35.969421Z"
    }
   },
   "outputs": [],
   "source": [
    "frequent_items1 = apriori(df, min_support=0.05, use_colnames=True)"
   ]
  },
  {
   "cell_type": "code",
   "execution_count": 11,
   "id": "6ee7500c",
   "metadata": {
    "ExecuteTime": {
     "end_time": "2023-02-22T09:41:36.025999Z",
     "start_time": "2023-02-22T09:41:36.003497Z"
    }
   },
   "outputs": [
    {
     "data": {
      "text/html": [
       "<div>\n",
       "<style scoped>\n",
       "    .dataframe tbody tr th:only-of-type {\n",
       "        vertical-align: middle;\n",
       "    }\n",
       "\n",
       "    .dataframe tbody tr th {\n",
       "        vertical-align: top;\n",
       "    }\n",
       "\n",
       "    .dataframe thead th {\n",
       "        text-align: right;\n",
       "    }\n",
       "</style>\n",
       "<table border=\"1\" class=\"dataframe\">\n",
       "  <thead>\n",
       "    <tr style=\"text-align: right;\">\n",
       "      <th></th>\n",
       "      <th>support</th>\n",
       "      <th>itemsets</th>\n",
       "    </tr>\n",
       "  </thead>\n",
       "  <tbody>\n",
       "    <tr>\n",
       "      <th>0</th>\n",
       "      <td>0.4230</td>\n",
       "      <td>(ChildBks)</td>\n",
       "    </tr>\n",
       "    <tr>\n",
       "      <th>1</th>\n",
       "      <td>0.2475</td>\n",
       "      <td>(YouthBks)</td>\n",
       "    </tr>\n",
       "    <tr>\n",
       "      <th>2</th>\n",
       "      <td>0.4310</td>\n",
       "      <td>(CookBks)</td>\n",
       "    </tr>\n",
       "    <tr>\n",
       "      <th>3</th>\n",
       "      <td>0.2820</td>\n",
       "      <td>(DoItYBks)</td>\n",
       "    </tr>\n",
       "    <tr>\n",
       "      <th>4</th>\n",
       "      <td>0.2145</td>\n",
       "      <td>(RefBks)</td>\n",
       "    </tr>\n",
       "    <tr>\n",
       "      <th>...</th>\n",
       "      <td>...</td>\n",
       "      <td>...</td>\n",
       "    </tr>\n",
       "    <tr>\n",
       "      <th>95</th>\n",
       "      <td>0.0600</td>\n",
       "      <td>(DoItYBks, YouthBks, CookBks, GeogBks)</td>\n",
       "    </tr>\n",
       "    <tr>\n",
       "      <th>96</th>\n",
       "      <td>0.0560</td>\n",
       "      <td>(ArtBks, YouthBks, CookBks, GeogBks)</td>\n",
       "    </tr>\n",
       "    <tr>\n",
       "      <th>97</th>\n",
       "      <td>0.0650</td>\n",
       "      <td>(DoItYBks, ArtBks, CookBks, GeogBks)</td>\n",
       "    </tr>\n",
       "    <tr>\n",
       "      <th>98</th>\n",
       "      <td>0.0510</td>\n",
       "      <td>(DoItYBks, YouthBks, CookBks, GeogBks, ChildBks)</td>\n",
       "    </tr>\n",
       "    <tr>\n",
       "      <th>99</th>\n",
       "      <td>0.0535</td>\n",
       "      <td>(DoItYBks, CookBks, GeogBks, ChildBks, ArtBks)</td>\n",
       "    </tr>\n",
       "  </tbody>\n",
       "</table>\n",
       "<p>100 rows × 2 columns</p>\n",
       "</div>"
      ],
      "text/plain": [
       "    support                                          itemsets\n",
       "0    0.4230                                        (ChildBks)\n",
       "1    0.2475                                        (YouthBks)\n",
       "2    0.4310                                         (CookBks)\n",
       "3    0.2820                                        (DoItYBks)\n",
       "4    0.2145                                          (RefBks)\n",
       "..      ...                                               ...\n",
       "95   0.0600            (DoItYBks, YouthBks, CookBks, GeogBks)\n",
       "96   0.0560              (ArtBks, YouthBks, CookBks, GeogBks)\n",
       "97   0.0650              (DoItYBks, ArtBks, CookBks, GeogBks)\n",
       "98   0.0510  (DoItYBks, YouthBks, CookBks, GeogBks, ChildBks)\n",
       "99   0.0535    (DoItYBks, CookBks, GeogBks, ChildBks, ArtBks)\n",
       "\n",
       "[100 rows x 2 columns]"
      ]
     },
     "execution_count": 11,
     "metadata": {},
     "output_type": "execute_result"
    }
   ],
   "source": [
    "frequent_items1"
   ]
  },
  {
   "cell_type": "code",
   "execution_count": 12,
   "id": "52dc0d77",
   "metadata": {
    "ExecuteTime": {
     "end_time": "2023-02-22T09:41:36.049731Z",
     "start_time": "2023-02-22T09:41:36.031375Z"
    }
   },
   "outputs": [],
   "source": [
    "model1 = association_rules(frequent_items1, metric='lift',min_threshold=0.8)"
   ]
  },
  {
   "cell_type": "code",
   "execution_count": 13,
   "id": "bc1117e1",
   "metadata": {
    "ExecuteTime": {
     "end_time": "2023-02-22T09:41:36.099080Z",
     "start_time": "2023-02-22T09:41:36.058371Z"
    }
   },
   "outputs": [
    {
     "data": {
      "text/html": [
       "<div>\n",
       "<style scoped>\n",
       "    .dataframe tbody tr th:only-of-type {\n",
       "        vertical-align: middle;\n",
       "    }\n",
       "\n",
       "    .dataframe tbody tr th {\n",
       "        vertical-align: top;\n",
       "    }\n",
       "\n",
       "    .dataframe thead th {\n",
       "        text-align: right;\n",
       "    }\n",
       "</style>\n",
       "<table border=\"1\" class=\"dataframe\">\n",
       "  <thead>\n",
       "    <tr style=\"text-align: right;\">\n",
       "      <th></th>\n",
       "      <th>antecedents</th>\n",
       "      <th>consequents</th>\n",
       "      <th>antecedent support</th>\n",
       "      <th>consequent support</th>\n",
       "      <th>support</th>\n",
       "      <th>confidence</th>\n",
       "      <th>lift</th>\n",
       "      <th>leverage</th>\n",
       "      <th>conviction</th>\n",
       "    </tr>\n",
       "  </thead>\n",
       "  <tbody>\n",
       "    <tr>\n",
       "      <th>0</th>\n",
       "      <td>(YouthBks)</td>\n",
       "      <td>(ChildBks)</td>\n",
       "      <td>0.2475</td>\n",
       "      <td>0.4230</td>\n",
       "      <td>0.1650</td>\n",
       "      <td>0.666667</td>\n",
       "      <td>1.576044</td>\n",
       "      <td>0.060308</td>\n",
       "      <td>1.731000</td>\n",
       "    </tr>\n",
       "    <tr>\n",
       "      <th>1</th>\n",
       "      <td>(ChildBks)</td>\n",
       "      <td>(YouthBks)</td>\n",
       "      <td>0.4230</td>\n",
       "      <td>0.2475</td>\n",
       "      <td>0.1650</td>\n",
       "      <td>0.390071</td>\n",
       "      <td>1.576044</td>\n",
       "      <td>0.060308</td>\n",
       "      <td>1.233750</td>\n",
       "    </tr>\n",
       "    <tr>\n",
       "      <th>2</th>\n",
       "      <td>(ChildBks)</td>\n",
       "      <td>(CookBks)</td>\n",
       "      <td>0.4230</td>\n",
       "      <td>0.4310</td>\n",
       "      <td>0.2560</td>\n",
       "      <td>0.605201</td>\n",
       "      <td>1.404179</td>\n",
       "      <td>0.073687</td>\n",
       "      <td>1.441240</td>\n",
       "    </tr>\n",
       "    <tr>\n",
       "      <th>3</th>\n",
       "      <td>(CookBks)</td>\n",
       "      <td>(ChildBks)</td>\n",
       "      <td>0.4310</td>\n",
       "      <td>0.4230</td>\n",
       "      <td>0.2560</td>\n",
       "      <td>0.593968</td>\n",
       "      <td>1.404179</td>\n",
       "      <td>0.073687</td>\n",
       "      <td>1.421069</td>\n",
       "    </tr>\n",
       "    <tr>\n",
       "      <th>4</th>\n",
       "      <td>(DoItYBks)</td>\n",
       "      <td>(ChildBks)</td>\n",
       "      <td>0.2820</td>\n",
       "      <td>0.4230</td>\n",
       "      <td>0.1840</td>\n",
       "      <td>0.652482</td>\n",
       "      <td>1.542511</td>\n",
       "      <td>0.064714</td>\n",
       "      <td>1.660347</td>\n",
       "    </tr>\n",
       "    <tr>\n",
       "      <th>...</th>\n",
       "      <td>...</td>\n",
       "      <td>...</td>\n",
       "      <td>...</td>\n",
       "      <td>...</td>\n",
       "      <td>...</td>\n",
       "      <td>...</td>\n",
       "      <td>...</td>\n",
       "      <td>...</td>\n",
       "      <td>...</td>\n",
       "    </tr>\n",
       "    <tr>\n",
       "      <th>657</th>\n",
       "      <td>(DoItYBks)</td>\n",
       "      <td>(ArtBks, ChildBks, CookBks, GeogBks)</td>\n",
       "      <td>0.2820</td>\n",
       "      <td>0.0835</td>\n",
       "      <td>0.0535</td>\n",
       "      <td>0.189716</td>\n",
       "      <td>2.272052</td>\n",
       "      <td>0.029953</td>\n",
       "      <td>1.131085</td>\n",
       "    </tr>\n",
       "    <tr>\n",
       "      <th>658</th>\n",
       "      <td>(CookBks)</td>\n",
       "      <td>(DoItYBks, ChildBks, ArtBks, GeogBks)</td>\n",
       "      <td>0.4310</td>\n",
       "      <td>0.0595</td>\n",
       "      <td>0.0535</td>\n",
       "      <td>0.124130</td>\n",
       "      <td>2.086217</td>\n",
       "      <td>0.027856</td>\n",
       "      <td>1.073789</td>\n",
       "    </tr>\n",
       "    <tr>\n",
       "      <th>659</th>\n",
       "      <td>(GeogBks)</td>\n",
       "      <td>(DoItYBks, ArtBks, ChildBks, CookBks)</td>\n",
       "      <td>0.2760</td>\n",
       "      <td>0.0820</td>\n",
       "      <td>0.0535</td>\n",
       "      <td>0.193841</td>\n",
       "      <td>2.363910</td>\n",
       "      <td>0.030868</td>\n",
       "      <td>1.138733</td>\n",
       "    </tr>\n",
       "    <tr>\n",
       "      <th>660</th>\n",
       "      <td>(ChildBks)</td>\n",
       "      <td>(DoItYBks, ArtBks, CookBks, GeogBks)</td>\n",
       "      <td>0.4230</td>\n",
       "      <td>0.0650</td>\n",
       "      <td>0.0535</td>\n",
       "      <td>0.126478</td>\n",
       "      <td>1.945808</td>\n",
       "      <td>0.026005</td>\n",
       "      <td>1.070379</td>\n",
       "    </tr>\n",
       "    <tr>\n",
       "      <th>661</th>\n",
       "      <td>(ArtBks)</td>\n",
       "      <td>(DoItYBks, ChildBks, CookBks, GeogBks)</td>\n",
       "      <td>0.2410</td>\n",
       "      <td>0.0890</td>\n",
       "      <td>0.0535</td>\n",
       "      <td>0.221992</td>\n",
       "      <td>2.494289</td>\n",
       "      <td>0.032051</td>\n",
       "      <td>1.170939</td>\n",
       "    </tr>\n",
       "  </tbody>\n",
       "</table>\n",
       "<p>662 rows × 9 columns</p>\n",
       "</div>"
      ],
      "text/plain": [
       "    antecedents                             consequents  antecedent support  \\\n",
       "0    (YouthBks)                              (ChildBks)              0.2475   \n",
       "1    (ChildBks)                              (YouthBks)              0.4230   \n",
       "2    (ChildBks)                               (CookBks)              0.4230   \n",
       "3     (CookBks)                              (ChildBks)              0.4310   \n",
       "4    (DoItYBks)                              (ChildBks)              0.2820   \n",
       "..          ...                                     ...                 ...   \n",
       "657  (DoItYBks)    (ArtBks, ChildBks, CookBks, GeogBks)              0.2820   \n",
       "658   (CookBks)   (DoItYBks, ChildBks, ArtBks, GeogBks)              0.4310   \n",
       "659   (GeogBks)   (DoItYBks, ArtBks, ChildBks, CookBks)              0.2760   \n",
       "660  (ChildBks)    (DoItYBks, ArtBks, CookBks, GeogBks)              0.4230   \n",
       "661    (ArtBks)  (DoItYBks, ChildBks, CookBks, GeogBks)              0.2410   \n",
       "\n",
       "     consequent support  support  confidence      lift  leverage  conviction  \n",
       "0                0.4230   0.1650    0.666667  1.576044  0.060308    1.731000  \n",
       "1                0.2475   0.1650    0.390071  1.576044  0.060308    1.233750  \n",
       "2                0.4310   0.2560    0.605201  1.404179  0.073687    1.441240  \n",
       "3                0.4230   0.2560    0.593968  1.404179  0.073687    1.421069  \n",
       "4                0.4230   0.1840    0.652482  1.542511  0.064714    1.660347  \n",
       "..                  ...      ...         ...       ...       ...         ...  \n",
       "657              0.0835   0.0535    0.189716  2.272052  0.029953    1.131085  \n",
       "658              0.0595   0.0535    0.124130  2.086217  0.027856    1.073789  \n",
       "659              0.0820   0.0535    0.193841  2.363910  0.030868    1.138733  \n",
       "660              0.0650   0.0535    0.126478  1.945808  0.026005    1.070379  \n",
       "661              0.0890   0.0535    0.221992  2.494289  0.032051    1.170939  \n",
       "\n",
       "[662 rows x 9 columns]"
      ]
     },
     "execution_count": 13,
     "metadata": {},
     "output_type": "execute_result"
    }
   ],
   "source": [
    "model1"
   ]
  },
  {
   "cell_type": "code",
   "execution_count": 14,
   "id": "4c41892b",
   "metadata": {
    "ExecuteTime": {
     "end_time": "2023-02-22T09:41:36.147621Z",
     "start_time": "2023-02-22T09:41:36.105188Z"
    }
   },
   "outputs": [
    {
     "data": {
      "text/html": [
       "<div>\n",
       "<style scoped>\n",
       "    .dataframe tbody tr th:only-of-type {\n",
       "        vertical-align: middle;\n",
       "    }\n",
       "\n",
       "    .dataframe tbody tr th {\n",
       "        vertical-align: top;\n",
       "    }\n",
       "\n",
       "    .dataframe thead th {\n",
       "        text-align: right;\n",
       "    }\n",
       "</style>\n",
       "<table border=\"1\" class=\"dataframe\">\n",
       "  <thead>\n",
       "    <tr style=\"text-align: right;\">\n",
       "      <th></th>\n",
       "      <th>antecedents</th>\n",
       "      <th>consequents</th>\n",
       "      <th>antecedent support</th>\n",
       "      <th>consequent support</th>\n",
       "      <th>support</th>\n",
       "      <th>confidence</th>\n",
       "      <th>lift</th>\n",
       "      <th>leverage</th>\n",
       "      <th>conviction</th>\n",
       "    </tr>\n",
       "  </thead>\n",
       "  <tbody>\n",
       "    <tr>\n",
       "      <th>0</th>\n",
       "      <td>(YouthBks)</td>\n",
       "      <td>(ChildBks)</td>\n",
       "      <td>0.2475</td>\n",
       "      <td>0.4230</td>\n",
       "      <td>0.1650</td>\n",
       "      <td>0.666667</td>\n",
       "      <td>1.576044</td>\n",
       "      <td>0.060308</td>\n",
       "      <td>1.731000</td>\n",
       "    </tr>\n",
       "    <tr>\n",
       "      <th>1</th>\n",
       "      <td>(ChildBks)</td>\n",
       "      <td>(YouthBks)</td>\n",
       "      <td>0.4230</td>\n",
       "      <td>0.2475</td>\n",
       "      <td>0.1650</td>\n",
       "      <td>0.390071</td>\n",
       "      <td>1.576044</td>\n",
       "      <td>0.060308</td>\n",
       "      <td>1.233750</td>\n",
       "    </tr>\n",
       "    <tr>\n",
       "      <th>2</th>\n",
       "      <td>(ChildBks)</td>\n",
       "      <td>(CookBks)</td>\n",
       "      <td>0.4230</td>\n",
       "      <td>0.4310</td>\n",
       "      <td>0.2560</td>\n",
       "      <td>0.605201</td>\n",
       "      <td>1.404179</td>\n",
       "      <td>0.073687</td>\n",
       "      <td>1.441240</td>\n",
       "    </tr>\n",
       "    <tr>\n",
       "      <th>3</th>\n",
       "      <td>(CookBks)</td>\n",
       "      <td>(ChildBks)</td>\n",
       "      <td>0.4310</td>\n",
       "      <td>0.4230</td>\n",
       "      <td>0.2560</td>\n",
       "      <td>0.593968</td>\n",
       "      <td>1.404179</td>\n",
       "      <td>0.073687</td>\n",
       "      <td>1.421069</td>\n",
       "    </tr>\n",
       "    <tr>\n",
       "      <th>4</th>\n",
       "      <td>(DoItYBks)</td>\n",
       "      <td>(ChildBks)</td>\n",
       "      <td>0.2820</td>\n",
       "      <td>0.4230</td>\n",
       "      <td>0.1840</td>\n",
       "      <td>0.652482</td>\n",
       "      <td>1.542511</td>\n",
       "      <td>0.064714</td>\n",
       "      <td>1.660347</td>\n",
       "    </tr>\n",
       "    <tr>\n",
       "      <th>...</th>\n",
       "      <td>...</td>\n",
       "      <td>...</td>\n",
       "      <td>...</td>\n",
       "      <td>...</td>\n",
       "      <td>...</td>\n",
       "      <td>...</td>\n",
       "      <td>...</td>\n",
       "      <td>...</td>\n",
       "      <td>...</td>\n",
       "    </tr>\n",
       "    <tr>\n",
       "      <th>657</th>\n",
       "      <td>(DoItYBks)</td>\n",
       "      <td>(ArtBks, ChildBks, CookBks, GeogBks)</td>\n",
       "      <td>0.2820</td>\n",
       "      <td>0.0835</td>\n",
       "      <td>0.0535</td>\n",
       "      <td>0.189716</td>\n",
       "      <td>2.272052</td>\n",
       "      <td>0.029953</td>\n",
       "      <td>1.131085</td>\n",
       "    </tr>\n",
       "    <tr>\n",
       "      <th>658</th>\n",
       "      <td>(CookBks)</td>\n",
       "      <td>(DoItYBks, ChildBks, ArtBks, GeogBks)</td>\n",
       "      <td>0.4310</td>\n",
       "      <td>0.0595</td>\n",
       "      <td>0.0535</td>\n",
       "      <td>0.124130</td>\n",
       "      <td>2.086217</td>\n",
       "      <td>0.027856</td>\n",
       "      <td>1.073789</td>\n",
       "    </tr>\n",
       "    <tr>\n",
       "      <th>659</th>\n",
       "      <td>(GeogBks)</td>\n",
       "      <td>(DoItYBks, ArtBks, ChildBks, CookBks)</td>\n",
       "      <td>0.2760</td>\n",
       "      <td>0.0820</td>\n",
       "      <td>0.0535</td>\n",
       "      <td>0.193841</td>\n",
       "      <td>2.363910</td>\n",
       "      <td>0.030868</td>\n",
       "      <td>1.138733</td>\n",
       "    </tr>\n",
       "    <tr>\n",
       "      <th>660</th>\n",
       "      <td>(ChildBks)</td>\n",
       "      <td>(DoItYBks, ArtBks, CookBks, GeogBks)</td>\n",
       "      <td>0.4230</td>\n",
       "      <td>0.0650</td>\n",
       "      <td>0.0535</td>\n",
       "      <td>0.126478</td>\n",
       "      <td>1.945808</td>\n",
       "      <td>0.026005</td>\n",
       "      <td>1.070379</td>\n",
       "    </tr>\n",
       "    <tr>\n",
       "      <th>661</th>\n",
       "      <td>(ArtBks)</td>\n",
       "      <td>(DoItYBks, ChildBks, CookBks, GeogBks)</td>\n",
       "      <td>0.2410</td>\n",
       "      <td>0.0890</td>\n",
       "      <td>0.0535</td>\n",
       "      <td>0.221992</td>\n",
       "      <td>2.494289</td>\n",
       "      <td>0.032051</td>\n",
       "      <td>1.170939</td>\n",
       "    </tr>\n",
       "  </tbody>\n",
       "</table>\n",
       "<p>662 rows × 9 columns</p>\n",
       "</div>"
      ],
      "text/plain": [
       "    antecedents                             consequents  antecedent support  \\\n",
       "0    (YouthBks)                              (ChildBks)              0.2475   \n",
       "1    (ChildBks)                              (YouthBks)              0.4230   \n",
       "2    (ChildBks)                               (CookBks)              0.4230   \n",
       "3     (CookBks)                              (ChildBks)              0.4310   \n",
       "4    (DoItYBks)                              (ChildBks)              0.2820   \n",
       "..          ...                                     ...                 ...   \n",
       "657  (DoItYBks)    (ArtBks, ChildBks, CookBks, GeogBks)              0.2820   \n",
       "658   (CookBks)   (DoItYBks, ChildBks, ArtBks, GeogBks)              0.4310   \n",
       "659   (GeogBks)   (DoItYBks, ArtBks, ChildBks, CookBks)              0.2760   \n",
       "660  (ChildBks)    (DoItYBks, ArtBks, CookBks, GeogBks)              0.4230   \n",
       "661    (ArtBks)  (DoItYBks, ChildBks, CookBks, GeogBks)              0.2410   \n",
       "\n",
       "     consequent support  support  confidence      lift  leverage  conviction  \n",
       "0                0.4230   0.1650    0.666667  1.576044  0.060308    1.731000  \n",
       "1                0.2475   0.1650    0.390071  1.576044  0.060308    1.233750  \n",
       "2                0.4310   0.2560    0.605201  1.404179  0.073687    1.441240  \n",
       "3                0.4230   0.2560    0.593968  1.404179  0.073687    1.421069  \n",
       "4                0.4230   0.1840    0.652482  1.542511  0.064714    1.660347  \n",
       "..                  ...      ...         ...       ...       ...         ...  \n",
       "657              0.0835   0.0535    0.189716  2.272052  0.029953    1.131085  \n",
       "658              0.0595   0.0535    0.124130  2.086217  0.027856    1.073789  \n",
       "659              0.0820   0.0535    0.193841  2.363910  0.030868    1.138733  \n",
       "660              0.0650   0.0535    0.126478  1.945808  0.026005    1.070379  \n",
       "661              0.0890   0.0535    0.221992  2.494289  0.032051    1.170939  \n",
       "\n",
       "[662 rows x 9 columns]"
      ]
     },
     "execution_count": 14,
     "metadata": {},
     "output_type": "execute_result"
    }
   ],
   "source": [
    "model1[model1['lift']>1]"
   ]
  },
  {
   "cell_type": "code",
   "execution_count": 15,
   "id": "2a06244f",
   "metadata": {
    "ExecuteTime": {
     "end_time": "2023-02-22T09:41:36.313809Z",
     "start_time": "2023-02-22T09:41:36.151291Z"
    }
   },
   "outputs": [
    {
     "data": {
      "image/png": "[encoded data removed]",
      "text/plain": [
       "<Figure size 640x480 with 1 Axes>"
      ]
     },
     "metadata": {},
     "output_type": "display_data"
    }
   ],
   "source": [
    "plt.scatter(model1['support'],model1['confidence'])\n",
    "plt.xlabel('support')\n",
    "plt.ylabel('confidence') \n",
    "plt.show()"
   ]
  },
  {
   "cell_type": "markdown",
   "id": "e6087370",
   "metadata": {},
   "source": [
    "**Association rule with 20% support and 60% confidence and Length=2**"
   ]
  },
  {
   "cell_type": "code",
   "execution_count": 16,
   "id": "befedf4c",
   "metadata": {
    "ExecuteTime": {
     "end_time": "2023-02-22T09:41:36.335170Z",
     "start_time": "2023-02-22T09:41:36.317345Z"
    }
   },
   "outputs": [],
   "source": [
    "frequent_items3 = apriori(df, min_support=0.2, max_len=2, use_colnames=True)"
   ]
  },
  {
   "cell_type": "code",
   "execution_count": 17,
   "id": "43c9eb11",
   "metadata": {
    "ExecuteTime": {
     "end_time": "2023-02-22T09:41:36.357022Z",
     "start_time": "2023-02-22T09:41:36.341383Z"
    }
   },
   "outputs": [
    {
     "data": {
      "text/html": [
       "<div>\n",
       "<style scoped>\n",
       "    .dataframe tbody tr th:only-of-type {\n",
       "        vertical-align: middle;\n",
       "    }\n",
       "\n",
       "    .dataframe tbody tr th {\n",
       "        vertical-align: top;\n",
       "    }\n",
       "\n",
       "    .dataframe thead th {\n",
       "        text-align: right;\n",
       "    }\n",
       "</style>\n",
       "<table border=\"1\" class=\"dataframe\">\n",
       "  <thead>\n",
       "    <tr style=\"text-align: right;\">\n",
       "      <th></th>\n",
       "      <th>support</th>\n",
       "      <th>itemsets</th>\n",
       "    </tr>\n",
       "  </thead>\n",
       "  <tbody>\n",
       "    <tr>\n",
       "      <th>0</th>\n",
       "      <td>0.4230</td>\n",
       "      <td>(ChildBks)</td>\n",
       "    </tr>\n",
       "    <tr>\n",
       "      <th>1</th>\n",
       "      <td>0.2475</td>\n",
       "      <td>(YouthBks)</td>\n",
       "    </tr>\n",
       "    <tr>\n",
       "      <th>2</th>\n",
       "      <td>0.4310</td>\n",
       "      <td>(CookBks)</td>\n",
       "    </tr>\n",
       "    <tr>\n",
       "      <th>3</th>\n",
       "      <td>0.2820</td>\n",
       "      <td>(DoItYBks)</td>\n",
       "    </tr>\n",
       "    <tr>\n",
       "      <th>4</th>\n",
       "      <td>0.2145</td>\n",
       "      <td>(RefBks)</td>\n",
       "    </tr>\n",
       "    <tr>\n",
       "      <th>5</th>\n",
       "      <td>0.2410</td>\n",
       "      <td>(ArtBks)</td>\n",
       "    </tr>\n",
       "    <tr>\n",
       "      <th>6</th>\n",
       "      <td>0.2760</td>\n",
       "      <td>(GeogBks)</td>\n",
       "    </tr>\n",
       "    <tr>\n",
       "      <th>7</th>\n",
       "      <td>0.2560</td>\n",
       "      <td>(ChildBks, CookBks)</td>\n",
       "    </tr>\n",
       "  </tbody>\n",
       "</table>\n",
       "</div>"
      ],
      "text/plain": [
       "   support             itemsets\n",
       "0   0.4230           (ChildBks)\n",
       "1   0.2475           (YouthBks)\n",
       "2   0.4310            (CookBks)\n",
       "3   0.2820           (DoItYBks)\n",
       "4   0.2145             (RefBks)\n",
       "5   0.2410             (ArtBks)\n",
       "6   0.2760            (GeogBks)\n",
       "7   0.2560  (ChildBks, CookBks)"
      ]
     },
     "execution_count": 17,
     "metadata": {},
     "output_type": "execute_result"
    }
   ],
   "source": [
    "frequent_items3"
   ]
  },
  {
   "cell_type": "code",
   "execution_count": 18,
   "id": "92b78942",
   "metadata": {
    "ExecuteTime": {
     "end_time": "2023-02-22T09:41:36.384094Z",
     "start_time": "2023-02-22T09:41:36.368377Z"
    }
   },
   "outputs": [],
   "source": [
    "model2 = association_rules(frequent_items3, metric='lift',min_threshold=0.6)"
   ]
  },
  {
   "cell_type": "code",
   "execution_count": 19,
   "id": "ad483acc",
   "metadata": {
    "ExecuteTime": {
     "end_time": "2023-02-22T09:41:36.420507Z",
     "start_time": "2023-02-22T09:41:36.391471Z"
    }
   },
   "outputs": [
    {
     "data": {
      "text/html": [
       "<div>\n",
       "<style scoped>\n",
       "    .dataframe tbody tr th:only-of-type {\n",
       "        vertical-align: middle;\n",
       "    }\n",
       "\n",
       "    .dataframe tbody tr th {\n",
       "        vertical-align: top;\n",
       "    }\n",
       "\n",
       "    .dataframe thead th {\n",
       "        text-align: right;\n",
       "    }\n",
       "</style>\n",
       "<table border=\"1\" class=\"dataframe\">\n",
       "  <thead>\n",
       "    <tr style=\"text-align: right;\">\n",
       "      <th></th>\n",
       "      <th>antecedents</th>\n",
       "      <th>consequents</th>\n",
       "      <th>antecedent support</th>\n",
       "      <th>consequent support</th>\n",
       "      <th>support</th>\n",
       "      <th>confidence</th>\n",
       "      <th>lift</th>\n",
       "      <th>leverage</th>\n",
       "      <th>conviction</th>\n",
       "    </tr>\n",
       "  </thead>\n",
       "  <tbody>\n",
       "    <tr>\n",
       "      <th>0</th>\n",
       "      <td>(ChildBks)</td>\n",
       "      <td>(CookBks)</td>\n",
       "      <td>0.423</td>\n",
       "      <td>0.431</td>\n",
       "      <td>0.256</td>\n",
       "      <td>0.605201</td>\n",
       "      <td>1.404179</td>\n",
       "      <td>0.073687</td>\n",
       "      <td>1.441240</td>\n",
       "    </tr>\n",
       "    <tr>\n",
       "      <th>1</th>\n",
       "      <td>(CookBks)</td>\n",
       "      <td>(ChildBks)</td>\n",
       "      <td>0.431</td>\n",
       "      <td>0.423</td>\n",
       "      <td>0.256</td>\n",
       "      <td>0.593968</td>\n",
       "      <td>1.404179</td>\n",
       "      <td>0.073687</td>\n",
       "      <td>1.421069</td>\n",
       "    </tr>\n",
       "  </tbody>\n",
       "</table>\n",
       "</div>"
      ],
      "text/plain": [
       "  antecedents consequents  antecedent support  consequent support  support  \\\n",
       "0  (ChildBks)   (CookBks)               0.423               0.431    0.256   \n",
       "1   (CookBks)  (ChildBks)               0.431               0.423    0.256   \n",
       "\n",
       "   confidence      lift  leverage  conviction  \n",
       "0    0.605201  1.404179  0.073687    1.441240  \n",
       "1    0.593968  1.404179  0.073687    1.421069  "
      ]
     },
     "execution_count": 19,
     "metadata": {},
     "output_type": "execute_result"
    }
   ],
   "source": [
    "model2"
   ]
  },
  {
   "cell_type": "code",
   "execution_count": 20,
   "id": "e89fe90f",
   "metadata": {
    "ExecuteTime": {
     "end_time": "2023-02-22T09:41:36.639970Z",
     "start_time": "2023-02-22T09:41:36.472848Z"
    }
   },
   "outputs": [
    {
     "data": {
      "image/png": "[encoded data removed]",
      "text/plain": [
       "<Figure size 640x480 with 1 Axes>"
      ]
     },
     "metadata": {},
     "output_type": "display_data"
    }
   ],
   "source": [
    "plt.scatter(model2['support'],model2['confidence'])\n",
    "plt.xlabel('support')\n",
    "plt.ylabel('confidence') \n",
    "plt.show()"
   ]
  }
 ],
 "metadata": {
  "kernelspec": {
   "display_name": "Python 3 (ipykernel)",
   "language": "python",
   "name": "python3"
  },
  "language_info": {
   "codemirror_mode": {
    "name": "ipython",
    "version": 3
   },
   "file_extension": ".py",
   "mimetype": "text/x-python",
   "name": "python",
   "nbconvert_exporter": "python",
   "pygments_lexer": "ipython3",
   "version": "3.9.13"
  }
 },
 "nbformat": 4,
 "nbformat_minor": 5
}
