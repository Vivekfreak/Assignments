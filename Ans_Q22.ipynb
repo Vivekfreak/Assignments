{
 "cells": [
  {
   "cell_type": "markdown",
   "id": "ca4b44c2",
   "metadata": {
    "ExecuteTime": {
     "end_time": "2023-02-20T07:48:44.182123Z",
     "start_time": "2023-02-20T07:48:44.173524Z"
    }
   },
   "source": [
    "# Importing Libraries"
   ]
  },
  {
   "cell_type": "code",
   "execution_count": 1,
   "id": "b750e281",
   "metadata": {
    "ExecuteTime": {
     "end_time": "2023-02-20T07:51:09.330013Z",
     "start_time": "2023-02-20T07:51:07.585973Z"
    }
   },
   "outputs": [],
   "source": [
    "from scipy import stats\n",
    "from scipy.stats import norm"
   ]
  },
  {
   "cell_type": "markdown",
   "id": "cb912af3",
   "metadata": {},
   "source": [
    "### Q. Calculate the Z scores of 90% confidence interval,94% confidence interval, 60% confidence interval"
   ]
  },
  {
   "cell_type": "markdown",
   "id": "2134341f",
   "metadata": {},
   "source": [
    "#### Z-score of 90% confidence interval"
   ]
  },
  {
   "cell_type": "code",
   "execution_count": 2,
   "id": "74c39dbe",
   "metadata": {
    "ExecuteTime": {
     "end_time": "2023-02-20T07:51:09.350769Z",
     "start_time": "2023-02-20T07:51:09.334384Z"
    }
   },
   "outputs": [
    {
     "data": {
      "text/plain": [
       "1.6448536269514722"
      ]
     },
     "execution_count": 2,
     "metadata": {},
     "output_type": "execute_result"
    }
   ],
   "source": [
    "stats.norm.ppf(0.95)"
   ]
  },
  {
   "cell_type": "markdown",
   "id": "a151bf4f",
   "metadata": {},
   "source": [
    "#### Z-score of 94% confidence interval"
   ]
  },
  {
   "cell_type": "code",
   "execution_count": 3,
   "id": "13101534",
   "metadata": {
    "ExecuteTime": {
     "end_time": "2023-02-20T07:51:09.372467Z",
     "start_time": "2023-02-20T07:51:09.356656Z"
    }
   },
   "outputs": [
    {
     "data": {
      "text/plain": [
       "1.8807936081512509"
      ]
     },
     "execution_count": 3,
     "metadata": {},
     "output_type": "execute_result"
    }
   ],
   "source": [
    "stats.norm.ppf(0.97)"
   ]
  },
  {
   "cell_type": "markdown",
   "id": "f19e2c48",
   "metadata": {},
   "source": [
    "#### Z-score of 60% confidence interval"
   ]
  },
  {
   "cell_type": "code",
   "execution_count": 4,
   "id": "056733a4",
   "metadata": {
    "ExecuteTime": {
     "end_time": "2023-02-20T07:51:09.400088Z",
     "start_time": "2023-02-20T07:51:09.385614Z"
    }
   },
   "outputs": [
    {
     "data": {
      "text/plain": [
       "0.8416212335729143"
      ]
     },
     "execution_count": 4,
     "metadata": {},
     "output_type": "execute_result"
    }
   ],
   "source": [
    "stats.norm.ppf(0.8)"
   ]
  }
 ],
 "metadata": {
  "kernelspec": {
   "display_name": "Python 3 (ipykernel)",
   "language": "python",
   "name": "python3"
  },
  "language_info": {
   "codemirror_mode": {
    "name": "ipython",
    "version": 3
   },
   "file_extension": ".py",
   "mimetype": "text/x-python",
   "name": "python",
   "nbconvert_exporter": "python",
   "pygments_lexer": "ipython3",
   "version": "3.9.13"
  }
 },
 "nbformat": 4,
 "nbformat_minor": 5
}
