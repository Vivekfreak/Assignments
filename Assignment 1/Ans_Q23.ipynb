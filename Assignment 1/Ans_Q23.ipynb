{
 "cells": [
  {
   "cell_type": "markdown",
   "id": "5e7fb97c",
   "metadata": {
    "ExecuteTime": {
     "end_time": "2023-02-20T07:52:32.290910Z",
     "start_time": "2023-02-20T07:52:32.281989Z"
    }
   },
   "source": [
    "# Importing Libraries"
   ]
  },
  {
   "cell_type": "code",
   "execution_count": 1,
   "id": "460b27af",
   "metadata": {
    "ExecuteTime": {
     "end_time": "2023-02-20T07:54:50.289281Z",
     "start_time": "2023-02-20T07:54:47.784556Z"
    }
   },
   "outputs": [],
   "source": [
    "from scipy import stats\n",
    "from scipy.stats import norm"
   ]
  },
  {
   "cell_type": "markdown",
   "id": "94e7b842",
   "metadata": {},
   "source": [
    "## Q. Calculate the t scores of 95% confidence interval, 96% confidence interval, 99% confidence interval for sample size of 25"
   ]
  },
  {
   "cell_type": "markdown",
   "id": "007c3233",
   "metadata": {},
   "source": [
    "### t scores of 95% confidence interval for sample size of 25"
   ]
  },
  {
   "cell_type": "code",
   "execution_count": 2,
   "id": "f48ed075",
   "metadata": {
    "ExecuteTime": {
     "end_time": "2023-02-20T07:54:50.316737Z",
     "start_time": "2023-02-20T07:54:50.297417Z"
    }
   },
   "outputs": [
    {
     "data": {
      "text/plain": [
       "1.7108820799094275"
      ]
     },
     "execution_count": 2,
     "metadata": {},
     "output_type": "execute_result"
    }
   ],
   "source": [
    "stats.t.ppf(0.95,24)"
   ]
  },
  {
   "cell_type": "markdown",
   "id": "ca023874",
   "metadata": {
    "ExecuteTime": {
     "end_time": "2023-02-20T07:53:24.389793Z",
     "start_time": "2023-02-20T07:53:24.382300Z"
    }
   },
   "source": [
    "### t scores of 96% confidence interval for sample size of 25"
   ]
  },
  {
   "cell_type": "code",
   "execution_count": 3,
   "id": "36f86ef6",
   "metadata": {
    "ExecuteTime": {
     "end_time": "2023-02-20T07:54:50.337252Z",
     "start_time": "2023-02-20T07:54:50.322185Z"
    }
   },
   "outputs": [
    {
     "data": {
      "text/plain": [
       "1.8280511719596342"
      ]
     },
     "execution_count": 3,
     "metadata": {},
     "output_type": "execute_result"
    }
   ],
   "source": [
    "stats.t.ppf(0.96,24)"
   ]
  },
  {
   "cell_type": "markdown",
   "id": "f964de3a",
   "metadata": {},
   "source": [
    "### t scores of 99% confidence interval for sample size of 25"
   ]
  },
  {
   "cell_type": "code",
   "execution_count": 4,
   "id": "f089f869",
   "metadata": {
    "ExecuteTime": {
     "end_time": "2023-02-20T07:54:50.360445Z",
     "start_time": "2023-02-20T07:54:50.342306Z"
    }
   },
   "outputs": [
    {
     "data": {
      "text/plain": [
       "2.4921594731575762"
      ]
     },
     "execution_count": 4,
     "metadata": {},
     "output_type": "execute_result"
    }
   ],
   "source": [
    "stats.t.ppf(0.99,24)"
   ]
  }
 ],
 "metadata": {
  "kernelspec": {
   "display_name": "Python 3 (ipykernel)",
   "language": "python",
   "name": "python3"
  },
  "language_info": {
   "codemirror_mode": {
    "name": "ipython",
    "version": 3
   },
   "file_extension": ".py",
   "mimetype": "text/x-python",
   "name": "python",
   "nbconvert_exporter": "python",
   "pygments_lexer": "ipython3",
   "version": "3.9.13"
  }
 },
 "nbformat": 4,
 "nbformat_minor": 5
}
