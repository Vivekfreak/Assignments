{
 "cells": [
  {
   "cell_type": "markdown",
   "id": "dd6afba5",
   "metadata": {
    "ExecuteTime": {
     "end_time": "2023-02-20T07:27:51.856518Z",
     "start_time": "2023-02-20T07:27:51.848889Z"
    }
   },
   "source": [
    "# Importing libraries"
   ]
  },
  {
   "cell_type": "code",
   "execution_count": 1,
   "id": "93b30bcd",
   "metadata": {
    "ExecuteTime": {
     "end_time": "2023-02-20T07:35:15.547352Z",
     "start_time": "2023-02-20T07:35:12.299375Z"
    }
   },
   "outputs": [],
   "source": [
    "import pandas as pd\n",
    "import numpy as np\n",
    "from scipy import stats\n",
    "from scipy.stats import norm\n",
    "import matplotlib.pyplot as plt\n",
    "%matplotlib inline\n",
    "import seaborn as sns\n",
    "import warnings\n",
    "warnings.filterwarnings('ignore')"
   ]
  },
  {
   "cell_type": "markdown",
   "id": "db71250c",
   "metadata": {},
   "source": [
    "### Q.Calculate probability from the given dataset for the below cases a. P(MPG>38) b. P(MPG<40) c. P (20<MPG<50)\n",
    "\n"
   ]
  },
  {
   "cell_type": "markdown",
   "id": "e07dc068",
   "metadata": {},
   "source": [
    "## Importing data"
   ]
  },
  {
   "cell_type": "code",
   "execution_count": 2,
   "id": "8a3dc5d3",
   "metadata": {
    "ExecuteTime": {
     "end_time": "2023-02-20T07:35:15.680754Z",
     "start_time": "2023-02-20T07:35:15.551693Z"
    }
   },
   "outputs": [
    {
     "data": {
      "text/html": [
       "<div>\n",
       "<style scoped>\n",
       "    .dataframe tbody tr th:only-of-type {\n",
       "        vertical-align: middle;\n",
       "    }\n",
       "\n",
       "    .dataframe tbody tr th {\n",
       "        vertical-align: top;\n",
       "    }\n",
       "\n",
       "    .dataframe thead th {\n",
       "        text-align: right;\n",
       "    }\n",
       "</style>\n",
       "<table border=\"1\" class=\"dataframe\">\n",
       "  <thead>\n",
       "    <tr style=\"text-align: right;\">\n",
       "      <th></th>\n",
       "      <th>HP</th>\n",
       "      <th>MPG</th>\n",
       "      <th>VOL</th>\n",
       "      <th>SP</th>\n",
       "      <th>WT</th>\n",
       "    </tr>\n",
       "  </thead>\n",
       "  <tbody>\n",
       "    <tr>\n",
       "      <th>0</th>\n",
       "      <td>49</td>\n",
       "      <td>53.700681</td>\n",
       "      <td>89</td>\n",
       "      <td>104.185353</td>\n",
       "      <td>28.762059</td>\n",
       "    </tr>\n",
       "    <tr>\n",
       "      <th>1</th>\n",
       "      <td>55</td>\n",
       "      <td>50.013401</td>\n",
       "      <td>92</td>\n",
       "      <td>105.461264</td>\n",
       "      <td>30.466833</td>\n",
       "    </tr>\n",
       "    <tr>\n",
       "      <th>2</th>\n",
       "      <td>55</td>\n",
       "      <td>50.013401</td>\n",
       "      <td>92</td>\n",
       "      <td>105.461264</td>\n",
       "      <td>30.193597</td>\n",
       "    </tr>\n",
       "    <tr>\n",
       "      <th>3</th>\n",
       "      <td>70</td>\n",
       "      <td>45.696322</td>\n",
       "      <td>92</td>\n",
       "      <td>113.461264</td>\n",
       "      <td>30.632114</td>\n",
       "    </tr>\n",
       "    <tr>\n",
       "      <th>4</th>\n",
       "      <td>53</td>\n",
       "      <td>50.504232</td>\n",
       "      <td>92</td>\n",
       "      <td>104.461264</td>\n",
       "      <td>29.889149</td>\n",
       "    </tr>\n",
       "  </tbody>\n",
       "</table>\n",
       "</div>"
      ],
      "text/plain": [
       "   HP        MPG  VOL          SP         WT\n",
       "0  49  53.700681   89  104.185353  28.762059\n",
       "1  55  50.013401   92  105.461264  30.466833\n",
       "2  55  50.013401   92  105.461264  30.193597\n",
       "3  70  45.696322   92  113.461264  30.632114\n",
       "4  53  50.504232   92  104.461264  29.889149"
      ]
     },
     "execution_count": 2,
     "metadata": {},
     "output_type": "execute_result"
    }
   ],
   "source": [
    "car = pd.read_csv('https://raw.githubusercontent.com/Vivekfreak/Datasets/main/Cars.csv')\n",
    "car.head()"
   ]
  },
  {
   "cell_type": "code",
   "execution_count": 3,
   "id": "8c0ec2fb",
   "metadata": {
    "ExecuteTime": {
     "end_time": "2023-02-20T07:35:15.869761Z",
     "start_time": "2023-02-20T07:35:15.684976Z"
    }
   },
   "outputs": [
    {
     "data": {
      "text/plain": [
       "<AxesSubplot:xlabel='MPG'>"
      ]
     },
     "execution_count": 3,
     "metadata": {},
     "output_type": "execute_result"
    },
    {
     "data": {
      "image/png": "[encoded data removed]",
      "text/plain": [
       "<Figure size 640x480 with 1 Axes>"
      ]
     },
     "metadata": {},
     "output_type": "display_data"
    }
   ],
   "source": [
    "sns.boxplot(car.MPG)"
   ]
  },
  {
   "cell_type": "markdown",
   "id": "6bf8a079",
   "metadata": {},
   "source": [
    "### a. P(MPG>38)"
   ]
  },
  {
   "cell_type": "code",
   "execution_count": 4,
   "id": "43f92294",
   "metadata": {
    "ExecuteTime": {
     "end_time": "2023-02-20T07:35:15.895258Z",
     "start_time": "2023-02-20T07:35:15.878018Z"
    }
   },
   "outputs": [
    {
     "data": {
      "text/plain": [
       "0.3475939251582705"
      ]
     },
     "execution_count": 4,
     "metadata": {},
     "output_type": "execute_result"
    }
   ],
   "source": [
    "1-stats.norm.cdf(38,car.MPG.mean(),car.MPG.std())"
   ]
  },
  {
   "cell_type": "markdown",
   "id": "3fabf836",
   "metadata": {},
   "source": [
    "### b. P(MPG<40)"
   ]
  },
  {
   "cell_type": "code",
   "execution_count": 5,
   "id": "4d012455",
   "metadata": {
    "ExecuteTime": {
     "end_time": "2023-02-20T07:35:15.939270Z",
     "start_time": "2023-02-20T07:35:15.920273Z"
    }
   },
   "outputs": [
    {
     "data": {
      "text/plain": [
       "0.7293498762151616"
      ]
     },
     "execution_count": 5,
     "metadata": {},
     "output_type": "execute_result"
    }
   ],
   "source": [
    "stats.norm.cdf(40,car.MPG.mean(),car.MPG.std())"
   ]
  },
  {
   "cell_type": "markdown",
   "id": "ed6605b7",
   "metadata": {},
   "source": [
    "### c. P(20<MPG<50)"
   ]
  },
  {
   "cell_type": "code",
   "execution_count": 6,
   "id": "ac490b3e",
   "metadata": {
    "ExecuteTime": {
     "end_time": "2023-02-20T07:35:15.978501Z",
     "start_time": "2023-02-20T07:35:15.952270Z"
    }
   },
   "outputs": [
    {
     "data": {
      "text/plain": [
       "0.8988689169682046"
      ]
     },
     "execution_count": 6,
     "metadata": {},
     "output_type": "execute_result"
    }
   ],
   "source": [
    "stats.norm.cdf(50,car.MPG.mean(),car.MPG.std())-stats.norm.cdf(20,car.MPG.mean(),car.MPG.std())"
   ]
  }
 ],
 "metadata": {
  "kernelspec": {
   "display_name": "Python 3 (ipykernel)",
   "language": "python",
   "name": "python3"
  },
  "language_info": {
   "codemirror_mode": {
    "name": "ipython",
    "version": 3
   },
   "file_extension": ".py",
   "mimetype": "text/x-python",
   "name": "python",
   "nbconvert_exporter": "python",
   "pygments_lexer": "ipython3",
   "version": "3.9.13"
  }
 },
 "nbformat": 4,
 "nbformat_minor": 5
}
