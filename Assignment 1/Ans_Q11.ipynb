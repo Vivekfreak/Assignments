{
 "cells": [
  {
   "cell_type": "markdown",
   "id": "a37a6e0a",
   "metadata": {},
   "source": [
    "# Importing Libraries"
   ]
  },
  {
   "cell_type": "code",
   "execution_count": 1,
   "id": "eb4c5526",
   "metadata": {
    "ExecuteTime": {
     "end_time": "2023-02-20T07:20:42.528432Z",
     "start_time": "2023-02-20T07:20:42.516896Z"
    }
   },
   "outputs": [],
   "source": [
    "from scipy import stats\n",
    "from scipy.stats import norm"
   ]
  },
  {
   "cell_type": "markdown",
   "id": "48766f0e",
   "metadata": {},
   "source": [
    "### Q. Suppose we want to estimate the average weight of an adult male in Mexico. We draw a random sample of 2,000 men from a population of 3,000,000 men and weigh them. We find that the average person in our sample weighs 200 pounds, and the standard deviation of the sample is 30 pounds. Calculate 94%,98%,96% confidence interval?"
   ]
  },
  {
   "cell_type": "markdown",
   "id": "7bf4f53e",
   "metadata": {},
   "source": [
    "#### N=3000000\n",
    "#### n=2000\n",
    "#### x=200\n",
    "#### s=30"
   ]
  },
  {
   "cell_type": "markdown",
   "id": "1f1a6623",
   "metadata": {},
   "source": [
    "## With CI 94%"
   ]
  },
  {
   "cell_type": "code",
   "execution_count": 2,
   "id": "e880c514",
   "metadata": {
    "ExecuteTime": {
     "end_time": "2023-02-20T07:23:53.561936Z",
     "start_time": "2023-02-20T07:23:53.540169Z"
    }
   },
   "outputs": [
    {
     "data": {
      "text/plain": [
       "(198.738325292158, 201.261674707842)"
      ]
     },
     "execution_count": 2,
     "metadata": {},
     "output_type": "execute_result"
    }
   ],
   "source": [
    "stats.norm.interval(0.94,200,30/(2000**0.5))\n"
   ]
  },
  {
   "cell_type": "markdown",
   "id": "fdd304ba",
   "metadata": {},
   "source": [
    "## With CI 98%"
   ]
  },
  {
   "cell_type": "code",
   "execution_count": 3,
   "id": "0624db33",
   "metadata": {
    "ExecuteTime": {
     "end_time": "2023-02-20T07:24:37.156226Z",
     "start_time": "2023-02-20T07:24:37.145896Z"
    }
   },
   "outputs": [
    {
     "data": {
      "text/plain": [
       "(198.43943840429978, 201.56056159570022)"
      ]
     },
     "execution_count": 3,
     "metadata": {},
     "output_type": "execute_result"
    }
   ],
   "source": [
    "stats.norm.interval(0.98,200,30/(2000**0.5))"
   ]
  },
  {
   "cell_type": "markdown",
   "id": "5ca55154",
   "metadata": {},
   "source": [
    "## With 96%"
   ]
  },
  {
   "cell_type": "code",
   "execution_count": 4,
   "id": "ea362770",
   "metadata": {
    "ExecuteTime": {
     "end_time": "2023-02-20T07:25:06.010330Z",
     "start_time": "2023-02-20T07:25:06.000230Z"
    }
   },
   "outputs": [
    {
     "data": {
      "text/plain": [
       "(198.62230334813333, 201.37769665186667)"
      ]
     },
     "execution_count": 4,
     "metadata": {},
     "output_type": "execute_result"
    }
   ],
   "source": [
    "stats.norm.interval(0.96,200,30/(2000**0.5))\n"
   ]
  }
 ],
 "metadata": {
  "kernelspec": {
   "display_name": "Python 3 (ipykernel)",
   "language": "python",
   "name": "python3"
  },
  "language_info": {
   "codemirror_mode": {
    "name": "ipython",
    "version": 3
   },
   "file_extension": ".py",
   "mimetype": "text/x-python",
   "name": "python",
   "nbconvert_exporter": "python",
   "pygments_lexer": "ipython3",
   "version": "3.9.13"
  }
 },
 "nbformat": 4,
 "nbformat_minor": 5
}
